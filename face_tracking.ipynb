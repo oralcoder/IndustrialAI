{
 "cells": [
  {
   "cell_type": "code",
   "execution_count": 20,
   "metadata": {},
   "outputs": [],
   "source": [
    "from jetbot import Camera\n",
    "import ipywidgets.widgets as widgets\n",
    "from jetbot import bgr8_to_jpeg\n",
    "from IPython.display import display\n",
    "import cv2"
   ]
  },
  {
   "cell_type": "code",
   "execution_count": 21,
   "metadata": {},
   "outputs": [
    {
     "name": "stdout",
     "output_type": "stream",
     "text": [
      "serial Open!\n",
      "serial Close!\n"
     ]
    }
   ],
   "source": [
    "from servoserial import ServoSerial\n",
    "\n",
    "servo_device = ServoSerial()\n",
    "servo_device.Servo_serial_double_control(1, 2400, 2, 2000)"
   ]
  },
  {
   "cell_type": "code",
   "execution_count": 22,
   "metadata": {},
   "outputs": [],
   "source": [
    "!wget -q -N https://raw.githubusercontent.com/opencv/opencv/master/data/haarcascades/haarcascade_frontalface_default.xml"
   ]
  },
  {
   "cell_type": "code",
   "execution_count": 23,
   "metadata": {},
   "outputs": [],
   "source": [
    "face_cascade = cv2.CascadeClassifier('haarcascade_frontalface_default.xml') "
   ]
  },
  {
   "cell_type": "code",
   "execution_count": 25,
   "metadata": {},
   "outputs": [],
   "source": [
    "def face_detect(img):\n",
    "    face_ptr = None\n",
    "    # 그레이스케일로 변경 후 검출, 바운딩 박스는 원본 이미지(컬러)에 그려주면 됨\n",
    "    gray = cv2.cvtColor(img, cv2.COLOR_BGR2GRAY)\n",
    "    faces = face_cascade.detectMultiScale(gray)\n",
    "    if len(faces) > 0:\n",
    "        (face_x, face_y, face_w, face_h) = faces[0]\n",
    "        # 사각형 박스 표시\n",
    "        cv2.rectangle(img, (face_x, face_y), (face_x+face_w, face_y+face_h), (0,255,0), 4)\n",
    "        # 중심좌표 계산\n",
    "        face_cx = face_x + (int(face_w/2))\n",
    "        face_cy = face_y + (int(face_h/2))\n",
    "        face_ptr = (face_x, face_y, face_w, face_h, face_cx, face_cy)\n",
    "        cv2.circle(img, (face_cx, face_cy), 5, (0,0,255))\n",
    "\n",
    "    return img, face_ptr"
   ]
  },
  {
   "cell_type": "code",
   "execution_count": 26,
   "metadata": {},
   "outputs": [],
   "source": [
    "camera = Camera.instance(width=720, height=720)"
   ]
  },
  {
   "cell_type": "code",
   "execution_count": 27,
   "metadata": {},
   "outputs": [
    {
     "data": {
      "application/vnd.jupyter.widget-view+json": {
       "model_id": "9ed70c5d50394ea59f73612bb2ec75fe",
       "version_major": 2,
       "version_minor": 0
      },
      "text/plain": [
       "Image(value=b'', format='jpeg', height='300', width='300')"
      ]
     },
     "metadata": {},
     "output_type": "display_data"
    }
   ],
   "source": [
    "widget = widgets.Image(format='jpeg', width=300, height=300)\n",
    "display(widget)"
   ]
  },
  {
   "cell_type": "code",
   "execution_count": 11,
   "metadata": {},
   "outputs": [],
   "source": [
    "import PID\n",
    "xservo_pid = PID.PositionalPID(1.9, 0.3, 0.35)\n",
    "yservo_pid = PID.PositionalPID(1.5, 0.2, 0.3)"
   ]
  },
  {
   "cell_type": "code",
   "execution_count": 30,
   "metadata": {},
   "outputs": [],
   "source": [
    "while 1:\n",
    "    try:\n",
    "        frame = camera.value\n",
    "        frame = cv2.resize(frame, (300, 300))\n",
    "        image, face_ptr = face_detect(frame)\n",
    "        if face_ptr != None:\n",
    "            xservo_pid.SystemOutput = face_ptr[4]\n",
    "            xservo_pid.SetStepSignal(150)\n",
    "            xservo_pid.SetInertiaTime(0.01, 0.006)\n",
    "            target_valuex = int(2048+xservo_pid.SystemOutput)\n",
    "            \n",
    "            yservo_pid.SystemOutput = face_ptr[5]\n",
    "            yservo_pid.SetStepSignal(150)\n",
    "            yservo_pid.SetInertiaTime(0.01, 0.006)\n",
    "            target_valuey = int(2048+yservo_pid.SystemOutput)\n",
    "            \n",
    "            servo_device.Servo_serial_double_control(1, target_valuex, 2, target_valuey)\n",
    "            \n",
    "        widget.value = bgr8_to_jpeg(frame)\n",
    "               \n",
    "       \n",
    "    except KeyboardInterrupt:\n",
    "        break\n",
    "\n",
    "camera.unobserve_all()"
   ]
  },
  {
   "cell_type": "code",
   "execution_count": null,
   "metadata": {},
   "outputs": [],
   "source": []
  }
 ],
 "metadata": {
  "kernelspec": {
   "display_name": "Python 3",
   "language": "python",
   "name": "python3"
  },
  "language_info": {
   "codemirror_mode": {
    "name": "ipython",
    "version": 3
   },
   "file_extension": ".py",
   "mimetype": "text/x-python",
   "name": "python",
   "nbconvert_exporter": "python",
   "pygments_lexer": "ipython3",
   "version": "3.6.9"
  }
 },
 "nbformat": 4,
 "nbformat_minor": 4
}
