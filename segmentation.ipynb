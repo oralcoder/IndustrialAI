{
 "cells": [
  {
   "cell_type": "markdown",
   "metadata": {},
   "source": [
    "# <font color='crimson'>1. 모듈 가져오기</font>"
   ]
  },
  {
   "cell_type": "markdown",
   "metadata": {},
   "source": [
    "### <font color='darkcyan'>Jetson 관련 Modules</font>"
   ]
  },
  {
   "cell_type": "code",
   "execution_count": 1,
   "metadata": {},
   "outputs": [],
   "source": [
    "import jetson.inference\n",
    "import jetson.utils\n",
    "from segnet_utils import *\n",
    "import argparse\n",
    "from jetbot import Camera"
   ]
  },
  {
   "cell_type": "markdown",
   "metadata": {},
   "source": [
    "### <font color='darkcyan'>이미지 처리 및 출력 Modules</font>"
   ]
  },
  {
   "cell_type": "code",
   "execution_count": 2,
   "metadata": {},
   "outputs": [],
   "source": [
    "import cv2\n",
    "import ipywidgets.widgets as widgets\n",
    "from jetbot import bgr8_to_jpeg"
   ]
  },
  {
   "cell_type": "markdown",
   "metadata": {},
   "source": [
    "---\n",
    "<br>"
   ]
  },
  {
   "cell_type": "markdown",
   "metadata": {},
   "source": [
    "# <font color='crimson'>2. 이미지 가져오기 & 정보 출력</font>"
   ]
  },
  {
   "cell_type": "code",
   "execution_count": 4,
   "metadata": {},
   "outputs": [
    {
     "name": "stdout",
     "output_type": "stream",
     "text": [
      "(512, 1024, 3) <class 'jetson.utils.cudaImage'>\n",
      "1024 512 3\n"
     ]
    }
   ],
   "source": [
    "img = jetson.utils.loadImage('/home/jetbot/works/jetson-inference/build/aarch64/bin/images/city_0.jpg')\n",
    "print(img.shape, type(img))  # (565, 563, 3)\n",
    "print(img.width, img.height, img.channels)"
   ]
  },
  {
   "cell_type": "markdown",
   "metadata": {},
   "source": [
    "---\n",
    "<br>"
   ]
  },
  {
   "cell_type": "markdown",
   "metadata": {},
   "source": [
    "# <font color='crimson'>3. Inference</font>"
   ]
  },
  {
   "cell_type": "markdown",
   "metadata": {},
   "source": [
    "### <font color='darkcyan'>사전 학습된 모델 가져오기</font>\n",
    "* 처음 모델을 가져올 때 많은 시간이 소요됨"
   ]
  },
  {
   "cell_type": "code",
   "execution_count": 3,
   "metadata": {},
   "outputs": [],
   "source": [
    "net = jetson.inference.segNet('fcn-resnet18-cityscapes')"
   ]
  },
  {
   "cell_type": "markdown",
   "metadata": {},
   "source": [
    "### <font color='darkcyan'>예측</font>"
   ]
  },
  {
   "cell_type": "code",
   "execution_count": 33,
   "metadata": {},
   "outputs": [],
   "source": [
    "args = argparse.Namespace()\n",
    "args.stats='store_false'               # 통계 저장 여부\n",
    "args.visualize = 'mask,overlay'        # 출력 결과\n",
    "args.alpha = 150.0                     # alpha blending: 0 - 255\n",
    "\n",
    "buffers = segmentationBuffers(net, args) # 픽셀 정보를 저장할 버퍼\n",
    "\n",
    "buffers.Alloc(img.shape, img.format)\n",
    "\n",
    "net.SetOverlayAlpha(args.alpha)\n",
    "net.Process(img)\n",
    "\n",
    "net.Overlay(buffers.overlay, filter_mode='linear')  # linear | point\n",
    "net.Mask(buffers.mask, filter_mode='linear')\n",
    "\n",
    "jetson.utils.cudaOverlay(buffers.overlay, buffers.composite, 0, 0)\n",
    "jetson.utils.cudaOverlay(buffers.mask, buffers.composite, buffers.overlay.width, 0)\n",
    "\n",
    "segImg = buffers.output\n"
   ]
  },
  {
   "cell_type": "markdown",
   "metadata": {},
   "source": [
    "---\n",
    "<br>"
   ]
  },
  {
   "cell_type": "markdown",
   "metadata": {},
   "source": [
    "# <font color='crimson'>4. 이미지 출력</font>"
   ]
  },
  {
   "cell_type": "markdown",
   "metadata": {},
   "source": [
    "### <font color='darkcyan'>이미지 변환</font>"
   ]
  },
  {
   "cell_type": "code",
   "execution_count": 34,
   "metadata": {},
   "outputs": [],
   "source": [
    "image = jetson.utils.cudaToNumpy(segImg )  #cudaImage 형식을 numpy로 변환\n",
    "image = cv2.cvtColor(image, cv2.COLOR_RGB2BGR) #OpenCV에서 사용하는 BGR 형태의 numpy로 변환\n",
    "image = bgr8_to_jpeg(image)  #numpy를 이미지로 변환"
   ]
  },
  {
   "cell_type": "markdown",
   "metadata": {},
   "source": [
    "### <font color='darkcyan'>이미지 출력 위젯 생성</font>"
   ]
  },
  {
   "cell_type": "code",
   "execution_count": 35,
   "metadata": {},
   "outputs": [],
   "source": [
    "widget = widgets.Image(format='jpeg', width=300, height=300)"
   ]
  },
  {
   "cell_type": "markdown",
   "metadata": {},
   "source": [
    "### <font color='darkcyan'>이미지 출력</font>"
   ]
  },
  {
   "cell_type": "code",
   "execution_count": 36,
   "metadata": {},
   "outputs": [
    {
     "data": {
      "application/vnd.jupyter.widget-view+json": {
       "model_id": "f5c051f10cf1401e9421b3c6c381d373",
       "version_major": 2,
       "version_minor": 0
      },
      "text/plain": [
       "Image(value=b'\\xff\\xd8\\xff\\xe0\\x00\\x10JFIF\\x00\\x01\\x01\\x00\\x00\\x01\\x00\\x01\\x00\\x00\\xff\\xdb\\x00C\\x00\\x02\\x01\\x0…"
      ]
     },
     "metadata": {},
     "output_type": "display_data"
    }
   ],
   "source": [
    "widget.value = image\n",
    "display(widget)"
   ]
  },
  {
   "cell_type": "markdown",
   "metadata": {},
   "source": [
    "---\n",
    "<br>"
   ]
  },
  {
   "cell_type": "markdown",
   "metadata": {},
   "source": [
    "# <font color='crimson'>5. 카메라 활용한 분류</font>"
   ]
  },
  {
   "cell_type": "code",
   "execution_count": 3,
   "metadata": {},
   "outputs": [],
   "source": [
    "net = jetson.inference.segNet('fcn-resnet18-sun')"
   ]
  },
  {
   "cell_type": "markdown",
   "metadata": {},
   "source": [
    "### <font color='darkcyan'>카메라 설정</font>"
   ]
  },
  {
   "cell_type": "code",
   "execution_count": 4,
   "metadata": {},
   "outputs": [],
   "source": [
    "camera = Camera.instance(width=300, height=300, fps=1)"
   ]
  },
  {
   "cell_type": "markdown",
   "metadata": {},
   "source": [
    "### <font color='darkcyan'>이미지 출력 위젯 설정</font>"
   ]
  },
  {
   "cell_type": "code",
   "execution_count": 5,
   "metadata": {},
   "outputs": [
    {
     "data": {
      "application/vnd.jupyter.widget-view+json": {
       "model_id": "cc872c21ea914f06abc79cd2eb5d50e7",
       "version_major": 2,
       "version_minor": 0
      },
      "text/plain": [
       "Image(value=b'', format='jpeg', height='300', width='300')"
      ]
     },
     "metadata": {},
     "output_type": "display_data"
    }
   ],
   "source": [
    "widget = widgets.Image(format='jpeg', width=300, height=300)\n",
    "display(widget)"
   ]
  },
  {
   "cell_type": "code",
   "execution_count": 6,
   "metadata": {},
   "outputs": [],
   "source": [
    "while 1:\n",
    "    try:\n",
    "        frame = camera.value\n",
    "        img_cuda = jetson.utils.cudaFromNumpy(frame)\n",
    "        \n",
    "        args = argparse.Namespace()\n",
    "        args.stats='store_false'               # 통계 저장 여부\n",
    "        args.visualize = 'mask,overlay'        # 출력 결과\n",
    "        args.alpha = 150.0                     # alpha blending: 0 - 255\n",
    "\n",
    "        buffers = segmentationBuffers(net, args) # 픽셀 정보를 저장할 버퍼\n",
    "\n",
    "        buffers.Alloc(img_cuda.shape, img_cuda.format)\n",
    "\n",
    "        net.SetOverlayAlpha(args.alpha)\n",
    "        net.Process(img_cuda)\n",
    "\n",
    "        net.Overlay(buffers.overlay, filter_mode='linear')  # linear | point\n",
    "        net.Mask(buffers.mask, filter_mode='linear')\n",
    "\n",
    "        jetson.utils.cudaOverlay(buffers.overlay, buffers.composite, 0, 0)\n",
    "        jetson.utils.cudaOverlay(buffers.mask, buffers.composite, buffers.overlay.width, 0)\n",
    "\n",
    "        segImg = buffers.output\n",
    "\n",
    "        image = jetson.utils.cudaToNumpy(segImg)\n",
    "        widget.value = bgr8_to_jpeg(image)\n",
    "    except KeyboardInterrupt:\n",
    "        break\n",
    "\n",
    "camera.stop()\n",
    "del camera"
   ]
  },
  {
   "cell_type": "code",
   "execution_count": null,
   "metadata": {},
   "outputs": [],
   "source": []
  }
 ],
 "metadata": {
  "kernelspec": {
   "display_name": "Python 3",
   "language": "python",
   "name": "python3"
  },
  "language_info": {
   "codemirror_mode": {
    "name": "ipython",
    "version": 3
   },
   "file_extension": ".py",
   "mimetype": "text/x-python",
   "name": "python",
   "nbconvert_exporter": "python",
   "pygments_lexer": "ipython3",
   "version": "3.6.9"
  }
 },
 "nbformat": 4,
 "nbformat_minor": 4
}
