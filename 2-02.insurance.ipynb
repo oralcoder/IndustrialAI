{
  "nbformat": 4,
  "nbformat_minor": 0,
  "metadata": {
    "colab": {
      "name": "insurance.ipynb",
      "provenance": [],
      "collapsed_sections": [],
      "mount_file_id": "1VPhCsV_VU0OVdFRd_2olVqks_58frN5m",
      "authorship_tag": "ABX9TyNRctOMGPZ1rFDslh82H1wS",
      "include_colab_link": true
    },
    "kernelspec": {
      "name": "python3",
      "display_name": "Python 3"
    },
    "language_info": {
      "name": "python"
    }
  },
  "cells": [
    {
      "cell_type": "markdown",
      "metadata": {
        "id": "view-in-github",
        "colab_type": "text"
      },
      "source": [
        "<a href=\"https://colab.research.google.com/github/oralcoder/IndustrialAI/blob/main/2-02.insurance.ipynb\" target=\"_parent\"><img src=\"https://colab.research.google.com/assets/colab-badge.svg\" alt=\"Open In Colab\"/></a>"
      ]
    },
    {
      "cell_type": "markdown",
      "metadata": {
        "id": "nw4N1jXDdKkN"
      },
      "source": [
        "## Medical Cost Personal Datasets\n",
        "\n",
        "https://www.kaggle.com/mirichoi0218/insurance"
      ]
    },
    {
      "cell_type": "markdown",
      "metadata": {
        "id": "3dJe8u6WW7vl"
      },
      "source": [
        "#1.모듈 가져오기"
      ]
    },
    {
      "cell_type": "code",
      "metadata": {
        "id": "6qKm2MBBYkTB"
      },
      "source": [
        "import numpy as np\n",
        "import pandas as pd\n",
        "import matplotlib.pyplot as plt\n",
        "import seaborn as sns"
      ],
      "execution_count": null,
      "outputs": []
    },
    {
      "cell_type": "markdown",
      "metadata": {
        "id": "91U9L7pWZaSH"
      },
      "source": [
        "#2.데이터 가져오기"
      ]
    },
    {
      "cell_type": "code",
      "metadata": {
        "id": "ca3huqF-Yt8n"
      },
      "source": [
        "df = pd.read_csv('/content/drive/MyDrive/VISION/insurance.csv')"
      ],
      "execution_count": null,
      "outputs": []
    },
    {
      "cell_type": "markdown",
      "metadata": {
        "id": "80E6Ms4tmE4M"
      },
      "source": [
        "#3.데이터 분석\n",
        "\n",
        "#### 데이터 규모, 컬럼의 의미, 컬럼 타입, 결측 값 확인\n",
        "#### 중복된 항목 확인\n",
        "#### 결측 값 처리\n",
        "#### 상관관계 확인\n",
        "#### 범주형 데이터 처리\n",
        "#### 이상치 데이터 처리\n",
        "#### 데이터 분리\n",
        "#### 스케일링"
      ]
    },
    {
      "cell_type": "markdown",
      "metadata": {
        "id": "R5zsk18fhKXp"
      },
      "source": [
        "##3.1. 데이터 규모, 컬럼의 의미, 컬럼 타입, 결측 값 확인\n"
      ]
    },
    {
      "cell_type": "code",
      "metadata": {
        "id": "2Qz6Y2r5gNI9",
        "colab": {
          "base_uri": "https://localhost:8080/",
          "height": 206
        },
        "outputId": "170a25fa-aead-4a64-bb73-a962d2f6213f"
      },
      "source": [
        "df.head()"
      ],
      "execution_count": null,
      "outputs": [
        {
          "output_type": "execute_result",
          "data": {
            "text/plain": [
              "    age     sex    bmi  children smoker     region      charges\n",
              "0  19.0  female  27.90         0    yes  southwest  16884.92400\n",
              "1  18.0    male  33.77         1     no  southeast   1725.55230\n",
              "2  28.0    male  33.00         3     no  southeast   4449.46200\n",
              "3  33.0    male    NaN         0     no  northwest  21984.47061\n",
              "4  32.0    male  28.88         0     no  northwest   3866.85520"
            ],
            "text/html": [
              "\n",
              "  <div id=\"df-011de821-469c-47fb-abd4-ecf22dfc5143\">\n",
              "    <div class=\"colab-df-container\">\n",
              "      <div>\n",
              "<style scoped>\n",
              "    .dataframe tbody tr th:only-of-type {\n",
              "        vertical-align: middle;\n",
              "    }\n",
              "\n",
              "    .dataframe tbody tr th {\n",
              "        vertical-align: top;\n",
              "    }\n",
              "\n",
              "    .dataframe thead th {\n",
              "        text-align: right;\n",
              "    }\n",
              "</style>\n",
              "<table border=\"1\" class=\"dataframe\">\n",
              "  <thead>\n",
              "    <tr style=\"text-align: right;\">\n",
              "      <th></th>\n",
              "      <th>age</th>\n",
              "      <th>sex</th>\n",
              "      <th>bmi</th>\n",
              "      <th>children</th>\n",
              "      <th>smoker</th>\n",
              "      <th>region</th>\n",
              "      <th>charges</th>\n",
              "    </tr>\n",
              "  </thead>\n",
              "  <tbody>\n",
              "    <tr>\n",
              "      <th>0</th>\n",
              "      <td>19.0</td>\n",
              "      <td>female</td>\n",
              "      <td>27.90</td>\n",
              "      <td>0</td>\n",
              "      <td>yes</td>\n",
              "      <td>southwest</td>\n",
              "      <td>16884.92400</td>\n",
              "    </tr>\n",
              "    <tr>\n",
              "      <th>1</th>\n",
              "      <td>18.0</td>\n",
              "      <td>male</td>\n",
              "      <td>33.77</td>\n",
              "      <td>1</td>\n",
              "      <td>no</td>\n",
              "      <td>southeast</td>\n",
              "      <td>1725.55230</td>\n",
              "    </tr>\n",
              "    <tr>\n",
              "      <th>2</th>\n",
              "      <td>28.0</td>\n",
              "      <td>male</td>\n",
              "      <td>33.00</td>\n",
              "      <td>3</td>\n",
              "      <td>no</td>\n",
              "      <td>southeast</td>\n",
              "      <td>4449.46200</td>\n",
              "    </tr>\n",
              "    <tr>\n",
              "      <th>3</th>\n",
              "      <td>33.0</td>\n",
              "      <td>male</td>\n",
              "      <td>NaN</td>\n",
              "      <td>0</td>\n",
              "      <td>no</td>\n",
              "      <td>northwest</td>\n",
              "      <td>21984.47061</td>\n",
              "    </tr>\n",
              "    <tr>\n",
              "      <th>4</th>\n",
              "      <td>32.0</td>\n",
              "      <td>male</td>\n",
              "      <td>28.88</td>\n",
              "      <td>0</td>\n",
              "      <td>no</td>\n",
              "      <td>northwest</td>\n",
              "      <td>3866.85520</td>\n",
              "    </tr>\n",
              "  </tbody>\n",
              "</table>\n",
              "</div>\n",
              "      <button class=\"colab-df-convert\" onclick=\"convertToInteractive('df-011de821-469c-47fb-abd4-ecf22dfc5143')\"\n",
              "              title=\"Convert this dataframe to an interactive table.\"\n",
              "              style=\"display:none;\">\n",
              "        \n",
              "  <svg xmlns=\"http://www.w3.org/2000/svg\" height=\"24px\"viewBox=\"0 0 24 24\"\n",
              "       width=\"24px\">\n",
              "    <path d=\"M0 0h24v24H0V0z\" fill=\"none\"/>\n",
              "    <path d=\"M18.56 5.44l.94 2.06.94-2.06 2.06-.94-2.06-.94-.94-2.06-.94 2.06-2.06.94zm-11 1L8.5 8.5l.94-2.06 2.06-.94-2.06-.94L8.5 2.5l-.94 2.06-2.06.94zm10 10l.94 2.06.94-2.06 2.06-.94-2.06-.94-.94-2.06-.94 2.06-2.06.94z\"/><path d=\"M17.41 7.96l-1.37-1.37c-.4-.4-.92-.59-1.43-.59-.52 0-1.04.2-1.43.59L10.3 9.45l-7.72 7.72c-.78.78-.78 2.05 0 2.83L4 21.41c.39.39.9.59 1.41.59.51 0 1.02-.2 1.41-.59l7.78-7.78 2.81-2.81c.8-.78.8-2.07 0-2.86zM5.41 20L4 18.59l7.72-7.72 1.47 1.35L5.41 20z\"/>\n",
              "  </svg>\n",
              "      </button>\n",
              "      \n",
              "  <style>\n",
              "    .colab-df-container {\n",
              "      display:flex;\n",
              "      flex-wrap:wrap;\n",
              "      gap: 12px;\n",
              "    }\n",
              "\n",
              "    .colab-df-convert {\n",
              "      background-color: #E8F0FE;\n",
              "      border: none;\n",
              "      border-radius: 50%;\n",
              "      cursor: pointer;\n",
              "      display: none;\n",
              "      fill: #1967D2;\n",
              "      height: 32px;\n",
              "      padding: 0 0 0 0;\n",
              "      width: 32px;\n",
              "    }\n",
              "\n",
              "    .colab-df-convert:hover {\n",
              "      background-color: #E2EBFA;\n",
              "      box-shadow: 0px 1px 2px rgba(60, 64, 67, 0.3), 0px 1px 3px 1px rgba(60, 64, 67, 0.15);\n",
              "      fill: #174EA6;\n",
              "    }\n",
              "\n",
              "    [theme=dark] .colab-df-convert {\n",
              "      background-color: #3B4455;\n",
              "      fill: #D2E3FC;\n",
              "    }\n",
              "\n",
              "    [theme=dark] .colab-df-convert:hover {\n",
              "      background-color: #434B5C;\n",
              "      box-shadow: 0px 1px 3px 1px rgba(0, 0, 0, 0.15);\n",
              "      filter: drop-shadow(0px 1px 2px rgba(0, 0, 0, 0.3));\n",
              "      fill: #FFFFFF;\n",
              "    }\n",
              "  </style>\n",
              "\n",
              "      <script>\n",
              "        const buttonEl =\n",
              "          document.querySelector('#df-011de821-469c-47fb-abd4-ecf22dfc5143 button.colab-df-convert');\n",
              "        buttonEl.style.display =\n",
              "          google.colab.kernel.accessAllowed ? 'block' : 'none';\n",
              "\n",
              "        async function convertToInteractive(key) {\n",
              "          const element = document.querySelector('#df-011de821-469c-47fb-abd4-ecf22dfc5143');\n",
              "          const dataTable =\n",
              "            await google.colab.kernel.invokeFunction('convertToInteractive',\n",
              "                                                     [key], {});\n",
              "          if (!dataTable) return;\n",
              "\n",
              "          const docLinkHtml = 'Like what you see? Visit the ' +\n",
              "            '<a target=\"_blank\" href=https://colab.research.google.com/notebooks/data_table.ipynb>data table notebook</a>'\n",
              "            + ' to learn more about interactive tables.';\n",
              "          element.innerHTML = '';\n",
              "          dataTable['output_type'] = 'display_data';\n",
              "          await google.colab.output.renderOutput(dataTable, element);\n",
              "          const docLink = document.createElement('div');\n",
              "          docLink.innerHTML = docLinkHtml;\n",
              "          element.appendChild(docLink);\n",
              "        }\n",
              "      </script>\n",
              "    </div>\n",
              "  </div>\n",
              "  "
            ]
          },
          "metadata": {},
          "execution_count": 25
        }
      ]
    },
    {
      "cell_type": "code",
      "metadata": {
        "colab": {
          "base_uri": "https://localhost:8080/"
        },
        "id": "fpjQcP2fij7o",
        "outputId": "e8e39995-f557-4dda-9700-4c25f17facbf"
      },
      "source": [
        "df.info()"
      ],
      "execution_count": null,
      "outputs": [
        {
          "output_type": "stream",
          "name": "stdout",
          "text": [
            "<class 'pandas.core.frame.DataFrame'>\n",
            "RangeIndex: 1338 entries, 0 to 1337\n",
            "Data columns (total 7 columns):\n",
            " #   Column    Non-Null Count  Dtype  \n",
            "---  ------    --------------  -----  \n",
            " 0   age       1333 non-null   float64\n",
            " 1   sex       1334 non-null   object \n",
            " 2   bmi       1334 non-null   float64\n",
            " 3   children  1338 non-null   int64  \n",
            " 4   smoker    1338 non-null   object \n",
            " 5   region    1338 non-null   object \n",
            " 6   charges   1338 non-null   float64\n",
            "dtypes: float64(3), int64(1), object(3)\n",
            "memory usage: 73.3+ KB\n"
          ]
        }
      ]
    },
    {
      "cell_type": "markdown",
      "metadata": {
        "id": "yItmAwaDiYAY"
      },
      "source": [
        "##3.2 중복된 항목 확인 / 제거\n",
        "\n",
        "**중복된 항목 확인**\n",
        "\n",
        ".duplicated([keep='first'|'last'| False])\n",
        "\n",
        "* keep='first' : 첫 번째 중복된 값은 False, 나머지는 모두 True 반환\n",
        "\n",
        "* keep='last' : 마지막 중복된 값은 False, 나머지는 모두 True 반환\n",
        "\n",
        "* keep='False' : 중복이면 True 반환\n",
        "\n",
        "**중복된 항목 삭제**\n",
        "\n",
        ".drop_duplicates()\n",
        "\n"
      ]
    },
    {
      "cell_type": "code",
      "metadata": {
        "colab": {
          "base_uri": "https://localhost:8080/"
        },
        "id": "SXuVKlAljH3R",
        "outputId": "f7b71761-f1a6-40e8-9b44-26466c372838"
      },
      "source": [
        "# 중복 여부 출력\n",
        "df.duplicated()"
      ],
      "execution_count": null,
      "outputs": [
        {
          "output_type": "execute_result",
          "data": {
            "text/plain": [
              "0       False\n",
              "1       False\n",
              "2       False\n",
              "3       False\n",
              "4       False\n",
              "        ...  \n",
              "1333    False\n",
              "1334    False\n",
              "1335    False\n",
              "1336    False\n",
              "1337    False\n",
              "Length: 1338, dtype: bool"
            ]
          },
          "metadata": {},
          "execution_count": 27
        }
      ]
    },
    {
      "cell_type": "code",
      "metadata": {
        "colab": {
          "base_uri": "https://localhost:8080/",
          "height": 112
        },
        "id": "I2lYBlNNjT9u",
        "outputId": "3e7024f1-9662-4195-8965-53af54920c9d"
      },
      "source": [
        "# 중복이면 True 반환 -> True인 항목 출력\n",
        "df[df.duplicated(keep=False)]"
      ],
      "execution_count": null,
      "outputs": [
        {
          "output_type": "execute_result",
          "data": {
            "text/plain": [
              "      age   sex    bmi  children smoker     region    charges\n",
              "195  19.0  male  30.59         0     no  northwest  1639.5631\n",
              "581  19.0  male  30.59         0     no  northwest  1639.5631"
            ],
            "text/html": [
              "\n",
              "  <div id=\"df-27e09202-e6cb-4152-860b-e5ac35f56dc5\">\n",
              "    <div class=\"colab-df-container\">\n",
              "      <div>\n",
              "<style scoped>\n",
              "    .dataframe tbody tr th:only-of-type {\n",
              "        vertical-align: middle;\n",
              "    }\n",
              "\n",
              "    .dataframe tbody tr th {\n",
              "        vertical-align: top;\n",
              "    }\n",
              "\n",
              "    .dataframe thead th {\n",
              "        text-align: right;\n",
              "    }\n",
              "</style>\n",
              "<table border=\"1\" class=\"dataframe\">\n",
              "  <thead>\n",
              "    <tr style=\"text-align: right;\">\n",
              "      <th></th>\n",
              "      <th>age</th>\n",
              "      <th>sex</th>\n",
              "      <th>bmi</th>\n",
              "      <th>children</th>\n",
              "      <th>smoker</th>\n",
              "      <th>region</th>\n",
              "      <th>charges</th>\n",
              "    </tr>\n",
              "  </thead>\n",
              "  <tbody>\n",
              "    <tr>\n",
              "      <th>195</th>\n",
              "      <td>19.0</td>\n",
              "      <td>male</td>\n",
              "      <td>30.59</td>\n",
              "      <td>0</td>\n",
              "      <td>no</td>\n",
              "      <td>northwest</td>\n",
              "      <td>1639.5631</td>\n",
              "    </tr>\n",
              "    <tr>\n",
              "      <th>581</th>\n",
              "      <td>19.0</td>\n",
              "      <td>male</td>\n",
              "      <td>30.59</td>\n",
              "      <td>0</td>\n",
              "      <td>no</td>\n",
              "      <td>northwest</td>\n",
              "      <td>1639.5631</td>\n",
              "    </tr>\n",
              "  </tbody>\n",
              "</table>\n",
              "</div>\n",
              "      <button class=\"colab-df-convert\" onclick=\"convertToInteractive('df-27e09202-e6cb-4152-860b-e5ac35f56dc5')\"\n",
              "              title=\"Convert this dataframe to an interactive table.\"\n",
              "              style=\"display:none;\">\n",
              "        \n",
              "  <svg xmlns=\"http://www.w3.org/2000/svg\" height=\"24px\"viewBox=\"0 0 24 24\"\n",
              "       width=\"24px\">\n",
              "    <path d=\"M0 0h24v24H0V0z\" fill=\"none\"/>\n",
              "    <path d=\"M18.56 5.44l.94 2.06.94-2.06 2.06-.94-2.06-.94-.94-2.06-.94 2.06-2.06.94zm-11 1L8.5 8.5l.94-2.06 2.06-.94-2.06-.94L8.5 2.5l-.94 2.06-2.06.94zm10 10l.94 2.06.94-2.06 2.06-.94-2.06-.94-.94-2.06-.94 2.06-2.06.94z\"/><path d=\"M17.41 7.96l-1.37-1.37c-.4-.4-.92-.59-1.43-.59-.52 0-1.04.2-1.43.59L10.3 9.45l-7.72 7.72c-.78.78-.78 2.05 0 2.83L4 21.41c.39.39.9.59 1.41.59.51 0 1.02-.2 1.41-.59l7.78-7.78 2.81-2.81c.8-.78.8-2.07 0-2.86zM5.41 20L4 18.59l7.72-7.72 1.47 1.35L5.41 20z\"/>\n",
              "  </svg>\n",
              "      </button>\n",
              "      \n",
              "  <style>\n",
              "    .colab-df-container {\n",
              "      display:flex;\n",
              "      flex-wrap:wrap;\n",
              "      gap: 12px;\n",
              "    }\n",
              "\n",
              "    .colab-df-convert {\n",
              "      background-color: #E8F0FE;\n",
              "      border: none;\n",
              "      border-radius: 50%;\n",
              "      cursor: pointer;\n",
              "      display: none;\n",
              "      fill: #1967D2;\n",
              "      height: 32px;\n",
              "      padding: 0 0 0 0;\n",
              "      width: 32px;\n",
              "    }\n",
              "\n",
              "    .colab-df-convert:hover {\n",
              "      background-color: #E2EBFA;\n",
              "      box-shadow: 0px 1px 2px rgba(60, 64, 67, 0.3), 0px 1px 3px 1px rgba(60, 64, 67, 0.15);\n",
              "      fill: #174EA6;\n",
              "    }\n",
              "\n",
              "    [theme=dark] .colab-df-convert {\n",
              "      background-color: #3B4455;\n",
              "      fill: #D2E3FC;\n",
              "    }\n",
              "\n",
              "    [theme=dark] .colab-df-convert:hover {\n",
              "      background-color: #434B5C;\n",
              "      box-shadow: 0px 1px 3px 1px rgba(0, 0, 0, 0.15);\n",
              "      filter: drop-shadow(0px 1px 2px rgba(0, 0, 0, 0.3));\n",
              "      fill: #FFFFFF;\n",
              "    }\n",
              "  </style>\n",
              "\n",
              "      <script>\n",
              "        const buttonEl =\n",
              "          document.querySelector('#df-27e09202-e6cb-4152-860b-e5ac35f56dc5 button.colab-df-convert');\n",
              "        buttonEl.style.display =\n",
              "          google.colab.kernel.accessAllowed ? 'block' : 'none';\n",
              "\n",
              "        async function convertToInteractive(key) {\n",
              "          const element = document.querySelector('#df-27e09202-e6cb-4152-860b-e5ac35f56dc5');\n",
              "          const dataTable =\n",
              "            await google.colab.kernel.invokeFunction('convertToInteractive',\n",
              "                                                     [key], {});\n",
              "          if (!dataTable) return;\n",
              "\n",
              "          const docLinkHtml = 'Like what you see? Visit the ' +\n",
              "            '<a target=\"_blank\" href=https://colab.research.google.com/notebooks/data_table.ipynb>data table notebook</a>'\n",
              "            + ' to learn more about interactive tables.';\n",
              "          element.innerHTML = '';\n",
              "          dataTable['output_type'] = 'display_data';\n",
              "          await google.colab.output.renderOutput(dataTable, element);\n",
              "          const docLink = document.createElement('div');\n",
              "          docLink.innerHTML = docLinkHtml;\n",
              "          element.appendChild(docLink);\n",
              "        }\n",
              "      </script>\n",
              "    </div>\n",
              "  </div>\n",
              "  "
            ]
          },
          "metadata": {},
          "execution_count": 28
        }
      ]
    },
    {
      "cell_type": "code",
      "metadata": {
        "colab": {
          "base_uri": "https://localhost:8080/"
        },
        "id": "XMElONhqlXeC",
        "outputId": "718ddf3b-ba18-485d-87eb-21bb90c6f359"
      },
      "source": [
        "# 중복이면 True 반환(단 첫 번째 항목은 제외) -> True인 항목 삭제 -> Index 재정렬\n",
        "df.drop_duplicates(keep=\"first\", ignore_index=True, inplace=True)\n",
        "df.info()"
      ],
      "execution_count": null,
      "outputs": [
        {
          "output_type": "stream",
          "name": "stdout",
          "text": [
            "<class 'pandas.core.frame.DataFrame'>\n",
            "RangeIndex: 1337 entries, 0 to 1336\n",
            "Data columns (total 7 columns):\n",
            " #   Column    Non-Null Count  Dtype  \n",
            "---  ------    --------------  -----  \n",
            " 0   age       1332 non-null   float64\n",
            " 1   sex       1333 non-null   object \n",
            " 2   bmi       1333 non-null   float64\n",
            " 3   children  1337 non-null   int64  \n",
            " 4   smoker    1337 non-null   object \n",
            " 5   region    1337 non-null   object \n",
            " 6   charges   1337 non-null   float64\n",
            "dtypes: float64(3), int64(1), object(3)\n",
            "memory usage: 73.2+ KB\n"
          ]
        }
      ]
    },
    {
      "cell_type": "code",
      "metadata": {
        "colab": {
          "base_uri": "https://localhost:8080/"
        },
        "id": "AqhKolCUlwy5",
        "outputId": "b73301cf-2b4a-4a27-db1d-966c76899223"
      },
      "source": [
        "df.iloc[581]"
      ],
      "execution_count": null,
      "outputs": [
        {
          "output_type": "execute_result",
          "data": {
            "text/plain": [
              "age              39.0\n",
              "sex              male\n",
              "bmi             45.43\n",
              "children            2\n",
              "smoker             no\n",
              "region      southeast\n",
              "charges     6356.2707\n",
              "Name: 581, dtype: object"
            ]
          },
          "metadata": {},
          "execution_count": 30
        }
      ]
    },
    {
      "cell_type": "markdown",
      "metadata": {
        "id": "ebvj_c9yogxY"
      },
      "source": [
        "##3.3 결측치 처리\n"
      ]
    },
    {
      "cell_type": "markdown",
      "metadata": {
        "id": "DOaLQkByp41T"
      },
      "source": [
        "###3.3.1 결측치 확인 - info(), missingno()"
      ]
    },
    {
      "cell_type": "code",
      "metadata": {
        "colab": {
          "base_uri": "https://localhost:8080/"
        },
        "id": "mw6aS9tYqBqp",
        "outputId": "8ef31aeb-7825-4c48-9721-097b4766e741"
      },
      "source": [
        "df.info()"
      ],
      "execution_count": null,
      "outputs": [
        {
          "output_type": "stream",
          "name": "stdout",
          "text": [
            "<class 'pandas.core.frame.DataFrame'>\n",
            "RangeIndex: 1337 entries, 0 to 1336\n",
            "Data columns (total 7 columns):\n",
            " #   Column    Non-Null Count  Dtype  \n",
            "---  ------    --------------  -----  \n",
            " 0   age       1332 non-null   float64\n",
            " 1   sex       1333 non-null   object \n",
            " 2   bmi       1333 non-null   float64\n",
            " 3   children  1337 non-null   int64  \n",
            " 4   smoker    1337 non-null   object \n",
            " 5   region    1337 non-null   object \n",
            " 6   charges   1337 non-null   float64\n",
            "dtypes: float64(3), int64(1), object(3)\n",
            "memory usage: 73.2+ KB\n"
          ]
        }
      ]
    },
    {
      "cell_type": "markdown",
      "metadata": {
        "id": "107sZeoAp7mi"
      },
      "source": [
        "####결측치 확인 - missingno"
      ]
    },
    {
      "cell_type": "code",
      "metadata": {
        "colab": {
          "base_uri": "https://localhost:8080/",
          "height": 456
        },
        "id": "xWnsksuloo3-",
        "outputId": "2b2b3549-c4f8-486a-a31b-68e8bebbf020"
      },
      "source": [
        "import missingno\n",
        "missingno.matrix(df, figsize=(30,20))"
      ],
      "execution_count": null,
      "outputs": [
        {
          "output_type": "execute_result",
          "data": {
            "text/plain": [
              "<matplotlib.axes._subplots.AxesSubplot at 0x7f2ddba08310>"
            ]
          },
          "metadata": {},
          "execution_count": 32
        },
        {
          "output_type": "display_data",
          "data": {
            "text/plain": [
              "<Figure size 2160x1440 with 2 Axes>"
            ],
            "image/png": "[encoded data removed]"
          },
          "metadata": {
            "needs_background": "light"
          }
        }
      ]
    },
    {
      "cell_type": "markdown",
      "metadata": {
        "id": "3V4r-uZaqY-w"
      },
      "source": [
        "###3.3.2 결측치 채우기\n",
        "\n",
        "**age - 중간 값으로 채우기**\n",
        "\n",
        "**sex  - 최빈 값으로 채우기**\n",
        "\n",
        "**bmi  = 평균으로 채우기**"
      ]
    },
    {
      "cell_type": "markdown",
      "metadata": {
        "id": "SDAk4Wa0HjMN"
      },
      "source": [
        "####**age - 중간 값으로 채우기**\n",
        "\n",
        "**fillna()**\n",
        "\n",
        "**median()**"
      ]
    },
    {
      "cell_type": "code",
      "metadata": {
        "colab": {
          "base_uri": "https://localhost:8080/"
        },
        "id": "_Aa-sVXDJI3G",
        "outputId": "b5b30283-2bdf-461e-eb6d-a8a7d221382f"
      },
      "source": [
        "# 중간 값 확인\n",
        "df['age'].median()"
      ],
      "execution_count": null,
      "outputs": [
        {
          "output_type": "execute_result",
          "data": {
            "text/plain": [
              "39.0"
            ]
          },
          "metadata": {},
          "execution_count": 33
        }
      ]
    },
    {
      "cell_type": "code",
      "metadata": {
        "colab": {
          "base_uri": "https://localhost:8080/",
          "height": 359
        },
        "id": "W13DT2RuJ7I2",
        "outputId": "fb698d33-0032-4440-ac83-76e4e3788eea"
      },
      "source": [
        "# 중간 값으로 채우기\n",
        "df['age'].fillna(df['age'].median(), inplace=True)\n",
        "missingno.matrix(df, figsize=(30,15))"
      ],
      "execution_count": null,
      "outputs": [
        {
          "output_type": "execute_result",
          "data": {
            "text/plain": [
              "<matplotlib.axes._subplots.AxesSubplot at 0x7f2ddb92dcd0>"
            ]
          },
          "metadata": {},
          "execution_count": 34
        },
        {
          "output_type": "display_data",
          "data": {
            "text/plain": [
              "<Figure size 2160x1080 with 2 Axes>"
            ],
            "image/png": "[encoded data removed]"
          },
          "metadata": {
            "needs_background": "light"
          }
        }
      ]
    },
    {
      "cell_type": "markdown",
      "metadata": {
        "id": "pZP__zeGKRnb"
      },
      "source": [
        "####**sex - 최빈값으로 채우기**\n",
        "\n",
        "**idxmax()**"
      ]
    },
    {
      "cell_type": "code",
      "metadata": {
        "colab": {
          "base_uri": "https://localhost:8080/",
          "height": 175
        },
        "id": "dZUzfJw4KRPV",
        "outputId": "03d2cc60-ce39-4a0c-f16f-501fd0733542"
      },
      "source": [
        "# sex가 null인 행 확인\n",
        "df[df['sex'].isnull()]"
      ],
      "execution_count": null,
      "outputs": [
        {
          "output_type": "execute_result",
          "data": {
            "text/plain": [
              "      age  sex     bmi  children smoker     region      charges\n",
              "5    31.0  NaN  25.740         0     no  southeast   3756.62160\n",
              "67   40.0  NaN  26.315         1     no  northwest   6389.37785\n",
              "86   57.0  NaN  31.160         0    yes  northwest  43578.93940\n",
              "104  34.0  NaN  27.500         1     no  southwest   5003.85300"
            ],
            "text/html": [
              "\n",
              "  <div id=\"df-c82d6d89-2c2a-4ad7-b0db-cf8a6064ff8f\">\n",
              "    <div class=\"colab-df-container\">\n",
              "      <div>\n",
              "<style scoped>\n",
              "    .dataframe tbody tr th:only-of-type {\n",
              "        vertical-align: middle;\n",
              "    }\n",
              "\n",
              "    .dataframe tbody tr th {\n",
              "        vertical-align: top;\n",
              "    }\n",
              "\n",
              "    .dataframe thead th {\n",
              "        text-align: right;\n",
              "    }\n",
              "</style>\n",
              "<table border=\"1\" class=\"dataframe\">\n",
              "  <thead>\n",
              "    <tr style=\"text-align: right;\">\n",
              "      <th></th>\n",
              "      <th>age</th>\n",
              "      <th>sex</th>\n",
              "      <th>bmi</th>\n",
              "      <th>children</th>\n",
              "      <th>smoker</th>\n",
              "      <th>region</th>\n",
              "      <th>charges</th>\n",
              "    </tr>\n",
              "  </thead>\n",
              "  <tbody>\n",
              "    <tr>\n",
              "      <th>5</th>\n",
              "      <td>31.0</td>\n",
              "      <td>NaN</td>\n",
              "      <td>25.740</td>\n",
              "      <td>0</td>\n",
              "      <td>no</td>\n",
              "      <td>southeast</td>\n",
              "      <td>3756.62160</td>\n",
              "    </tr>\n",
              "    <tr>\n",
              "      <th>67</th>\n",
              "      <td>40.0</td>\n",
              "      <td>NaN</td>\n",
              "      <td>26.315</td>\n",
              "      <td>1</td>\n",
              "      <td>no</td>\n",
              "      <td>northwest</td>\n",
              "      <td>6389.37785</td>\n",
              "    </tr>\n",
              "    <tr>\n",
              "      <th>86</th>\n",
              "      <td>57.0</td>\n",
              "      <td>NaN</td>\n",
              "      <td>31.160</td>\n",
              "      <td>0</td>\n",
              "      <td>yes</td>\n",
              "      <td>northwest</td>\n",
              "      <td>43578.93940</td>\n",
              "    </tr>\n",
              "    <tr>\n",
              "      <th>104</th>\n",
              "      <td>34.0</td>\n",
              "      <td>NaN</td>\n",
              "      <td>27.500</td>\n",
              "      <td>1</td>\n",
              "      <td>no</td>\n",
              "      <td>southwest</td>\n",
              "      <td>5003.85300</td>\n",
              "    </tr>\n",
              "  </tbody>\n",
              "</table>\n",
              "</div>\n",
              "      <button class=\"colab-df-convert\" onclick=\"convertToInteractive('df-c82d6d89-2c2a-4ad7-b0db-cf8a6064ff8f')\"\n",
              "              title=\"Convert this dataframe to an interactive table.\"\n",
              "              style=\"display:none;\">\n",
              "        \n",
              "  <svg xmlns=\"http://www.w3.org/2000/svg\" height=\"24px\"viewBox=\"0 0 24 24\"\n",
              "       width=\"24px\">\n",
              "    <path d=\"M0 0h24v24H0V0z\" fill=\"none\"/>\n",
              "    <path d=\"M18.56 5.44l.94 2.06.94-2.06 2.06-.94-2.06-.94-.94-2.06-.94 2.06-2.06.94zm-11 1L8.5 8.5l.94-2.06 2.06-.94-2.06-.94L8.5 2.5l-.94 2.06-2.06.94zm10 10l.94 2.06.94-2.06 2.06-.94-2.06-.94-.94-2.06-.94 2.06-2.06.94z\"/><path d=\"M17.41 7.96l-1.37-1.37c-.4-.4-.92-.59-1.43-.59-.52 0-1.04.2-1.43.59L10.3 9.45l-7.72 7.72c-.78.78-.78 2.05 0 2.83L4 21.41c.39.39.9.59 1.41.59.51 0 1.02-.2 1.41-.59l7.78-7.78 2.81-2.81c.8-.78.8-2.07 0-2.86zM5.41 20L4 18.59l7.72-7.72 1.47 1.35L5.41 20z\"/>\n",
              "  </svg>\n",
              "      </button>\n",
              "      \n",
              "  <style>\n",
              "    .colab-df-container {\n",
              "      display:flex;\n",
              "      flex-wrap:wrap;\n",
              "      gap: 12px;\n",
              "    }\n",
              "\n",
              "    .colab-df-convert {\n",
              "      background-color: #E8F0FE;\n",
              "      border: none;\n",
              "      border-radius: 50%;\n",
              "      cursor: pointer;\n",
              "      display: none;\n",
              "      fill: #1967D2;\n",
              "      height: 32px;\n",
              "      padding: 0 0 0 0;\n",
              "      width: 32px;\n",
              "    }\n",
              "\n",
              "    .colab-df-convert:hover {\n",
              "      background-color: #E2EBFA;\n",
              "      box-shadow: 0px 1px 2px rgba(60, 64, 67, 0.3), 0px 1px 3px 1px rgba(60, 64, 67, 0.15);\n",
              "      fill: #174EA6;\n",
              "    }\n",
              "\n",
              "    [theme=dark] .colab-df-convert {\n",
              "      background-color: #3B4455;\n",
              "      fill: #D2E3FC;\n",
              "    }\n",
              "\n",
              "    [theme=dark] .colab-df-convert:hover {\n",
              "      background-color: #434B5C;\n",
              "      box-shadow: 0px 1px 3px 1px rgba(0, 0, 0, 0.15);\n",
              "      filter: drop-shadow(0px 1px 2px rgba(0, 0, 0, 0.3));\n",
              "      fill: #FFFFFF;\n",
              "    }\n",
              "  </style>\n",
              "\n",
              "      <script>\n",
              "        const buttonEl =\n",
              "          document.querySelector('#df-c82d6d89-2c2a-4ad7-b0db-cf8a6064ff8f button.colab-df-convert');\n",
              "        buttonEl.style.display =\n",
              "          google.colab.kernel.accessAllowed ? 'block' : 'none';\n",
              "\n",
              "        async function convertToInteractive(key) {\n",
              "          const element = document.querySelector('#df-c82d6d89-2c2a-4ad7-b0db-cf8a6064ff8f');\n",
              "          const dataTable =\n",
              "            await google.colab.kernel.invokeFunction('convertToInteractive',\n",
              "                                                     [key], {});\n",
              "          if (!dataTable) return;\n",
              "\n",
              "          const docLinkHtml = 'Like what you see? Visit the ' +\n",
              "            '<a target=\"_blank\" href=https://colab.research.google.com/notebooks/data_table.ipynb>data table notebook</a>'\n",
              "            + ' to learn more about interactive tables.';\n",
              "          element.innerHTML = '';\n",
              "          dataTable['output_type'] = 'display_data';\n",
              "          await google.colab.output.renderOutput(dataTable, element);\n",
              "          const docLink = document.createElement('div');\n",
              "          docLink.innerHTML = docLinkHtml;\n",
              "          element.appendChild(docLink);\n",
              "        }\n",
              "      </script>\n",
              "    </div>\n",
              "  </div>\n",
              "  "
            ]
          },
          "metadata": {},
          "execution_count": 35
        }
      ]
    },
    {
      "cell_type": "code",
      "metadata": {
        "colab": {
          "base_uri": "https://localhost:8080/",
          "height": 35
        },
        "id": "Hfu0CkkNK0-C",
        "outputId": "a8b90fdb-0cd5-47d8-96fa-2b2debafeb5d"
      },
      "source": [
        "# 최빈 성별 확인\n",
        "df['sex'].value_counts().idxmax()"
      ],
      "execution_count": null,
      "outputs": [
        {
          "output_type": "execute_result",
          "data": {
            "text/plain": [
              "'male'"
            ],
            "application/vnd.google.colaboratory.intrinsic+json": {
              "type": "string"
            }
          },
          "metadata": {},
          "execution_count": 36
        }
      ]
    },
    {
      "cell_type": "code",
      "metadata": {
        "colab": {
          "base_uri": "https://localhost:8080/",
          "height": 359
        },
        "id": "yoWTD6UALHPf",
        "outputId": "e29e9ba1-b151-482c-e664-f05299017aa6"
      },
      "source": [
        "# 최빈 값으로 채우기\n",
        "df['sex'].fillna(df['sex'].value_counts().idxmax(), inplace=True)\n",
        "missingno.matrix(df, figsize=(30,15))"
      ],
      "execution_count": null,
      "outputs": [
        {
          "output_type": "execute_result",
          "data": {
            "text/plain": [
              "<matplotlib.axes._subplots.AxesSubplot at 0x7f2ddb86a950>"
            ]
          },
          "metadata": {},
          "execution_count": 37
        },
        {
          "output_type": "display_data",
          "data": {
            "text/plain": [
              "<Figure size 2160x1080 with 2 Axes>"
            ],
            "image/png": "[encoded data removed]"
          },
          "metadata": {
            "needs_background": "light"
          }
        }
      ]
    },
    {
      "cell_type": "code",
      "metadata": {
        "colab": {
          "base_uri": "https://localhost:8080/",
          "height": 175
        },
        "id": "xUPNlN7xLaJA",
        "outputId": "ec663d69-2a78-465d-987a-7f4e0e28d27e"
      },
      "source": [
        "# 최빈값 male로 채워졌는지 확인\n",
        "df.iloc[[5, 67, 86, 104]]"
      ],
      "execution_count": null,
      "outputs": [
        {
          "output_type": "execute_result",
          "data": {
            "text/plain": [
              "      age   sex     bmi  children smoker     region      charges\n",
              "5    31.0  male  25.740         0     no  southeast   3756.62160\n",
              "67   40.0  male  26.315         1     no  northwest   6389.37785\n",
              "86   57.0  male  31.160         0    yes  northwest  43578.93940\n",
              "104  34.0  male  27.500         1     no  southwest   5003.85300"
            ],
            "text/html": [
              "\n",
              "  <div id=\"df-75811fe1-a680-4845-9e58-34b6f0eaf060\">\n",
              "    <div class=\"colab-df-container\">\n",
              "      <div>\n",
              "<style scoped>\n",
              "    .dataframe tbody tr th:only-of-type {\n",
              "        vertical-align: middle;\n",
              "    }\n",
              "\n",
              "    .dataframe tbody tr th {\n",
              "        vertical-align: top;\n",
              "    }\n",
              "\n",
              "    .dataframe thead th {\n",
              "        text-align: right;\n",
              "    }\n",
              "</style>\n",
              "<table border=\"1\" class=\"dataframe\">\n",
              "  <thead>\n",
              "    <tr style=\"text-align: right;\">\n",
              "      <th></th>\n",
              "      <th>age</th>\n",
              "      <th>sex</th>\n",
              "      <th>bmi</th>\n",
              "      <th>children</th>\n",
              "      <th>smoker</th>\n",
              "      <th>region</th>\n",
              "      <th>charges</th>\n",
              "    </tr>\n",
              "  </thead>\n",
              "  <tbody>\n",
              "    <tr>\n",
              "      <th>5</th>\n",
              "      <td>31.0</td>\n",
              "      <td>male</td>\n",
              "      <td>25.740</td>\n",
              "      <td>0</td>\n",
              "      <td>no</td>\n",
              "      <td>southeast</td>\n",
              "      <td>3756.62160</td>\n",
              "    </tr>\n",
              "    <tr>\n",
              "      <th>67</th>\n",
              "      <td>40.0</td>\n",
              "      <td>male</td>\n",
              "      <td>26.315</td>\n",
              "      <td>1</td>\n",
              "      <td>no</td>\n",
              "      <td>northwest</td>\n",
              "      <td>6389.37785</td>\n",
              "    </tr>\n",
              "    <tr>\n",
              "      <th>86</th>\n",
              "      <td>57.0</td>\n",
              "      <td>male</td>\n",
              "      <td>31.160</td>\n",
              "      <td>0</td>\n",
              "      <td>yes</td>\n",
              "      <td>northwest</td>\n",
              "      <td>43578.93940</td>\n",
              "    </tr>\n",
              "    <tr>\n",
              "      <th>104</th>\n",
              "      <td>34.0</td>\n",
              "      <td>male</td>\n",
              "      <td>27.500</td>\n",
              "      <td>1</td>\n",
              "      <td>no</td>\n",
              "      <td>southwest</td>\n",
              "      <td>5003.85300</td>\n",
              "    </tr>\n",
              "  </tbody>\n",
              "</table>\n",
              "</div>\n",
              "      <button class=\"colab-df-convert\" onclick=\"convertToInteractive('df-75811fe1-a680-4845-9e58-34b6f0eaf060')\"\n",
              "              title=\"Convert this dataframe to an interactive table.\"\n",
              "              style=\"display:none;\">\n",
              "        \n",
              "  <svg xmlns=\"http://www.w3.org/2000/svg\" height=\"24px\"viewBox=\"0 0 24 24\"\n",
              "       width=\"24px\">\n",
              "    <path d=\"M0 0h24v24H0V0z\" fill=\"none\"/>\n",
              "    <path d=\"M18.56 5.44l.94 2.06.94-2.06 2.06-.94-2.06-.94-.94-2.06-.94 2.06-2.06.94zm-11 1L8.5 8.5l.94-2.06 2.06-.94-2.06-.94L8.5 2.5l-.94 2.06-2.06.94zm10 10l.94 2.06.94-2.06 2.06-.94-2.06-.94-.94-2.06-.94 2.06-2.06.94z\"/><path d=\"M17.41 7.96l-1.37-1.37c-.4-.4-.92-.59-1.43-.59-.52 0-1.04.2-1.43.59L10.3 9.45l-7.72 7.72c-.78.78-.78 2.05 0 2.83L4 21.41c.39.39.9.59 1.41.59.51 0 1.02-.2 1.41-.59l7.78-7.78 2.81-2.81c.8-.78.8-2.07 0-2.86zM5.41 20L4 18.59l7.72-7.72 1.47 1.35L5.41 20z\"/>\n",
              "  </svg>\n",
              "      </button>\n",
              "      \n",
              "  <style>\n",
              "    .colab-df-container {\n",
              "      display:flex;\n",
              "      flex-wrap:wrap;\n",
              "      gap: 12px;\n",
              "    }\n",
              "\n",
              "    .colab-df-convert {\n",
              "      background-color: #E8F0FE;\n",
              "      border: none;\n",
              "      border-radius: 50%;\n",
              "      cursor: pointer;\n",
              "      display: none;\n",
              "      fill: #1967D2;\n",
              "      height: 32px;\n",
              "      padding: 0 0 0 0;\n",
              "      width: 32px;\n",
              "    }\n",
              "\n",
              "    .colab-df-convert:hover {\n",
              "      background-color: #E2EBFA;\n",
              "      box-shadow: 0px 1px 2px rgba(60, 64, 67, 0.3), 0px 1px 3px 1px rgba(60, 64, 67, 0.15);\n",
              "      fill: #174EA6;\n",
              "    }\n",
              "\n",
              "    [theme=dark] .colab-df-convert {\n",
              "      background-color: #3B4455;\n",
              "      fill: #D2E3FC;\n",
              "    }\n",
              "\n",
              "    [theme=dark] .colab-df-convert:hover {\n",
              "      background-color: #434B5C;\n",
              "      box-shadow: 0px 1px 3px 1px rgba(0, 0, 0, 0.15);\n",
              "      filter: drop-shadow(0px 1px 2px rgba(0, 0, 0, 0.3));\n",
              "      fill: #FFFFFF;\n",
              "    }\n",
              "  </style>\n",
              "\n",
              "      <script>\n",
              "        const buttonEl =\n",
              "          document.querySelector('#df-75811fe1-a680-4845-9e58-34b6f0eaf060 button.colab-df-convert');\n",
              "        buttonEl.style.display =\n",
              "          google.colab.kernel.accessAllowed ? 'block' : 'none';\n",
              "\n",
              "        async function convertToInteractive(key) {\n",
              "          const element = document.querySelector('#df-75811fe1-a680-4845-9e58-34b6f0eaf060');\n",
              "          const dataTable =\n",
              "            await google.colab.kernel.invokeFunction('convertToInteractive',\n",
              "                                                     [key], {});\n",
              "          if (!dataTable) return;\n",
              "\n",
              "          const docLinkHtml = 'Like what you see? Visit the ' +\n",
              "            '<a target=\"_blank\" href=https://colab.research.google.com/notebooks/data_table.ipynb>data table notebook</a>'\n",
              "            + ' to learn more about interactive tables.';\n",
              "          element.innerHTML = '';\n",
              "          dataTable['output_type'] = 'display_data';\n",
              "          await google.colab.output.renderOutput(dataTable, element);\n",
              "          const docLink = document.createElement('div');\n",
              "          docLink.innerHTML = docLinkHtml;\n",
              "          element.appendChild(docLink);\n",
              "        }\n",
              "      </script>\n",
              "    </div>\n",
              "  </div>\n",
              "  "
            ]
          },
          "metadata": {},
          "execution_count": 38
        }
      ]
    },
    {
      "cell_type": "markdown",
      "metadata": {
        "id": "P2BIg3ZRL8D4"
      },
      "source": [
        "####**bmi - 평균으로 채우기**\n",
        "\n",
        "mean()"
      ]
    },
    {
      "cell_type": "code",
      "metadata": {
        "colab": {
          "base_uri": "https://localhost:8080/",
          "height": 175
        },
        "id": "GklpM5dnMwd4",
        "outputId": "72b72d36-dbf2-47b2-9e40-d497f53b44e2"
      },
      "source": [
        "# bmi가 null인 행 출력\n",
        "df[df['bmi'].isnull()]"
      ],
      "execution_count": null,
      "outputs": [
        {
          "output_type": "execute_result",
          "data": {
            "text/plain": [
              "     age     sex  bmi  children smoker     region      charges\n",
              "3   33.0    male  NaN         0     no  northwest  21984.47061\n",
              "27  55.0  female  NaN         2     no  northwest  12268.63225\n",
              "53  36.0    male  NaN         0    yes  southeast  37742.57570\n",
              "81  45.0  female  NaN         0     no  northeast   7935.29115"
            ],
            "text/html": [
              "\n",
              "  <div id=\"df-22c3d876-2913-4bc7-aae1-f5e66dd1e545\">\n",
              "    <div class=\"colab-df-container\">\n",
              "      <div>\n",
              "<style scoped>\n",
              "    .dataframe tbody tr th:only-of-type {\n",
              "        vertical-align: middle;\n",
              "    }\n",
              "\n",
              "    .dataframe tbody tr th {\n",
              "        vertical-align: top;\n",
              "    }\n",
              "\n",
              "    .dataframe thead th {\n",
              "        text-align: right;\n",
              "    }\n",
              "</style>\n",
              "<table border=\"1\" class=\"dataframe\">\n",
              "  <thead>\n",
              "    <tr style=\"text-align: right;\">\n",
              "      <th></th>\n",
              "      <th>age</th>\n",
              "      <th>sex</th>\n",
              "      <th>bmi</th>\n",
              "      <th>children</th>\n",
              "      <th>smoker</th>\n",
              "      <th>region</th>\n",
              "      <th>charges</th>\n",
              "    </tr>\n",
              "  </thead>\n",
              "  <tbody>\n",
              "    <tr>\n",
              "      <th>3</th>\n",
              "      <td>33.0</td>\n",
              "      <td>male</td>\n",
              "      <td>NaN</td>\n",
              "      <td>0</td>\n",
              "      <td>no</td>\n",
              "      <td>northwest</td>\n",
              "      <td>21984.47061</td>\n",
              "    </tr>\n",
              "    <tr>\n",
              "      <th>27</th>\n",
              "      <td>55.0</td>\n",
              "      <td>female</td>\n",
              "      <td>NaN</td>\n",
              "      <td>2</td>\n",
              "      <td>no</td>\n",
              "      <td>northwest</td>\n",
              "      <td>12268.63225</td>\n",
              "    </tr>\n",
              "    <tr>\n",
              "      <th>53</th>\n",
              "      <td>36.0</td>\n",
              "      <td>male</td>\n",
              "      <td>NaN</td>\n",
              "      <td>0</td>\n",
              "      <td>yes</td>\n",
              "      <td>southeast</td>\n",
              "      <td>37742.57570</td>\n",
              "    </tr>\n",
              "    <tr>\n",
              "      <th>81</th>\n",
              "      <td>45.0</td>\n",
              "      <td>female</td>\n",
              "      <td>NaN</td>\n",
              "      <td>0</td>\n",
              "      <td>no</td>\n",
              "      <td>northeast</td>\n",
              "      <td>7935.29115</td>\n",
              "    </tr>\n",
              "  </tbody>\n",
              "</table>\n",
              "</div>\n",
              "      <button class=\"colab-df-convert\" onclick=\"convertToInteractive('df-22c3d876-2913-4bc7-aae1-f5e66dd1e545')\"\n",
              "              title=\"Convert this dataframe to an interactive table.\"\n",
              "              style=\"display:none;\">\n",
              "        \n",
              "  <svg xmlns=\"http://www.w3.org/2000/svg\" height=\"24px\"viewBox=\"0 0 24 24\"\n",
              "       width=\"24px\">\n",
              "    <path d=\"M0 0h24v24H0V0z\" fill=\"none\"/>\n",
              "    <path d=\"M18.56 5.44l.94 2.06.94-2.06 2.06-.94-2.06-.94-.94-2.06-.94 2.06-2.06.94zm-11 1L8.5 8.5l.94-2.06 2.06-.94-2.06-.94L8.5 2.5l-.94 2.06-2.06.94zm10 10l.94 2.06.94-2.06 2.06-.94-2.06-.94-.94-2.06-.94 2.06-2.06.94z\"/><path d=\"M17.41 7.96l-1.37-1.37c-.4-.4-.92-.59-1.43-.59-.52 0-1.04.2-1.43.59L10.3 9.45l-7.72 7.72c-.78.78-.78 2.05 0 2.83L4 21.41c.39.39.9.59 1.41.59.51 0 1.02-.2 1.41-.59l7.78-7.78 2.81-2.81c.8-.78.8-2.07 0-2.86zM5.41 20L4 18.59l7.72-7.72 1.47 1.35L5.41 20z\"/>\n",
              "  </svg>\n",
              "      </button>\n",
              "      \n",
              "  <style>\n",
              "    .colab-df-container {\n",
              "      display:flex;\n",
              "      flex-wrap:wrap;\n",
              "      gap: 12px;\n",
              "    }\n",
              "\n",
              "    .colab-df-convert {\n",
              "      background-color: #E8F0FE;\n",
              "      border: none;\n",
              "      border-radius: 50%;\n",
              "      cursor: pointer;\n",
              "      display: none;\n",
              "      fill: #1967D2;\n",
              "      height: 32px;\n",
              "      padding: 0 0 0 0;\n",
              "      width: 32px;\n",
              "    }\n",
              "\n",
              "    .colab-df-convert:hover {\n",
              "      background-color: #E2EBFA;\n",
              "      box-shadow: 0px 1px 2px rgba(60, 64, 67, 0.3), 0px 1px 3px 1px rgba(60, 64, 67, 0.15);\n",
              "      fill: #174EA6;\n",
              "    }\n",
              "\n",
              "    [theme=dark] .colab-df-convert {\n",
              "      background-color: #3B4455;\n",
              "      fill: #D2E3FC;\n",
              "    }\n",
              "\n",
              "    [theme=dark] .colab-df-convert:hover {\n",
              "      background-color: #434B5C;\n",
              "      box-shadow: 0px 1px 3px 1px rgba(0, 0, 0, 0.15);\n",
              "      filter: drop-shadow(0px 1px 2px rgba(0, 0, 0, 0.3));\n",
              "      fill: #FFFFFF;\n",
              "    }\n",
              "  </style>\n",
              "\n",
              "      <script>\n",
              "        const buttonEl =\n",
              "          document.querySelector('#df-22c3d876-2913-4bc7-aae1-f5e66dd1e545 button.colab-df-convert');\n",
              "        buttonEl.style.display =\n",
              "          google.colab.kernel.accessAllowed ? 'block' : 'none';\n",
              "\n",
              "        async function convertToInteractive(key) {\n",
              "          const element = document.querySelector('#df-22c3d876-2913-4bc7-aae1-f5e66dd1e545');\n",
              "          const dataTable =\n",
              "            await google.colab.kernel.invokeFunction('convertToInteractive',\n",
              "                                                     [key], {});\n",
              "          if (!dataTable) return;\n",
              "\n",
              "          const docLinkHtml = 'Like what you see? Visit the ' +\n",
              "            '<a target=\"_blank\" href=https://colab.research.google.com/notebooks/data_table.ipynb>data table notebook</a>'\n",
              "            + ' to learn more about interactive tables.';\n",
              "          element.innerHTML = '';\n",
              "          dataTable['output_type'] = 'display_data';\n",
              "          await google.colab.output.renderOutput(dataTable, element);\n",
              "          const docLink = document.createElement('div');\n",
              "          docLink.innerHTML = docLinkHtml;\n",
              "          element.appendChild(docLink);\n",
              "        }\n",
              "      </script>\n",
              "    </div>\n",
              "  </div>\n",
              "  "
            ]
          },
          "metadata": {},
          "execution_count": 39
        }
      ]
    },
    {
      "cell_type": "code",
      "metadata": {
        "colab": {
          "base_uri": "https://localhost:8080/"
        },
        "id": "d8bCoxvfMBMC",
        "outputId": "b57b5c55-1d48-446f-8e04-5efe26ad4819"
      },
      "source": [
        "# 평균 bmi 출력\n",
        "df['bmi'].mean()"
      ],
      "execution_count": null,
      "outputs": [
        {
          "output_type": "execute_result",
          "data": {
            "text/plain": [
              "30.65929482370593"
            ]
          },
          "metadata": {},
          "execution_count": 40
        }
      ]
    },
    {
      "cell_type": "code",
      "metadata": {
        "colab": {
          "base_uri": "https://localhost:8080/",
          "height": 359
        },
        "id": "_ItuV3lyMtGA",
        "outputId": "a388e6fa-8849-405a-b2d8-dc2360dc6ef3"
      },
      "source": [
        "# 평균 값으로 채우기\n",
        "df['bmi'].fillna(df['bmi'].mean(), inplace=True)\n",
        "missingno.matrix(df, figsize=(30,15))"
      ],
      "execution_count": null,
      "outputs": [
        {
          "output_type": "execute_result",
          "data": {
            "text/plain": [
              "<matplotlib.axes._subplots.AxesSubplot at 0x7f2ddbde1610>"
            ]
          },
          "metadata": {},
          "execution_count": 41
        },
        {
          "output_type": "display_data",
          "data": {
            "text/plain": [
              "<Figure size 2160x1080 with 2 Axes>"
            ],
            "image/png": "[encoded data removed]"
          },
          "metadata": {
            "needs_background": "light"
          }
        }
      ]
    },
    {
      "cell_type": "code",
      "metadata": {
        "colab": {
          "base_uri": "https://localhost:8080/"
        },
        "id": "xbPpxLtENUZI",
        "outputId": "1955297c-9bc6-4190-9105-7c6dd24a12de"
      },
      "source": [
        "df.info()"
      ],
      "execution_count": null,
      "outputs": [
        {
          "output_type": "stream",
          "name": "stdout",
          "text": [
            "<class 'pandas.core.frame.DataFrame'>\n",
            "RangeIndex: 1337 entries, 0 to 1336\n",
            "Data columns (total 7 columns):\n",
            " #   Column    Non-Null Count  Dtype  \n",
            "---  ------    --------------  -----  \n",
            " 0   age       1337 non-null   float64\n",
            " 1   sex       1337 non-null   object \n",
            " 2   bmi       1337 non-null   float64\n",
            " 3   children  1337 non-null   int64  \n",
            " 4   smoker    1337 non-null   object \n",
            " 5   region    1337 non-null   object \n",
            " 6   charges   1337 non-null   float64\n",
            "dtypes: float64(3), int64(1), object(3)\n",
            "memory usage: 73.2+ KB\n"
          ]
        }
      ]
    },
    {
      "cell_type": "markdown",
      "metadata": {
        "id": "P2d4ppRimlnk"
      },
      "source": [
        "##3.4 상관관계 분석\n",
        "\n",
        "두 변수간에 어떤 선형적 또는 비선형적 관계를 갖고 있는지를 분석\n",
        "\n"
      ]
    },
    {
      "cell_type": "code",
      "metadata": {
        "colab": {
          "base_uri": "https://localhost:8080/",
          "height": 175
        },
        "id": "As4PZTjJmhvO",
        "outputId": "220f9b00-aded-4633-b7ad-df16db010425"
      },
      "source": [
        "df.corr()"
      ],
      "execution_count": null,
      "outputs": [
        {
          "output_type": "execute_result",
          "data": {
            "text/plain": [
              "               age       bmi  children   charges\n",
              "age       1.000000  0.108176  0.042222  0.298697\n",
              "bmi       0.108176  1.000000  0.012962  0.198883\n",
              "children  0.042222  0.012962  1.000000  0.067389\n",
              "charges   0.298697  0.198883  0.067389  1.000000"
            ],
            "text/html": [
              "\n",
              "  <div id=\"df-d1f5b906-3aa0-4b83-a395-ab8e12e4f999\">\n",
              "    <div class=\"colab-df-container\">\n",
              "      <div>\n",
              "<style scoped>\n",
              "    .dataframe tbody tr th:only-of-type {\n",
              "        vertical-align: middle;\n",
              "    }\n",
              "\n",
              "    .dataframe tbody tr th {\n",
              "        vertical-align: top;\n",
              "    }\n",
              "\n",
              "    .dataframe thead th {\n",
              "        text-align: right;\n",
              "    }\n",
              "</style>\n",
              "<table border=\"1\" class=\"dataframe\">\n",
              "  <thead>\n",
              "    <tr style=\"text-align: right;\">\n",
              "      <th></th>\n",
              "      <th>age</th>\n",
              "      <th>bmi</th>\n",
              "      <th>children</th>\n",
              "      <th>charges</th>\n",
              "    </tr>\n",
              "  </thead>\n",
              "  <tbody>\n",
              "    <tr>\n",
              "      <th>age</th>\n",
              "      <td>1.000000</td>\n",
              "      <td>0.108176</td>\n",
              "      <td>0.042222</td>\n",
              "      <td>0.298697</td>\n",
              "    </tr>\n",
              "    <tr>\n",
              "      <th>bmi</th>\n",
              "      <td>0.108176</td>\n",
              "      <td>1.000000</td>\n",
              "      <td>0.012962</td>\n",
              "      <td>0.198883</td>\n",
              "    </tr>\n",
              "    <tr>\n",
              "      <th>children</th>\n",
              "      <td>0.042222</td>\n",
              "      <td>0.012962</td>\n",
              "      <td>1.000000</td>\n",
              "      <td>0.067389</td>\n",
              "    </tr>\n",
              "    <tr>\n",
              "      <th>charges</th>\n",
              "      <td>0.298697</td>\n",
              "      <td>0.198883</td>\n",
              "      <td>0.067389</td>\n",
              "      <td>1.000000</td>\n",
              "    </tr>\n",
              "  </tbody>\n",
              "</table>\n",
              "</div>\n",
              "      <button class=\"colab-df-convert\" onclick=\"convertToInteractive('df-d1f5b906-3aa0-4b83-a395-ab8e12e4f999')\"\n",
              "              title=\"Convert this dataframe to an interactive table.\"\n",
              "              style=\"display:none;\">\n",
              "        \n",
              "  <svg xmlns=\"http://www.w3.org/2000/svg\" height=\"24px\"viewBox=\"0 0 24 24\"\n",
              "       width=\"24px\">\n",
              "    <path d=\"M0 0h24v24H0V0z\" fill=\"none\"/>\n",
              "    <path d=\"M18.56 5.44l.94 2.06.94-2.06 2.06-.94-2.06-.94-.94-2.06-.94 2.06-2.06.94zm-11 1L8.5 8.5l.94-2.06 2.06-.94-2.06-.94L8.5 2.5l-.94 2.06-2.06.94zm10 10l.94 2.06.94-2.06 2.06-.94-2.06-.94-.94-2.06-.94 2.06-2.06.94z\"/><path d=\"M17.41 7.96l-1.37-1.37c-.4-.4-.92-.59-1.43-.59-.52 0-1.04.2-1.43.59L10.3 9.45l-7.72 7.72c-.78.78-.78 2.05 0 2.83L4 21.41c.39.39.9.59 1.41.59.51 0 1.02-.2 1.41-.59l7.78-7.78 2.81-2.81c.8-.78.8-2.07 0-2.86zM5.41 20L4 18.59l7.72-7.72 1.47 1.35L5.41 20z\"/>\n",
              "  </svg>\n",
              "      </button>\n",
              "      \n",
              "  <style>\n",
              "    .colab-df-container {\n",
              "      display:flex;\n",
              "      flex-wrap:wrap;\n",
              "      gap: 12px;\n",
              "    }\n",
              "\n",
              "    .colab-df-convert {\n",
              "      background-color: #E8F0FE;\n",
              "      border: none;\n",
              "      border-radius: 50%;\n",
              "      cursor: pointer;\n",
              "      display: none;\n",
              "      fill: #1967D2;\n",
              "      height: 32px;\n",
              "      padding: 0 0 0 0;\n",
              "      width: 32px;\n",
              "    }\n",
              "\n",
              "    .colab-df-convert:hover {\n",
              "      background-color: #E2EBFA;\n",
              "      box-shadow: 0px 1px 2px rgba(60, 64, 67, 0.3), 0px 1px 3px 1px rgba(60, 64, 67, 0.15);\n",
              "      fill: #174EA6;\n",
              "    }\n",
              "\n",
              "    [theme=dark] .colab-df-convert {\n",
              "      background-color: #3B4455;\n",
              "      fill: #D2E3FC;\n",
              "    }\n",
              "\n",
              "    [theme=dark] .colab-df-convert:hover {\n",
              "      background-color: #434B5C;\n",
              "      box-shadow: 0px 1px 3px 1px rgba(0, 0, 0, 0.15);\n",
              "      filter: drop-shadow(0px 1px 2px rgba(0, 0, 0, 0.3));\n",
              "      fill: #FFFFFF;\n",
              "    }\n",
              "  </style>\n",
              "\n",
              "      <script>\n",
              "        const buttonEl =\n",
              "          document.querySelector('#df-d1f5b906-3aa0-4b83-a395-ab8e12e4f999 button.colab-df-convert');\n",
              "        buttonEl.style.display =\n",
              "          google.colab.kernel.accessAllowed ? 'block' : 'none';\n",
              "\n",
              "        async function convertToInteractive(key) {\n",
              "          const element = document.querySelector('#df-d1f5b906-3aa0-4b83-a395-ab8e12e4f999');\n",
              "          const dataTable =\n",
              "            await google.colab.kernel.invokeFunction('convertToInteractive',\n",
              "                                                     [key], {});\n",
              "          if (!dataTable) return;\n",
              "\n",
              "          const docLinkHtml = 'Like what you see? Visit the ' +\n",
              "            '<a target=\"_blank\" href=https://colab.research.google.com/notebooks/data_table.ipynb>data table notebook</a>'\n",
              "            + ' to learn more about interactive tables.';\n",
              "          element.innerHTML = '';\n",
              "          dataTable['output_type'] = 'display_data';\n",
              "          await google.colab.output.renderOutput(dataTable, element);\n",
              "          const docLink = document.createElement('div');\n",
              "          docLink.innerHTML = docLinkHtml;\n",
              "          element.appendChild(docLink);\n",
              "        }\n",
              "      </script>\n",
              "    </div>\n",
              "  </div>\n",
              "  "
            ]
          },
          "metadata": {},
          "execution_count": 43
        }
      ]
    },
    {
      "cell_type": "code",
      "metadata": {
        "colab": {
          "base_uri": "https://localhost:8080/",
          "height": 269
        },
        "id": "mKyaEzI8m9js",
        "outputId": "24edf691-e6bd-4f2b-ab76-2b285cba70d8"
      },
      "source": [
        "sns.heatmap(df.corr(), cmap=\"Reds\", annot=True)\n",
        "plt.show()"
      ],
      "execution_count": null,
      "outputs": [
        {
          "output_type": "display_data",
          "data": {
            "text/plain": [
              "<Figure size 432x288 with 2 Axes>"
            ],
            "image/png": "[encoded data removed]"
          },
          "metadata": {
            "needs_background": "light"
          }
        }
      ]
    },
    {
      "cell_type": "markdown",
      "metadata": {
        "id": "xAmLMvo_PKd7"
      },
      "source": [
        "##3.5 범주형 데이터 처리"
      ]
    },
    {
      "cell_type": "code",
      "metadata": {
        "colab": {
          "base_uri": "https://localhost:8080/"
        },
        "id": "WmkKDiYPPPBh",
        "outputId": "1ce74228-16be-4702-b1ca-1fb99be4c673"
      },
      "source": [
        "df.info()"
      ],
      "execution_count": null,
      "outputs": [
        {
          "output_type": "stream",
          "name": "stdout",
          "text": [
            "<class 'pandas.core.frame.DataFrame'>\n",
            "RangeIndex: 1337 entries, 0 to 1336\n",
            "Data columns (total 7 columns):\n",
            " #   Column    Non-Null Count  Dtype  \n",
            "---  ------    --------------  -----  \n",
            " 0   age       1337 non-null   float64\n",
            " 1   sex       1337 non-null   object \n",
            " 2   bmi       1337 non-null   float64\n",
            " 3   children  1337 non-null   int64  \n",
            " 4   smoker    1337 non-null   object \n",
            " 5   region    1337 non-null   object \n",
            " 6   charges   1337 non-null   float64\n",
            "dtypes: float64(3), int64(1), object(3)\n",
            "memory usage: 73.2+ KB\n"
          ]
        }
      ]
    },
    {
      "cell_type": "code",
      "metadata": {
        "colab": {
          "base_uri": "https://localhost:8080/"
        },
        "id": "9IroN1T5PS-_",
        "outputId": "18da4699-5639-49fe-f219-ce452a0eada4"
      },
      "source": [
        "print(df['sex'].value_counts(), end='\\n\\n')\n",
        "print(df['smoker'].value_counts(), end='\\n\\n')\n",
        "print(df['region'].value_counts(), end='\\n\\n')"
      ],
      "execution_count": null,
      "outputs": [
        {
          "output_type": "stream",
          "name": "stdout",
          "text": [
            "male      678\n",
            "female    659\n",
            "Name: sex, dtype: int64\n",
            "\n",
            "no     1063\n",
            "yes     274\n",
            "Name: smoker, dtype: int64\n",
            "\n",
            "southeast    364\n",
            "southwest    325\n",
            "northwest    324\n",
            "northeast    324\n",
            "Name: region, dtype: int64\n",
            "\n"
          ]
        }
      ]
    },
    {
      "cell_type": "markdown",
      "metadata": {
        "id": "e8vqsgv2WYqD"
      },
      "source": [
        "**ML에서 학습용 데이터는 문자열(카테고리형) feature를 허용하지 않음**\n",
        "\n",
        "**`Categorical encoding`: 카테고리형 데이터를 숫자형으로 변환하는 작업**\n",
        "\n",
        "* Label Encoding: 알파벳 순으로 숫자를 할당해주는 방식\n",
        "\n",
        "  e.g., female -> 0, male -> 1\n",
        "\n",
        "  숫자로 변환된 값은 크고 작음의 개념이 추가되기 때문에 실제 학습에 영향을 미칠 수 있어 Regression 에는 사용하지 않는 것을 권장\n",
        "\n",
        "* One-Hot Encoding: feature 값의 유형에 따라 새로운 feature(column)을 추가하고 해당되는 feature에만 1로 표시하는 방식\n",
        "\n",
        "    e.g., male, male, female, male\n",
        "\n",
        "    ->\n",
        "\n",
        "|sex_female|sex_male|\n",
        "|------|---|\n",
        "|0|1|\n",
        "|0|1|\n",
        "|1|0|\n",
        "|0|1|\n",
        "\n"
      ]
    },
    {
      "cell_type": "markdown",
      "metadata": {
        "id": "z8K0UFTla3d_"
      },
      "source": [
        "####**One-Hot Encoding**\n",
        "\n",
        "get_dummies(data, columns)\n",
        "* data: one-Hot Encoding을 적용할 데이터\n",
        "\n",
        "* columns: one-Hot Encoding될 feature(column)"
      ]
    },
    {
      "cell_type": "code",
      "metadata": {
        "colab": {
          "base_uri": "https://localhost:8080/",
          "height": 270
        },
        "id": "TOih6GhOaw3b",
        "outputId": "5ce82d23-7180-4faa-dd1e-e13871af13a6"
      },
      "source": [
        "df = pd.get_dummies(data = df, columns = ['sex', 'smoker', 'region'])\n",
        "df.head()"
      ],
      "execution_count": null,
      "outputs": [
        {
          "output_type": "execute_result",
          "data": {
            "text/plain": [
              "    age        bmi  children      charges  sex_female  sex_male  smoker_no  \\\n",
              "0  19.0  27.900000         0  16884.92400           1         0          0   \n",
              "1  18.0  33.770000         1   1725.55230           0         1          1   \n",
              "2  28.0  33.000000         3   4449.46200           0         1          1   \n",
              "3  33.0  30.659295         0  21984.47061           0         1          1   \n",
              "4  32.0  28.880000         0   3866.85520           0         1          1   \n",
              "\n",
              "   smoker_yes  region_northeast  region_northwest  region_southeast  \\\n",
              "0           1                 0                 0                 0   \n",
              "1           0                 0                 0                 1   \n",
              "2           0                 0                 0                 1   \n",
              "3           0                 0                 1                 0   \n",
              "4           0                 0                 1                 0   \n",
              "\n",
              "   region_southwest  \n",
              "0                 1  \n",
              "1                 0  \n",
              "2                 0  \n",
              "3                 0  \n",
              "4                 0  "
            ],
            "text/html": [
              "\n",
              "  <div id=\"df-4844c70a-ea7f-4ce4-bd8e-3d9ab933d1dd\">\n",
              "    <div class=\"colab-df-container\">\n",
              "      <div>\n",
              "<style scoped>\n",
              "    .dataframe tbody tr th:only-of-type {\n",
              "        vertical-align: middle;\n",
              "    }\n",
              "\n",
              "    .dataframe tbody tr th {\n",
              "        vertical-align: top;\n",
              "    }\n",
              "\n",
              "    .dataframe thead th {\n",
              "        text-align: right;\n",
              "    }\n",
              "</style>\n",
              "<table border=\"1\" class=\"dataframe\">\n",
              "  <thead>\n",
              "    <tr style=\"text-align: right;\">\n",
              "      <th></th>\n",
              "      <th>age</th>\n",
              "      <th>bmi</th>\n",
              "      <th>children</th>\n",
              "      <th>charges</th>\n",
              "      <th>sex_female</th>\n",
              "      <th>sex_male</th>\n",
              "      <th>smoker_no</th>\n",
              "      <th>smoker_yes</th>\n",
              "      <th>region_northeast</th>\n",
              "      <th>region_northwest</th>\n",
              "      <th>region_southeast</th>\n",
              "      <th>region_southwest</th>\n",
              "    </tr>\n",
              "  </thead>\n",
              "  <tbody>\n",
              "    <tr>\n",
              "      <th>0</th>\n",
              "      <td>19.0</td>\n",
              "      <td>27.900000</td>\n",
              "      <td>0</td>\n",
              "      <td>16884.92400</td>\n",
              "      <td>1</td>\n",
              "      <td>0</td>\n",
              "      <td>0</td>\n",
              "      <td>1</td>\n",
              "      <td>0</td>\n",
              "      <td>0</td>\n",
              "      <td>0</td>\n",
              "      <td>1</td>\n",
              "    </tr>\n",
              "    <tr>\n",
              "      <th>1</th>\n",
              "      <td>18.0</td>\n",
              "      <td>33.770000</td>\n",
              "      <td>1</td>\n",
              "      <td>1725.55230</td>\n",
              "      <td>0</td>\n",
              "      <td>1</td>\n",
              "      <td>1</td>\n",
              "      <td>0</td>\n",
              "      <td>0</td>\n",
              "      <td>0</td>\n",
              "      <td>1</td>\n",
              "      <td>0</td>\n",
              "    </tr>\n",
              "    <tr>\n",
              "      <th>2</th>\n",
              "      <td>28.0</td>\n",
              "      <td>33.000000</td>\n",
              "      <td>3</td>\n",
              "      <td>4449.46200</td>\n",
              "      <td>0</td>\n",
              "      <td>1</td>\n",
              "      <td>1</td>\n",
              "      <td>0</td>\n",
              "      <td>0</td>\n",
              "      <td>0</td>\n",
              "      <td>1</td>\n",
              "      <td>0</td>\n",
              "    </tr>\n",
              "    <tr>\n",
              "      <th>3</th>\n",
              "      <td>33.0</td>\n",
              "      <td>30.659295</td>\n",
              "      <td>0</td>\n",
              "      <td>21984.47061</td>\n",
              "      <td>0</td>\n",
              "      <td>1</td>\n",
              "      <td>1</td>\n",
              "      <td>0</td>\n",
              "      <td>0</td>\n",
              "      <td>1</td>\n",
              "      <td>0</td>\n",
              "      <td>0</td>\n",
              "    </tr>\n",
              "    <tr>\n",
              "      <th>4</th>\n",
              "      <td>32.0</td>\n",
              "      <td>28.880000</td>\n",
              "      <td>0</td>\n",
              "      <td>3866.85520</td>\n",
              "      <td>0</td>\n",
              "      <td>1</td>\n",
              "      <td>1</td>\n",
              "      <td>0</td>\n",
              "      <td>0</td>\n",
              "      <td>1</td>\n",
              "      <td>0</td>\n",
              "      <td>0</td>\n",
              "    </tr>\n",
              "  </tbody>\n",
              "</table>\n",
              "</div>\n",
              "      <button class=\"colab-df-convert\" onclick=\"convertToInteractive('df-4844c70a-ea7f-4ce4-bd8e-3d9ab933d1dd')\"\n",
              "              title=\"Convert this dataframe to an interactive table.\"\n",
              "              style=\"display:none;\">\n",
              "        \n",
              "  <svg xmlns=\"http://www.w3.org/2000/svg\" height=\"24px\"viewBox=\"0 0 24 24\"\n",
              "       width=\"24px\">\n",
              "    <path d=\"M0 0h24v24H0V0z\" fill=\"none\"/>\n",
              "    <path d=\"M18.56 5.44l.94 2.06.94-2.06 2.06-.94-2.06-.94-.94-2.06-.94 2.06-2.06.94zm-11 1L8.5 8.5l.94-2.06 2.06-.94-2.06-.94L8.5 2.5l-.94 2.06-2.06.94zm10 10l.94 2.06.94-2.06 2.06-.94-2.06-.94-.94-2.06-.94 2.06-2.06.94z\"/><path d=\"M17.41 7.96l-1.37-1.37c-.4-.4-.92-.59-1.43-.59-.52 0-1.04.2-1.43.59L10.3 9.45l-7.72 7.72c-.78.78-.78 2.05 0 2.83L4 21.41c.39.39.9.59 1.41.59.51 0 1.02-.2 1.41-.59l7.78-7.78 2.81-2.81c.8-.78.8-2.07 0-2.86zM5.41 20L4 18.59l7.72-7.72 1.47 1.35L5.41 20z\"/>\n",
              "  </svg>\n",
              "      </button>\n",
              "      \n",
              "  <style>\n",
              "    .colab-df-container {\n",
              "      display:flex;\n",
              "      flex-wrap:wrap;\n",
              "      gap: 12px;\n",
              "    }\n",
              "\n",
              "    .colab-df-convert {\n",
              "      background-color: #E8F0FE;\n",
              "      border: none;\n",
              "      border-radius: 50%;\n",
              "      cursor: pointer;\n",
              "      display: none;\n",
              "      fill: #1967D2;\n",
              "      height: 32px;\n",
              "      padding: 0 0 0 0;\n",
              "      width: 32px;\n",
              "    }\n",
              "\n",
              "    .colab-df-convert:hover {\n",
              "      background-color: #E2EBFA;\n",
              "      box-shadow: 0px 1px 2px rgba(60, 64, 67, 0.3), 0px 1px 3px 1px rgba(60, 64, 67, 0.15);\n",
              "      fill: #174EA6;\n",
              "    }\n",
              "\n",
              "    [theme=dark] .colab-df-convert {\n",
              "      background-color: #3B4455;\n",
              "      fill: #D2E3FC;\n",
              "    }\n",
              "\n",
              "    [theme=dark] .colab-df-convert:hover {\n",
              "      background-color: #434B5C;\n",
              "      box-shadow: 0px 1px 3px 1px rgba(0, 0, 0, 0.15);\n",
              "      filter: drop-shadow(0px 1px 2px rgba(0, 0, 0, 0.3));\n",
              "      fill: #FFFFFF;\n",
              "    }\n",
              "  </style>\n",
              "\n",
              "      <script>\n",
              "        const buttonEl =\n",
              "          document.querySelector('#df-4844c70a-ea7f-4ce4-bd8e-3d9ab933d1dd button.colab-df-convert');\n",
              "        buttonEl.style.display =\n",
              "          google.colab.kernel.accessAllowed ? 'block' : 'none';\n",
              "\n",
              "        async function convertToInteractive(key) {\n",
              "          const element = document.querySelector('#df-4844c70a-ea7f-4ce4-bd8e-3d9ab933d1dd');\n",
              "          const dataTable =\n",
              "            await google.colab.kernel.invokeFunction('convertToInteractive',\n",
              "                                                     [key], {});\n",
              "          if (!dataTable) return;\n",
              "\n",
              "          const docLinkHtml = 'Like what you see? Visit the ' +\n",
              "            '<a target=\"_blank\" href=https://colab.research.google.com/notebooks/data_table.ipynb>data table notebook</a>'\n",
              "            + ' to learn more about interactive tables.';\n",
              "          element.innerHTML = '';\n",
              "          dataTable['output_type'] = 'display_data';\n",
              "          await google.colab.output.renderOutput(dataTable, element);\n",
              "          const docLink = document.createElement('div');\n",
              "          docLink.innerHTML = docLinkHtml;\n",
              "          element.appendChild(docLink);\n",
              "        }\n",
              "      </script>\n",
              "    </div>\n",
              "  </div>\n",
              "  "
            ]
          },
          "metadata": {},
          "execution_count": 47
        }
      ]
    },
    {
      "cell_type": "markdown",
      "metadata": {
        "id": "6Zy_ElYoP4_O"
      },
      "source": [
        "##3.6 이상치 제거"
      ]
    },
    {
      "cell_type": "markdown",
      "metadata": {
        "id": "zSkeqt58oqwH"
      },
      "source": [
        "####**BoxPlot 확인**"
      ]
    },
    {
      "cell_type": "code",
      "metadata": {
        "id": "IjVpD4CkIiGG",
        "colab": {
          "base_uri": "https://localhost:8080/",
          "height": 957
        },
        "outputId": "0bb99e1a-bffa-4a97-f889-df00e60fd5fb"
      },
      "source": [
        "sns.boxplot(data = df, y='age')\n",
        "plt.show()\n",
        "sns.boxplot(data = df, y='bmi')\n",
        "plt.show()\n",
        "sns.boxplot(data = df, y='children')\n",
        "plt.show()\n",
        "sns.boxplot(data = df, y='charges')\n",
        "plt.show()"
      ],
      "execution_count": null,
      "outputs": [
        {
          "output_type": "display_data",
          "data": {
            "text/plain": [
              "<Figure size 432x288 with 1 Axes>"
            ],
            "image/png": "[encoded data removed]"
          },
          "metadata": {
            "needs_background": "light"
          }
        },
        {
          "output_type": "display_data",
          "data": {
            "text/plain": [
              "<Figure size 432x288 with 1 Axes>"
            ],
            "image/png": "[encoded data removed]"
          },
          "metadata": {
            "needs_background": "light"
          }
        },
        {
          "output_type": "display_data",
          "data": {
            "text/plain": [
              "<Figure size 432x288 with 1 Axes>"
            ],
            "image/png": "[encoded data removed]"
          },
          "metadata": {
            "needs_background": "light"
          }
        },
        {
          "output_type": "display_data",
          "data": {
            "text/plain": [
              "<Figure size 432x288 with 1 Axes>"
            ],
            "image/png": "[encoded data removed]"
          },
          "metadata": {
            "needs_background": "light"
          }
        }
      ]
    },
    {
      "cell_type": "markdown",
      "metadata": {
        "id": "aex-LZTAqmU8"
      },
      "source": [
        "**사분위수 범위: IQR(InterQuartile Range)**\n",
        "\n",
        "자료 집합의 중간 50%에 포함되는 자료의 산포도\n",
        "\n",
        "자료를 동일한 비율로 4등분 했을 때의 위치(Q1, Q2, Q3)"
      ]
    },
    {
      "cell_type": "markdown",
      "metadata": {
        "id": "OFIx2KIwqppk"
      },
      "source": [
        "IQR\n",
        "![image.png](data:image/png;base64,iVBORw0KGgoAAAANSUhEUgAAArkAAAESCAYAAAD5bc0EAAAgAElEQVR4AeydB5gURfqHT+/OiAE9cw6IOUeMp96Zc0I9PeMpYgZFkiRZ0pLTkiUHEQRPRImSkwlRkiKSEQMqKILy/Z+3vNp/bzMzm2aWmZ5fP89s73RX/FX19Ntff1X1J9MmBaSAFJACUkAKSAEpIAUipsCfIlYfVUcKSAEpIAWkgBSQAlJACpggV51ACkgBKSAFpIAUkAJSIHIKCHIj16SqkBSQAlJACkgBKSAFpIAgV31ACkgBKSAFpIAUkAJSIHIKCHIj16SqkBSQAlJACkgBKSAFpIAgV31ACkgBKSAFpIAUkAJSIHIKCHIj16SqkBSQAlJACkgBKSAFpIAgV31ACkgBKSAFpIAUkAJSIHIKCHIj16SqkBSQAlJACkgBKSAFpIAgV31ACkgBKSAFpIAUkAJSIHIKCHIj16SqkBSQAlJACkgBKSAFpIAgV31ACkgBKSAFpIAUkAJSIHIKCHIj16SqkBSQAlJACkgBKSAFpIAgV31ACkgBKSAFpIAUkAJSIHIKCHIj16SqkBSQAumuwNatW41PrC3e8VhhdUwKSAEpIAXiKyDIja+NzkiBjFZgy5YttmnTJtu8eXNcoMroCmZo4YHYr7/+2hYtWmQrVqzIrwXttXLlSps/f7798MMP9ttvv+WfS9Y/5P3rr7+6fvHLL7+Y/3CM/ATYyVJa6UgBKZAOCghy06EVVAYpkGQFgJVVq1bZ1KlTbfHixQ5qSgowwM/PP//swAxo/v3335Nc2uglt2HDBvvuu+9s48aN24Aj+o0aNcruvvtua9u2rdOTtiFOmzZt7JZbbrGZM2c6AE22MsDsvHnzXL+YOHGivffeezZp0iSbMWOGg+7Vq1fbjz/+uE2Zk10OpScFpIAUKAsFBLllobLykAJlqADAhPW2R48edsABB9jTTz9twEtJIRer4htvvGF33XWXTZs2zQFvGVYn47ICYgcPHmzPPPOMjR492j1gBCvBedrm5JNPtueeey4fctevX+++H3HEEfbOO+84QA7GS8b/a9assTvvvNP22Wcf22mnneyvf/1r/mfPPfe0K6+80vr27asHmWSIrTSkgBTY7goIcrd7E6gAUiC5CnjI7datm4OZJ598MiHkEt5/YpXkm2++sVatWhkQNGzYMPvpp58KBWafHvuiboniJDpX1PSLEi6YT0nKTh5A7CuvvGKnnnqqdenSxVlofVrsOf/JJ59Y7969DWuqzxPIffbZZ+2www6zt99+28WLVWYf3u9jhYl3jIed2267zf72t79Z1apVbdCgQTZgwADr3LmzXXfddXb00UfbiSeeaK+//rqz6MZKx+cb3McKF+tYceIUJ2wwr5LGC6ah/6WAFIiGAoLcaLSjaiEF8hXgJo8lF8gtX768BSEX1wP8MAEqXA/4ALH4h37++efuf3xDSYON/5cvX24NGjSwHXbYwXr16uW+8yqeNIJhiUP6+Jt+8cUXzk1i2bJlLj+OBzdAD1jm1ThlpRz4p1IG3Cz8RpqEI52FCxe6MLzWJw4WZs5RBjbSxK2C46QX3ojj8wyWhzx4jU+5lyxZ4vKhHN9++6077rXw6ZEOZaD+pMP/lJk6YylFzxdffNGOPPJIa9GihSszelFXykV6fMf/lrB85xMLcn3ePgx1oz1oL9xQSIeyF3UDcm+//XZn4QdsKRMf0vn000/t4YcfdgD8wAMP2Nq1awskSxlwv6CO6LNgwQL78ssv8/tBgcD/6zvUybcX+Xz11VdOX+rOcV+/YFyO0aZoSj5Lly6177//Pl9rr2M4Dm3h80Af2pI2pL1i5ROMr/+lgBSIpgKC3Gi2q2qVxQpwQ+fGHgtyAYspU6ZYp06dbM6cOe7TtGlT5x+KO0Jubq7NnTvXgSnQCFxg7bvpppsc5D744IMO3PAlBZIAHoCE/AA23BkaNWpk9957r4OpKlWqOKsgcANcs1E+yvHaa69Znz59HCz997//dW4Vd9xxhzVs2NABK9AC3A4dOtQeeeQRlx7A/tZbb9lHH33k4mJZBtBIEwDDx5R6f/bZZ9uADRDNq3jqQ/5s5EEdcQ/A+vrvf//bbr31VrvnnnusefPmNmvWLAdKHpLYr1u3zrkj5OXlObDFvxYLLHHat29vXbt2dVbR/fbbz6gPmrZr185ZbtEBXdH41VdftQkTJrhykm48yOUc8M6ANKyuTzzxhLPGkh9p045eA1epBH885B544IHOZYKysJEHWvTs2dP23XdfO/vssx1Mc5yNNgauaac6deq4umIRRi+s1fj5Bv2PicdDA+ewCn/44YeuvR977DHXjliR0Y3+4/Pw+VAX/IRfeOEF51rx0EMPuTYFXHEDoc/QL3w89jy8AOlYx//zn/84fe677z5r3bq1yxttfXhXIf2RAlIgKxQQ5GZFM6uS2aQAN/N4kAvk1KxZ0/bee28HS/hg8or60ksvdZZHjnMMKx1pYKkDZDj+pz/9yQHQoYce6l6p81obeAFeAdyOHTsa/qS8Cj/jjDPswgsvtMMPP9y5OQC7WDqBKj5Y8v7xj3/YCSecYJzbf//97ZhjjnHfsTR6+HzqqafsoIMOcm4XF1xwgZ1yyil20kknOVBif+2117qyUmcsj9WrV3dlC/uVcn7y5Ml2zjnnWKVKlZyVkGOUHeinzOTDebQ4/vjjbY899nDfAUu0IDyfjz/+2C666CIDYoHbihUrOu3OO+88B+rnnnuus6Dj74olHb3Q4ZJLLnEQTt26d+/u3ALw20UP0o0HuVh/ATjahTyxEJP/6aef7rSlPjww+DIm6uvxIJc4gCyQCACTdhAkgUjat0KFCi5/2vbvf/+7HXXUUa5vUDb6AmmwUR8eRPAJp960E3HRBoDea6+9nG5AKHG8tmiA3rhsoB1+y+eff77rVwzUo1wcGzt2bL5uWLIZOEd/op8ee+yxru+ddtppTh/aZcyYMcWyeCfSUOekgBTIHAUEuZnTViqpFCiSAgBDIsh96aWXHMABpLghYKHDOgmE3n///Q5csGoCNgAEoPvyyy/bjjvu6Kx/fMcCRxzOkxdg4iEG6yQw5afJwqIGmDVp0sRZJD3k/vOf/7Rdd93VgS0WOqAKUCUelkusiqR5xRVXOIsq+ZEvlloAt1y5cnb11VcXgFysf0BlUSGXslPvIUOGuHqSN/lQfvLHrxZfVV59exgFcgHLnXfe2Z0fOHCgg3biAfsettG3WbNmLl3Kzatz6kU6DDzjIaEwyCUsFtybb77ZDj74YGdtxk3Ba4FVmgeKq666yoUDoBNtsSCX/kI+1J2+gSWXNgu6KwDaWFenT5+eX1fKQN/hoem4445zbwOoH5uHXAa47bbbbs46zkwf5MEHbT3A0u4edMmD+hxyyCGuDUmfcmApvuGGG9zDDg8gQcjFvxnrO/owOwVtRTsQt1+/fg6QOR/Lup9IK52TAlIg8xUQ5GZ+G6oGUqCAAkWFXEAGP1fAiDgAK7AJQAJNvMbnOFCCSwOQy3n8HjnuP7gB8EoZqx6uBd5/kvNYSrHwAXRACj6W5IclF8jFeop7A6+oPehwHt9TLIVYegEi778JjOGriUvD7rvvXmrIJT3qTX7syZsP8AuYYj3EIghU+fIBuViVyR+fW8pDHOpLevxft25dZ5nGfYGHBa+VD1NUyAUuhw8f7h4SfHt5v17yAeZ49U8ZAXvKmGjzkAvIYiXHAgzg8+BA+uiNtZz64n7gN/Ki3WlP8uA7HzTDYnvjjTe69qcvcB4dOI6FnH5BHXy/4RzhcGnhIQZXEeCY/HDrAHCB/yD8co7BeAAulnMPuaQF2FLuxx9/3D2cUCZ0pg3pV7gvAM70I45rkwJSIHsUEORmT1urplmigL/Bx/LJBXKw1jFTAqDlAQxpiIdPLa/ssWBieeRYLMj1UgIZ77//vvFKmFfMAAvWPuZ5xZ+VPRY80gM0eK0MHHnI9a+eg3DG//iuAsC4DgBLQTgBXsaNG+dehV9zzTWlsuSSLlDE4CZeaQOK+NTiS4rPLSDO62/8Z8mX8N6Sy+t0rIPED25oEobc8PmiQi6QBtDjOlGjRg0Hd2ga/JAXsIjrBGVMtHnIpezEwZUA1wPah2MAJHUHKmknv1EnABcrMj7R6OE1wlrNAwkuJ/gHE47wtBvHOIcPsm9D9oD6888/7+C9f//+rh/yUAGw4y4xYsSIfCimDKRHf7zssssc0AK5lA84xl8bMObtAy4pQW3oz/Xq1XOgTX6ko00KSIHsUUCQmz1trZpmiQJABLBTGORixQMog/ABmAKsWF6LCrnAIeF5NQ0U8sE/0u+xCgOKpAuEeMglDP6WQHIQqAAgjmFtrFy5sgMrX0aakP+BZax6YZ/c4rorAKi81mZAG76i+AXjZoB7BR98R/nOIDuvFZALGAJjgFmwbJQPkEoG5PIAgjUTK/kuu+xiZ511ll1++eX5GnutOY4lE9grKuTSVrimMICQ6eGYSxnoxYoLtJJ3uE0++OADN1cyVmOss14nABOd8BdmSjQA2UMuPrm4WjBoLKgTaTMDBWkAzFh5cRthoB7uJmgMLAc34vA2gLp6yKWPEof88dfFN9jr4vvfmWee6cpLGwtyg4rqfykQfQUEudFvY9UwyxQAJooCubgWeHBDIuIVF3KJw2tkwAM4wcc31qd+/fruVbQffOYHnvHaH4tfEKiAG6xxQC6vtIkTBCRfTqzA+MsySI5j+G4WF3KBSF6N4zfKzBG8usfqiN8x1mQGxWHdjAW5+ICSZ7Bs6JhMyKUcwCiuEZSPmQ3C+qItVkxcSYI6xur23pILoDP4jfanvMTDOn7xxRc7izwzH3grP/XDLQKLLFCKtZU2x1cY/1ceSADseJDLCm5FgVxcWTzk4mfLw05wo5xALg9UHnLRH39b8kYnHi68PujC/+yxhuMyEW6rYPr6XwpIgegpIMiNXpuqRlmuADfysoJcwAOrKlY0rLWACtZNP8CIPQOU2PPq3b/K9pDLAK4w5AJewBOvurH2MugoCCfkicUQd4awuwLWQSyLzBJAOL8RH4szlsrg7ArANFZZjvGqndH9wBX6UVasqMw+sT0gFz9kdKNOWCrxPcVdwGvrdfUa41cc1MnXPbgPQi4uE14j4hEfH2LcTtAVX2OOo8fs2bPdQwfTlvEQgOUVKzgfHjKYfq60kAuwYm3F+svUcMH6AOFYbf3MF94nF6sxs38wewVuJjy0eH28Lv47ZdYmBaRAdikgyM2u9lZts0ABwCSZkAtc8FqbxSAAI2CVPPwHf1aWisWSizUROAGe/Hn2gCtl8pbDRJBLXAavebcJrKvEIx02rIoMUMJPNTi7AseZwQErJVNTBS2R/M8UWICxh1zyYTQ/gI4bAADpy0x++NviAxrPXSGRJRcLIq4PzLUbLAfpk29RfXLxOcVPmHIDkjxEeC18WUmPY8Co1yheN48HuYQnLi4JWGyBapZypi0pw/jx491sFrg1YF0mT8IDn/joYl0tLeSSD22Ero8++qhzIyF98gFmKQ8PUsGBZ9QbKzZaA7uAMv2MOP5DWYFxjmuTAlIguxQQ5GZXe6u2WaAAN3cPufheYh0DbjjOnimfGHgWz10BP9mgTy4WRQYC4RfKSlhYUZm3lZkZgA8gjlffwAfztzL4jNfTWNV45U84fHEZgEZaQEciyKWJsKK2bNnSTU3F62isrKQHUFMWygiIBSEXSx2LFWCJZPEK8iR/oIxpza6//npnjQxCLjM/ALj4mGI9BCLJA2slr769b27Ykks9E0EuVkV8hoF/BuKhF24XWIqpf1EhlzbDP5V6kh/+s5SZeuFLTN34ziIYWL+BwkRbYZDLAw0+srhH4BqAlRZAxH2A/HEvwZUBjSgD7i24lPBgEQtyOV4UdwX/IIBWuEwA9fiUY0Gm/rhSkA5W3vAUYoRhmjnanYcfwlM++gv64E6B5Rf9tUkBKZBdCghys6u9VdssUMBDLkvwAibPPfdc/gApXAmY8xZYwEcRS5jfiAcQABkM1vEWW6AMQOAY6TGhP9CF/6SHIICicePGboQ+EMJqWPizssIVkMoxfDl5xU56vArHnxZLKQAVhjO+kybpeLhipS/8UgFcPgyUCg48Iw6gC+BiVQbIKAMuB8wYAQgB71gq/YAxLH+sGsZUV8wwwOt4yky61BctcHHw/qtohPsEYIz1kFfhHAtufAc80YiHDMrB4DvKjmsG9cedAgsyPsR8Jw5WU75jrXz33XfdAwTHeTDgAYHwaIFmWDp5eMEPFWjnw8NFYdZK6s20aMB72KWDOpAf8EqZKYe3omNZx1Lq2x8fXKbsoh0oD24laM6DBRZZ6sSDAg8PgD4PD6TtN9qqdu3a7sGIuWw95KIBlmGs5/RR2o32ot2wZNNG+GIDvV438gO8aSfioDX60N/Qh7rQjrirBMvgy6K9FJAC0VVAkBvdtlXNslgBIAKLK8CGZQ4LIjd4IIIFBIAULGCAgt84j+ULCyZ+oMCV37Cs8vqeOW2BG8ARyMJ6CFgBy0AxA5KYlxTA86tiASe1atVyFk3CkSfQhGsB0zsBs8FykCdlISzl4XU04IL7AvOxYs188803HfAEB54Rj3R8HYiDxRXIxrLKymZMn4YrgdcDnSg3yxwTjim1GJVPHbEqMrcq4IklmLQpF3O8Um4gKpafJ2FwHcD9gTqS1sMPP+w0ZbAW6fhla3FFIDwfYI3vuAQAiKTh64T+gCJlB/zxTUVfrNPoDbDirhHW0SUQ+EO9gXogEBcE8g1ufKePALeUGd34TltgfafeaI6u+O2iDTrxQMVDCPXD8ks6WJrRCIs8DxPBvCgn/ZBBf4BxsK70O6yx9EPKwHy+WHV5MGL2BGZ3oC19XdmjHW8M6Ge0I/oAtlij0Qc3GvQJliFYb/0vBaRANBUQ5EazXVWrLFeAmzkABmjwCtpb+IAVABOw9NazoFTAAtZJgAYA9BsgQRrACnF5HUzaQT9QwpMm53k9j9USWAPOeE0OvFAuPpSDfLAsAnDx4IP0yRPAxsqM5RhrMPOfAjthyCUdIIt0iYNFFfgBZIE10qIsXg/qR1kAIFwsgCssy1gz0QLtSIu4voyUlzL4hQ+8RsE9YSk7dfR6AWlec9KjHKTvNw/caE/eHuI4T3qUk/IDz5STugGVpE/9iO/L6NMM76k39aHtYgE64ckHGCZd6umhlfTJnzzJmzamTqRDn0IP6uzLjU7kg7akEdwoJ2WmrsT3cQhDPqRDOb1bBv/jL4x1HYs8bRqsK/+TB5rSjvQ9Pl4f6kO9tEkBKZBdCghys6u9VdssUoAbfxAEfNX98VjnCOPP+/DBvT/n98Fzwf/9efZsfh8rTPBYvP+D6fE/VuhYkBuMH47DuVjl8MeD4X06/pj/7vfxjvvzfu/D+b0/zj7WMX88GC74v48T3gfDFOV/4he2+TzC4fzxWPt4YcPH+e7jB88B97iD4GMMrAK5vC3AWozrCS4iuN8A1cQPbz7N8D4cTt+lgBTIDgUEudnRzqqlFIiMAgAMA9FYQY3X0WGrXmQqmoUVwbqL/zOuGPh847qBaw1+vwwsw/cY/2QPsVkokaosBaRAMRQQ5BZDLAWVAlJg+ysA4PC6Hv9MRvaHBzVt/xKqBCVVgNk68LdlkB6DzpijGOstvtIMVMNdpShuGSXNX/GkgBSIlgKC3Gi1p2ojBbJCAfw98QfF5xX/TW3RUADfXFwW8P3Fn9dPVYa/L/7BtDUPOdqkgBSQAkVRQJBbFJUURgpIgbRTIJWvrJOVdqqBLFnlTLvGDfjs+jqmWst01EBlkgJSoHQKCHJLp59iSwEpEDEFeB3O7AfMYhAc4ARkMYKfD2FibYThHLMoMKsAlmbSCM46EI5HHGY9IAwWavZ8fD7x4A6rJxZOZiggP21SQApIASlQUAFBbkE99E0KSIEsVgCgZEor5uH917/+5QY5eR9Q9kyJxhRjfp5dLxXxmKIKOGbqLVZea9OmjVvWlzlkmc4K6OVVfHgjHjMJMJhu5syZNmPGDLdnyjTm/GWaMXxVw7ALGLMS27PPPuvSD07DFc5D36WAFJAC2aiAIDcbW111lgJSIKYCgCQWXFbwuv32291cuxwDIIHfs846yw2ICi5GQEKcx4+UxTIYKLXHHnu4pZNZ8axcuXJuOWEWxWCBDsIGgRVLLytzsZoY8Qjv47MSG4tasHAClt1gPCDXL4PLggmxQDhmJXVQCkgBKZAlCghys6ShVU0pIAUSKwBAApz9+/d3y/yy3Kx3V/CQy/KyJ510kpvH1cMq8bDE3nfffXbQQQc5CG7RooVbJY3prt544438pY2ZMQArL8DsN6bNYulblqQlDSy/fNq2betWNAOaWcp22LBhzlLs45G/B2Sm3AK8teCBV0d7KSAFpICZIFe9QApIASnwv4FOrOJ100032XHHHedcBTw0JoJc3AlYuvaII45wSw+PGjXKWXWJSzz8bFl9jSVsDz/8cLv88svtiy++cH64ALKH3EMPPdSAY/xr+ZAurhEsS7v33nvbAw884GYc8NZc9qTPkr6sBFa9evVtrL1qWCkgBaRANisgyM3m1lfdpYAUyFcAYBw4cKCdcsop9uijjxZYcjce5HIcf1ssqVhi+/Tpk2/99QkDo3wId8EFF9hf/vIX50sL3HLcQy6LHeDHS5psnAOUseACucTFYsxxv/E/IIx7xbHHHuum2fJg7sNoLwWkgBTIVgUEudna8qq3FJAC+QoAi/i81q1b11lb8/LynGuAB8p4kMt5wBRAZZnhDRs25ENqfuL/A1YGq+GG8Oc//9muu+46t7AB8eNBLvEZ7DZy5EjnPnH22Wfnx/FpE58ZHLDi7r///oYVWTMteHW0lwJSINsVEORmew9Q/aWAFHDW0dWrV7sBYFhEx48fX2AmhHiQy/GHHnrIDjzwQLdKVyIrKuewuu68885uSWK/PG0syAVe+bAAQvPmzW2vvfayu+++27766qttLLlMNwaUM0iNgW9AL3G1SQEpIAWyXQFBbrb3ANVfCkgBB4UsGctrfwaXLVy40PnMemniQS7geuutt7qZERo0aBDTiuvTADyZuQEYrVChgr399tsuXw+5uDvgJjF8+HDnotC3b1+rWrWqnXrqqXb88ce7AWtMURYGWKy9uFkA2o8//rhbCS4cxpdBeykgBaRANikgyM2m1lZdpYAUiKkAEPvBBx/Y+eef76ByzZo1BWYqSAS5DFQ75JBDrGnTpkWCXGD26KOPtrfeeqsA5O67777u+CWXXGIXXXSRKwfHjjzySGvdurWbkQGgDW+UDb9dBq5h7WWBCG1SQApIASmg2RXUB6SAFJACDk5ZjIEpvvCtZeGGIFDGg1zCMP0XU4fVqFEjIeSSBhZiXA9OOOEEGzt2bAHI3W+//eyWW26x3Nxca9asmbPKMssDlmVmb2DasWCZfLORLtOUMXMDc/suX77cn9JeCkgBKZDVCsiSm9XNr8pLASmAAoCinyWB2RVYKjfoXxsPcjn+/PPPO1eBa665pkCcsLL4zk6ePNnNrlCpUiVnOcatwLsrMHgNmGVVNMKyZyAZVl0WisC9AdANuyJQhqFDhzprMvPsUnZtUkAKSAEpIEuu+oAUkAJSwIHjkiVL7MYbb7SKFSvahx9+6EDTS5MIcnEVwGf2qKOOsvnz57t5ccMgyncsrCzBu+OOO7q5b/kehtzwFGIAcPfu3R1EUzbKGE4bGMd/l9kVnnvuOWMAXTiMr4f2UkAKSIFsUkCW3GxqbdVVCkiBmAoAhawexkAvYBVwZTowv8WDXOJ9+eWXblYGIJMFH5gBwS/By3k+DBjD2orrAQPEmL2Bqb44F7TkBiGXvMn3448/tiuuuMJBLOUKDj4jPtZdZmDA3aFTp04uPV9u7aWAFJAC2ayAIDebW191lwJSwCkALG7evNlatWplLKP7yiuvFFjUIRHk4lrAUr3MggDoNm7c2IHpsmXLnPWW1c3effddt9IZg8MAYaYGI8/CIJfzrHyGNXfPPfcsML8uBec8UP3ggw86dwX8illhTZsUkAJSQArIXUF9QApIASngFAAYx40bZyy6gH9tcL5ZD7mA7Omnn26TJk3KH2RGPKyrI0aMcFODMbCMAWz//ve/7bHHHrNrr73WWVkB4CeffNINagv6+2JBZlYELMjt2rXLT9c3C+njgkCahOnZs2d+GM5NmTLFrYaG7y5+vBzTJgWkgBSQAoJc9QEpIAWkgFMAOGT6raeeesrKly/vrLFYadk4B0DizgCoMqduECaZ9QD3A47XqVPH+fYyFRhgyry4LMv78ssvOwsuYYNxcYtg+rH777/fgXLwnG8awjAXLgPLcGnwrg7AN1ZnwLtr164F5vb1cbWXAlJACmSrAnJXyNaWV72lgBTYRgFA9r333nPz1daqVcvNVOChEzgFgvngBxveCIeFFqvrZ599ZjNnznRp4b6ABRZLK1ZXwNSnSRrEYUYEfHvxzw2e83mQN+cYeEb6+PxyjDg33HCDXX/99W6hCY5pkwJSQApIgT8UEOSqJ0gBKSAF/qcAgAlwMgsCizywQARQ6jfOx4JQf569D8MegF21apVVr17dzj33XOeWgK8u/r/BzccJHov1vw/HnjRGjhxpV199tXXo0CF/sFuseDomBaSAFMhGBQS52djqqrMUSLECgCFWxSAgpjjLpCXPwC2W383Ly7NPPvmk1HUASJkuDCDt06ePA+dkDA4DoBnwhi+wn44saSIkMaFM7gtJlEFJSQEpsB0UEORuB9GVpRSIsgJAHa/9/Wt9vmfSRnkBMyAyWZDu00s2+JNestNMZluhJa4dWMc1KC6ZyiotKSAFiqKAILcoKimMFJACRVYAsFm0aJFbmGDixInbvJovckIKmPEK4FJBH2CRCvpEpj3wZHwDqAJSIMsVEORmeQdQ9aVAshXAaskSuQ888IC9+eabBVYOS3ZeSh8kLdkAACAASURBVC+9FWB2CvoAfYFFLQS56d1eKp0UiJoCKYVcftCCn7IWD783XpWx9z+uvNrjtdn69evd60h/vKzLpvykQFQVEORGtWWLXy8gF19k5gzmwUe/t8XXUDEyV4HtyT/kzSwsMFDQVYjjfOe4X5kxcxUuvORJh1xucPywMY8jIMm0N0x27oXGzy0ZGw0FsJIXe74HN74zaIRlMNmTL8coF1MEMQCEcoXjBdPQ/1JAChRfAUFu8TWLagxBblRbVvWKp4BnIOa2hoHgDM9AGzdudO5byeIOuAZQjcVVHGPKQRho1qxZ+eMLyHvGjBnuOKslwk9R3pIKuTTuN998Y4MGDbJ77rnHrdN+yCGHuDkiL7/8cjeJ+aeffurELm0j04BMxfPOO++4kcU0dHCjLC1btnSTpDN5Op2LPP0SmEzQzsTtUW/goCb6XwqUhQKC3LJQOTPyEORmRjuplKVXAL7gw0qJzHry0EMP2cknn+yW2z7yyCONxWFYuIU5tINvl0uaM3mxZPjUqVNt4cKF2xjsYJ7XXnvNLTdeo0aNfNaBeZ5//nk744wz3MwsyZjppaR1KIt4SYNchJs3b557LVWhQgUnIBOUP/LII25uyPPOO89OOOEEN6fjmDFjYlpfi1NhnpKAaZbZZCUgltUMbtxoc3Jy7Nhjj3WrCRGeTsFE6gyCOPPMM91TjiA3qJr+lwKlV0CQW3oNo5KCIDcqLal6FKYAfIHltFq1as64dtJJJ7klvWGge++9184//3zHI5dddpmDS6y8xCnpRtwePXq4PNq3b59vqfXpAbn9+/d3RsZnnnkm39oL8wDbLDc+fvx4Zwn2caK4TwrkIjbzNAKPhx12mF166aXWr18/B700OqNqJ0yY4AYfAJ1Miv7++++7pxkvKmn4jz8W3IfPAbXMY7nbbrtZ586d7dtvvy0QPx7kAruff/65e/ohDdINbxyjI/jXAKQVKxzxfLnYEw4LM59geP7nGCON2ZN28Hw4f32XApmsgCA3k1svuWUX5CZXT6WWngpwT8cls3bt2oaRj+W8u3fv7hiIVQmZdxuLK7B58MEHu9UPx44dW4AFYIJEXBA+z+9s8+bN7ZRTTnFLhntO8eHiQS7nsQB/+OGHtmbNGleGsKqEoU6eW/gea/N5+fPsicPHnyMe/3umgoPKkoGSArmIyxPFcccd555UaExvOfUVZY+wmPAPOuggq1KlilvHnePAJL67uBJ4t4KgoBxbu3ats8ISHpEIy3rvu+yyizVp0sTmzp1rS5cudXNzYn5H5LAllzTJCyCm44VfGZA2T1fM6Th//nznt8JgCdIljm840qHOdGrOEWfdunXuf0YQs0oS9aecnKOsWLnxgwHu6fC4WnAD0CYFoqYA14ZmV4haq5asPoLckummWJmlAIwCtB566KEOcocPH54PcnAFH/gBznn44YcdA91xxx2OGzyc4rcLe8AVHPMbcYFC3kLjCgG38B1Affnll11+WI9hGniEFRbhjkSQC88QjjFKwbxIF3ahHLhz4ssLz5A2ccJuoeTjy8X/GDsZAwWP8Z06s2fOdNw0pk+fbrNnz3buFeRBGYP5+zonc19qyKWAFBTTN/Bas2bNuIUm7BtvvOHM5/vuu68TERGo7EsvveQAGQhEaL/RwIhy3XXXufXZ+dFE1EcffdTKly9vO+ywg5EWFuTDDz/cuSGwPjyNF4Zc0gIuq1atavjIeJ9cjvMBSnv16mV///vfbeedd7Ydd9zR/vznPxuvHQBqOih1ICzpDxkyxI444gi3pCadjXB/+ctfbPfdd3dQC/h26dLF+eXstNNO+emVK1fOPenhR5PqBvY6ai8FykoB+rQgt6zUTu98BLnp3T4qXXIUADgfe+wx23vvva1WrVoxB7XDDfAO4Iil98QTT7TRo0fnvzFmDBFunbhfArp+g4dgiQsvvND+9a9/uTfR8AfT8mEV/utf/2p77bWX4x8YiDQGDx4cF3JJD4szPsL4Dgd9ckmXY//85z9dmjAQ6cNXDRo0cO4Y1IONPdZqxluRXrdu3Zz7KOx09NFHO9YDcDl+wQUXmGcgmA1G4o0/kwAE8/d1Tua+1JALGGK9xMeVRsPHIx64IQoDz6gcQgwYMMBRPuD5+OOPu4pD+mHInTZtmnNxwKeFH02eNPDHve2225xwPBE1atTIme7btWvnLKeEiwW5PJEwKI78KQt5US46FQPUAFXyady4sZvfkQb6xz/+4UAVgPfWX8L37t3bdYCzzz7bKlWqZE8++aSDWuLyxIV1Gz9kHLxbtGjhptIZOnSoK9dNN93kLNvBuiazYZWWFNheCoQh118zXGf6ZJcGtL2mENteV6LyLQsF+E2DKxgfdOCBBzo/WLgo1kZYLLZ33nmns/rCBbAK8FuvXj1nfIMbgmOMOAdEwxIYEzHOYVF9/fXX7eabb3YD22CU3NxcxxkdO3Z01tR4llyYA0NfxYoVDR7xv8+UizmtAWUgHN4hDzjnxhtvdBZjBqxhZPS/4/DWMccc48JTfziuQ4cOjoN4c821f9ZZZ7mPZyoMnbhZ8FDw7rvvpj/kIhBPI7gqXHzxxc5MnQhyeXX/n//8x1k8sX4imD8GeAK0QfAjLdwfEAqY9B0CUztPPrvuuqtrXFwAcGnwJnU6RizIxUe4cuXKzkKLCwHhqAOgTie66KKL3BMI6QPTzBYxadIk15l4OsGq7OeYw+qLpRcfnK5du+ab9OmQQDAdAosx1lzM9TwlcZxyknc8n+BYF4eOSYFMUcBD7t133+0e9HiYxC/ff7hW+ST67s+xD4aN9T3WsURxCsvfpxdMI1YcwvlPMKyP78/5fWFhgudj5Rc87/MIHosVx+ftwyf6XpQwheUXPE96tD03bX5zNU9uplzBKmdxFAD46Pe8WQYcGVjPsXgbzPHEE0/YAQcc4Abmwx8cq1u3rgNfDGuxIJe0r776audKCSMBpQ0bNnR5vvjii44rMK7BQABuIsjFXZTxUcy+4OfQBUoZFAfPALe4HlAO3mDjv3vVVVc5K/Fbb72VD7kYBnHR4C0+cMt4J6zOlI091l+Mnwx0g/VgKjgIBsK4CSsFeS+eZqU5XmpLLkIiCACICDR2ogamopi2ea3/1FNPOSGLC7mkj/ixBp55MbjRFhVyaQyeqBjEhn8vP84c8x/KR2PiFgFYA77A6quvvuosyTxNEYdy+Q8d99lnn3WQy8A4/JFpeJ7AKJsP58urvRSIigIecnlbwY8yT/e85dAn+zSg7ekD9AVBblSucNUjqAD3cqyrGOlOP/10Z5TjWLyN38cXXnjBQe6tt97qILO4kOsZAoso05RhMOSY38i/OJBL/p06dXJWXHyGPQPBOp6DgFgMgViBPb/ARbhsYvmFbwBWfw549m6cwDgcBTDDQMFwvsyp2pcacqkIkw0DuZjMY83X5gtP5fG/5akDyGU2BiycyYJcnw97GryokMurBnxdgFxGPzIdByZ//6Fx+bHmyYsyY+UFcrHk4mfC0wpPJNTPb+QP3NIBjj/+ePfkxnQeWDZoaDpgsFP6eNpLgUxXgH4N0AA2POhx/XAt8FAa68ObjuBxwoaPBc/HOueP+X04fKL8g2Hj/R9OtyzLGM47HcsYr0y0Pb+pgtxMv6pV/ngKcN+HexgEzyv7yZMnF2CBcDwAj4Fi8ARuCzBUaSCX2RVwdQjzRHEglzLgS4xPMe6cuD54/mHvr2PeTGPMJC/qDeTCN4yRCrto8NYd1wTKRximUoOZGJgGPFM+D7thjZL5vdSQS0UmTpzoTNJMDTZnzpxtxPYFRhgsmry6wpkZIXlK2J6Qi8iY2HmiAnKPOuoo55eLb27ww6sCnpiwQnt3BBqMp7fWrVu7evh6sqcDUDfcGHgFgDmfDrT//vs7n2T8XHjyCYJxML7+lwKZqoCH3Pvvv9+95eGhjldUvKrSJ3s0oM1pe/z+6Auy5GbqFa1yJ1KAezgMgT8uEMjArXj3dY4Dg1hLvdGsJO4KHjL9FGKlhVxYhIdReIZBZkBpkH/4HwbClYExUD5/IJdzWKbDkEsYQLZnz552zTXXOLeGPfbYw/bZZx/nFsqDMa4VMFgqt1JDLgXEd4ORfwAiIwMTNTB+HwzEAiiBY0QIQi7+t8FKkxZPRgxs8z65HIvlrhAUCoGLasnFT/euu+4yGgAoZXYGBsAFP5Qbf1ysvnRKb8mlU7Rt29Y9mQTz538anUbkyYV5goHiBx980MEylm/mEuYmEE+vcHr6LgUyQQGuPYCG0b8MZOBBWH08E1ouuWWkzWl7DTxLrq5KLb0UoJ/DQMxIwEqqvOXBMhprg21gCFx4AGJcHrlGsOTyah//Vhgk7JPLG3DGPXmfXA+ZyYJcHkirV6/uABRDHtOhBfnH/w8HMRUYdeYD5GL84+18GHKpP2FgIKZkhfd4m427AxZvLLy4icKAqdxKDblUAh8LHKl5NX/DDTc4p+JwhQnH0wKi8KSA1ZeOQePissBrTYDRj7YjvBeJ6TB4gghCLpBJZwCWMadj/iaOj1ccyMVPmGXvmNaCDkqjED/Wx+dRFMj1YUmHzk1HwpJNeXHX4FUFHd6XOZUNrbSlQFkpQH8PQ25Z5a180ksBQW56tYdKkxoFYAaAbb/99nOzPgF1/A4G7+38z/XQp08fxzMYBvmdhIHgA/xWYSPeDDP1lucHgBnjH1AchlzyBBbr1Knj0vD5sQce4614Fh54RrlIC8hmwDwD2GLxT7BO5FEUyCUc8agjBkKMmhgGGfjGrFSpfqNdasily1ABSJ/52RAJ/w3gjYaigXhFiWhYZKkUDUkYXzkAlUrj08IoPOAXMYgLgOLvwRNSEHJ9AwK5NDAD3rCK8gTkO01RLbnA57hx49zrBmaIwJJLWjQ8AE/56cSMCKRcNFZhkAvkUz/iUCbS4oMmWIQBepY95jWH75ipufyUqhQoWwX4PRDklq3m6Zobv3my5KZr66hcyVIATuCNMMDJG21AEY6BAWAVGAMW4HeRMBgE8YGFJzwEwkSALFNrMfMA/ENcoBAuAqDDkMsrf9LD3xWOIj/YhOvOMxLlwRUBLmKDX8KQy2/2qFGjnFUWizGzKcA8lIG6sYeJyMNbmQuDXNL0g9bgHuoKF6HFO++8Y6eddpobqJfqt9lJgVwqi6j4mR5yyCHOugqY4rrAlGBYZxmcxXxqzFDAORoAEYhLxVkhg0bkNT5PMkyxBTgz0ItGZLJjD7m+oYBm/DswffMUhO8HeTIwjIbxkNusWTMHquQVnkKMBuc4nYOGpwz40DLtDWVglCFmdp5YcDXAXE+DJ4Jc0qMzMFMDDubMPkFajMDEERsLLpZcXjXQCbRJgSgpIMiNUmuWri6C3NLpp9iZowC/e9zfcceEc/BdxSXRMxCgynRaGOYYyM7qZLACG3sWRiAuU5Ex/ywrjcFAcARWTwa5hyEXN0hcOZnblpmf4BYWqYJbigO55I8hElZivBSsRRkYY4UBkXLwlht4D08hFs9dAU5irl1gnnUNmKaVN9m4QjC4jTLjugBLpXJLCuRSQBoYIgcIGX1Ho7Aah/9g4WWRhVatWjnrLOH9xv88HfAaH8EYpIW1Fyhm8mOgF/cG4JMfTTYahScjHK5pEBylyZM86FQ0MI3OlB7E5ztxeCoCVoFjXil4yOUpx09vRnrkT5nZ0xh0TlZdY3YEAJqnETownZmpN3jq8Rv50HB++gyfDmnxwVH76aefdm4aYbcOn4b2UiBTFeB6liU3U1svueUW5CZXT6WWvgpw34djYCAWqsLFEpbxDARHAKQY/HjT7VmGGhEXQxvz1sIyGAv5YFVlBVYMiKR3yy23OIDlN5Y4MBfwyRReTO/l1ytgxiuYh0GfGAFxx4R12NgDqwA1UO6tybAIDASjwVtYlWEXys2e9JkuFeAlbz6wD2FhnTDLkC51pWxYrn1a1Iu0GIzKm+xwvGS3cNIgl4IhPPDHQCsaC2jFzwNXBBoJ+ARMvdjBygCZnMNkTjxmXmDJuJkzZ7pGxbyNRTgYF9hkpgMWa6AxWUGNNaNpKITDespIR/Z8p1GAT8qBxZdORZnZOMf/OHizahtPRJSBD52I9DHh83RCGUiPpxLSwUIb7LCkx3mepuhE+A4D2mjB6wVe3/EUF44T1EP/S4FMVYDrSJCbqa2X3HILcpOrp1JLbwU8YzClGPd+IJD7Pvd/BpkBwHAO7BLe4AreAMM6xMNIx8IQvLHmjS/pYbmFW8iHjTikh4slzAWPjBgxwsEjTAVMM/j3/fffL8A6uExyHKNfkKngFvKCqRgo77mF8mCNxboMWLNRBgyFWHY5HkyH8+QPI8F0sBxp8fYavqMuHnB9XVyiKfiTVMj1FafQ3OgQjMbkw3eOJ6pQOB6i+TjE5xPewueD+fj02Ae3eMd9GM6TN+XmR5rGCqYbDOeP+2N+Txo+H58W6QXT8mG1lwJRUoBrQpAbpRYteV0EuSXXTjEzWwF+B7nfc9+HhYI8E69mnhkIz4f4QZYgzfAWPh9kEp+eD0NcfywYLpimD0t5KUM8BvLhfDp8D27+O/tYaQXDpvL/pENuKgurtKWAFEh/BfjRE+SmfzuVRQkFuWWhsvKQAlIgngKC3HjK6LgUkAIlUkCQWyLZIhnJQy5zJvPg4607kaysKiUFpEDaKSDITbsmUYGkQGYrAMgwwwmznTBQk1du2rJTAdqePoB/H31CkJud/UC1lgLbSwFB7vZSXvlKgQgrwMhaBnn6WU0iXFVVLYECQC3zjNMX6BPapIAUkAJlqUCkIZfXpny0SQEpIAWkgBSQAlIg2xRg0Fc2c1BkIRcLAtN9McExIwSzuZGz7aJWfaWAFJACUkAKZLMCMBCAy5RgTO2ara5CkYVcBjw0atTITVTMog0ArzYpIAWkgBSQAlJACkRdAdyDWFvgwgsvtKeeesotWJWNoBtJyKUhWXmEEb2srsGqaPiFaZMCUkAKlL0CzB/pP2Wfu3KUAlIg+xSAeVjUihXLWK2VhR8EuRHpBzQkK4fce++9dsABB1jdunWduT4i1VM1pEDaK8Coet6e8JqsOB8GKIXDxzoWDhP+HitOrGPheEX5HiudWMdIa8OGH+z331fY778vt02b1tmPP/6/HrHixDpWlDKFw8RKJ9axcLzw91hxYh0Lx0v0nfi4kGXjDTftL1wVMDIKALms1spyutdcc41bYSwbr7nIWnLxxa1cubIdeOCBVr9+fVlyI3PpqiKZoMD369fbjOnTbeK4cTZhzBibOHasTRg79o994Ls/FjzP//67P+/3wXOx/vfx/L6weP58qso4eeJo27TpSdu8+TFbtKCzTRg7Lr9uRS1jfj0Durm4ge++Hj5NH8d/9+f93p8Pfg/+7+P5fbxz4fOF6Ug648eNi7u8eyb0bZVRCmSCAkAuy/F6yGWJXUFuJrRcEcpIQ65Zs8buvPNOO+igg+yVV14R5BZBNwWRAslQgOtv5cqVNqRfP+vesKF1rVPHutauXfBT1GPheKX9Xpx8ixM2TrlebVTdNqzfx37ZsJdNGXmddakZQ4tw3OLkW5yw4XxK8704+QbD1q1rXVq3ts8XLXLW3GT0N6UhBaTAtgoEIffaa681Qe62GmXsEW6yTDx+2223Ocht2rSpIDdjW1MFzzQFuP5WrFhhA3v0sO5PPmmjq1e3iTVr2ntZ+JlS/3nbtH5P27xhN1v8xj/tvZdqZ6UO79WqZe9Ur259qlSxzk2a2OKFCwW5mXZhq7wZpUAYcpcsWSJLbka1YILC+pvsLbfcYgcffLDl5uYKchPopVNSIJkK+OtvYPfu1qNKFVvSpImtb9vWfmrfPus+G7o0t99/3Mt+/3l32zTxDvuxXYes08C3+/JmzWwIkJuTY4sXLBDkJvOiU1pSIKQAfvEdO3Z07goMPBPkhgTK5K/cZJctW2Y33nijm12hTZs2gtxMblCVPaMUCEJuzypVbFVurm3p1Mm25uWZdemSPZ+8LmY9W5v9tLfZz+XMJlU269w1e+ofaGvafl3LljasalVBbkZdzSpspioA5Hbo0CEfcr/88ktZcjO1McPl5iZLg15//fUOcttjQfrpp3AwfZcCUiAFCsSD3KwCXA94glwH9YLcFFxoSlIKJFAgCLmwkCA3gViZdoqbLE7WOFszspARhvinaJMCUiD1CghyA9ZqQa4gN/WXnHKQAtsoAPNg4GOtACB36dKlsuRuo1KGHuAmu3jxYrvqqqsc5Obl5QlyM7QtVezMU0CQK8gNW+1lyc2861glzmwFgNx27do5yL3hhhsEuZndnAVLz0124cKFduWVV9phhx1m3bp1E+QWlEjfpEDKFBDkCnIFuSm7vJSwFCiSAkBu27Zt8yFXK54VSbbMCMRNdv78+Xb55Zc7yO3Vq5cgNzOaTqWMgAKCXEGuIDcCF7KqkNEK4JPLoHvcFRiEL8jN6OYsWPjff//d5s2bZ5dddplbt7l3796C3IIS6ZsUSJkCglxBriA3ZZeXEpYCRVJAkPuHTJFc1hfInTt3rl188cUOcvv16yfILdJloUBSoPQKCHIFuYLc0l9HSkEKlEYB3BVat27tLLk33XSTm1aV3+Zs2yILuR999JFVqlTJjjjiCBswYIBt3Lgx29pW9ZUC20UBQa4gV5C7XS49ZSoF8hUAclu1auUWxBLk5ssSjX+w5L7//vt23nnn2ZFHHmmDBw8W5EajaVWLDFBAkCvIFeRmwIWqIkZaASC3ZcuWDnJvvvlmW758uaYQi0qLA7mzZ8+2c845x4466ih77bXXBLlRaVzVI+0VEOQKcgW5aX+ZqoARV0CQ+0cDR9ZdYebMmXbWWWfZ0Ucfba+//rogN+IXtKqXPgoIcgW5gtz0uR5VkuxUIAi5t9xyiyy5UeoGWHJnzJhhZ5xxhh1zzDH2xhtv2M8//xylKqouUiBtFRDkCnIFuWl7eapgWaIAkJubm+vcFYDcFStWyF0hKm0P5E6bNs1OO+00O/bYY23kyJGC3Kg0ruqR9goIcgW5gty0v0xVwIgrAOS2aNFCkBvFdgZyp0yZYqeccoodd9xx9tZbbwlyo9jQqlNaKiDIFeQKctPy0lShskgBILd58+YOcm+99VZbuXKlLLlRaX8gd/LkyXbyySdbxYoVbfTo0fbLL79EpXqqhxRIawUEuYJcQW5aX6IqXBYoAOQ2a9ZMkBvFtgZyJ02aZCeddJIdf/zxNmbMGEFuFBtadUpLBQS5glxBblpemipUFingIfeggw6y2267zVatWiVLblTaH8idOHGinXjiie4zYcIEQW5UGlf1SHsFBLmCXEFu2l+mKmDEFQBymzZtakDu7bffLsiNUnsDuePHj3dWXFwWcF3YtGlTlKqoukiBtFVAkCvIFeSm7eWpgmWJAkBukyZN8iF39erVsuRGpe2B3Hfffdf545566qk2ffp0+/XXX6NSPdVDCqS1AoJcQa4gN60vURUuCxQAcnNychzk3nHHHSbIjVCjA7lvv/22VahQwU0jxupngtwINbCqktYKCHIFuYLctL5EVbgsUCAMuWvWrJElNyrtDuQybRhz5LIgxAcffCDIjUrjqh5pr4AgV5AryE37y1QFjLgCQG7jxo3zLbmC3Ag1OJDLAhBA7plnnmkff/yxbd68OaU1ZEU1VhSZP3++rV27VlCdUrWVeDorIMgV5Apy0/kKVdnSTYHvv//evvjiC/v8888NOIVhSruRziuvvOIg98477zRBbmkVTaP4dJDhw4e7JX3POussmzdvXkohl5s6Heill16yq6++2rp3727r16/PylcDadQNVJTtpIAgV5AryN1OF5+yzTgF+L2EUSpXrmz4zn7yySdJ4RUPuQceeKAJcjOuWyQuMJ1m6NChdvTRR9s555xjCxYssC1btiSOVIqz5Ld48WI3Tcc+++xj9erVc9ZcjmuTAtmmAP2etxoDu3e3nlWq2KrcXNvSqZOFwScrvvdsbfbT3mY/lzObVNmsc9es1GFrXp6ta9nShlWtap1zcmzxggVJuZFn27Wl+kZPAYxyzAZ1wgknuBVap06dmpQpT4HcRo0amYdc3jBnI5P8KXpdxlxDDho0yEHuueee6wC0LCCXCZfLly/vIDdbXw1EsT+pTsVTQJArS274AUaQW7xrSKGzR4Eg5DJYPpmQ27BhQwe5d911V9Ya3iILuf369bOjjjrKzj//fFuyZEmZWHIFudnzw6SaxldAkCvIFeTGvz50RgoEFfCQy+qsyYbcBg0aOMjFFeLrr7+WJTcofCb/z022V69eduSRR9oFF1xgX331lSA3kxtUZc8oBQS5glxBbkZdsirsdlQglZBbv359Qe52bNuUZc1NtmvXrnb44YdbpUqVnH/gb7/9ltL88MmVJTdlEivhDFJAkCvIFeRm0AWrom5XBVIFuT/99JNzncQn9+6777Z169bJkrtdWzqJmXOT7dixox122GF24YUXupU+BLlJFFhJSYEECghyBbmC3AQXiE5JgYACqYbcAw44QJAb0Dsj/+WmygeQpcPwf5s2bezQQw+1iy++2PmiBM9xPpkb6cmSm0xFlVYmK8D1oNkV/ge6ml3BzSahgWeZfEWr7KlUIFmQy+8uH89AWHJffvllA3Lvuece++abbwqcJ2w2bJEYeEZjffjhh5aXl2cTJ050DZmbm2uHHHKIXXLJJQ5yV65caUOGDLHJkycbCzckcyN/QW4yFVVamawA14MgV5AbtOYKcjP5ilbZU6lAMiF37ty5bjzS7NmzDcitW7duPuSuXr3ali9fbt26dbPp06e7RSdSWa90STsSkEsnYSEGVjjDcstCDH6lj0svvdRWrVplvXv3dvPQ3Xvvvfbtt986EE5WIwhyk6Wk0omCAoJcuSsEAZf/BblRuLJVh1QokEzIff755x3n3H777Y57atWq5SAX7mE1tZYtW9rBIeBX5AAAIABJREFUBx9sDz/8cNb46EYCcrmp9u3b182mgJM1C0G88MILblQhllwa94wzzrDddtvNHnzwQfvuu+8Euam4WpWmFLA/5qmWJVeW3CDoCnL10yAFYiuQLMglnS5durgB98cdd5zjoOrVq+dbcufMmeMAeNdddzXgN9kcFLt22/9oZCB36dKlzu9kjz32cLMcPP744w5yTz/9dMN1Ye+993ariQwePDjp04nJkrv9O7JKkD4KyJIrS24QcGXJTZ9rUyVJPwWSBbn87n755Zd2/fXX21577WU33HCDPffcc46DrrvuOmNhiJ133tmYj3f06NFJ56D0U/aPEkUCcqnKxo0b7dVXX3V+uH/729/soosusj333NM1MEv77rLLLvb00087nxQ6QzI3QW4y1VRama6AIFeQK8jN9KtY5S8rBZIFuZSX8UatWrVyHIRhD/dNDH9YditWrGg77rijVatWzY2ZSDYHlZVexc0nMpBLg82bN8+uuuoq15A77bST/eUvf7E///nPtvvuu7slfhmUtmnTpuJqVGh4QW6hEilAFikgyBXkCnKz6IJXVUulQDIhl9/eTz75xK688krHQRj3YCBYqFy5cm5aVQbp//LLL6UqcyZFjgzkIjoDzgYNGuSstjvssIP96U9/ch98cZ944glbtmxZUn1xfUMLcr0S2ksB+eQWADxNIaYpxPSjIAUSKJBMyCWbH3/80fr162f43gY5CMsub7NZ3jebtkhBLp0FkD3vvPMc6AK5mOcZTfjRRx85Ky5AmuxNkJtsRZVeJivA9aCBZxp4FoR9DTzL5CtaZU+lAsmGXNLDmsvMUvjgemPfkUce6Tgom6y4tFukIJebKyMG27dvb/vtt59rXPxzGWH4/fffu0mSU9FZBbmpUFVpZqoCgly5KwQBl/8FuZl6NavcqVYg2ZDL7y/TpDLTAv64QO6+++5rVapUcT675JdNW6Qgl4b79ddf3QhDpgzDF/fMM8+0GTNmpMQX13cUQa5XQnspIHeFAoAndwW5K+hHQQokUCDZkEtWmzdvtq+++srOPfdcx0Hs4aBsA1y0iBzkUimgs127dm6GhTp16qTMTcH3W0GuV0J7KSDIFeQGLNld/vhfllz9MkiB2AqkAnLJiRmnunbt6mZYqF+/vhuzBKtk2xZZyMXvZM2aNW7pulQ3rCA32y4b1TeRAlwP8smVT24Q9gW5ia4YnctmBVIFufwO82ab32IGo6Wag9K1DSMLuXSc3377zZnnk9m4pBXrs3jxYrcIRfny5a1evXoOsJOZb7p2IJVLCoQVoN8LcgW5gtzwlaHvUmBbBUoKuWEO2TblP96qeQ7ifDBOrPBRPBYpyKWz8OTC4LNVq1bZylUrnQP2Lz//UmrYDadN+t99+52bb45OJMiN4uWhOpVEAUFu4HW9fHLlk1uSi0hxskaB4kAuv62EZ75/BpetXLnSVq1e5QbWb/51c0zOIc6WLVuc+wLTh61YucLWrF1jP/zwgzvuwTeqgkcGcoHbVWtW2dTZU23gfwdat6Hd3KffyH42ftp4W7psqRtZSIMWd6NDrVy90ibPnGwD3/z/tPuP7G8Tpk2wr5Z/ZZ/M+0SW3OIKq/CRVIBrTJZcWXJlyY3k5a1KJVmBokIuv6usaAZvjJs6zmAbOKf70O426L+DbMqsKbZ6zeoCY5CI8+NPP9rCzxfaqPGj7NXhr1qX17pYj2E9bNjoYfbB3A/s2+++dQPVSsJGSZYiJcllPOTSMFhSl61YZr2H9rZanWrZK8Nesdx3cy13TK41GdnEanWrZR16d3AN/cumX4rlm8IT0JKlS6zXkF5Ws3NNazy88R9pv5trTUY0sZp5Na1T3042ZtwYu+nmm0zuCinpp0o0gxTgmhTkCnIFuRl00aqo202BokAuv6kY8j5b8JnjjZpdajq2gXNavNvCcobn2EsdX7LeQ3o7gx6zKxCHsUlTZ0y1Fj1bWJ1X61izUc0sd2yuNR/d3BoObmh1OtaxEaNH2DfffeM4aruJkMKMMx5y6SC4DXQd0NXq9a1nnaZ3ss6zOlve7DzLm/XHp/PMztbgtQbWrnc7W7h4Yb5fSmG6kva6deus66Cu9nK/l63zjM75aQbTrjewntXNrWuVLqokyC1MVJ2PvAKCXLkrBAGX/zXwLPKXvSpYQgWKCrlffvmldejfweoPrr8th8zqbHBO7VdrW+9hvd2YIEB3zgdzLKdnjjV5s4ljIsdGnotmdbb2k9vbi51etFFjR0V29oWMh1wacuzEsZbTP8faT2rvGrLLnC4W/AC8Had3tHq969mwt4c53xRuxIVtWIhHjRllTQc2dZ2BdILp8j/HOkztYM+0ecZOPPNEQW5houp85BUQ5Apyiwq5RfgZjvz1ogpmrwL0/8Igl99T3igPeH2ANRncxPFGPBYBWnP65jhu+X7999amRxtr9XYrxz+x4gC9rce3tle6vWIffPyBK0vUWiOjIZfG3/jzRuvQq4NrSJ5kwhAa/N5idAvrOKij81spDHLpeMwz17ZnW2v5VktnHQ6mFfyfzlN3cF07/sLjba+9ytsLL9SzTz9dY2vWbLU1ayz/s3bt//8fPM7/nCvsfDhO+Hui+D6PcJzw90RpqIx/tF8ijbyeicJEX8et9vHHK6xLq+7W8cEqtqJ5rm3u1MkNQArDT+S/a+DZHwPPuuTZ2hYtbeCjVS23Vo7NnLbAVq7cnP/bWNjvU/SvmaL9tiT6XdFvz//fXwvTqbDzZdkfV6/+3YYPH2/HHnu8VahQwaZOnercDDxsArhfr/3amnRrYi1GtYhpyPM8AovkDMux9r3b2wcffWB18upY24ltLW/Otga6/Diz8uzl3i/byDEj7ddNv/psI7PPaMgFRHGabtSpkbUZ2yYh4NL4bd9ra60Ht7YFCxcU6pf725bfjJGIDTs3tFbvtio07cZvNbbTrzndyu1R3ipXrmfduq2xIUO22muvmT7SIMv6wFbLy1th1R7vbnWurmJLXsm1zR0FuTapslnnrlkJ+1u75Nmqpi2t/S1VrerdOda+zQIbNGhzll0XuhfofliwDwwZYjZkyO9Wt+54O+yw2JCLL+7iRYutfvf6zuoayyKbD6yz8wxjXsO8hjbyrZFWu1dtazepXUIwJm7jYY2t74i+9tNPPxXKRplGvxkNubgTfP3N19awU0NrM65wyG03uZ21GtLKPvn0k0Ibkqen1atXW4O8BtZqTOGQm/N2jp1xPUsJl7ebbqpnrVqtsW7dtlq3bqaPNMiyPrDVmjdfYVXu724vXl7FvmiUa78Kci3bIXdFk5bW6oaq9vAtOZbTaIHl5W3OsutC9wLdD7ftA127/m7Vqo23gw6KD7nz58+3Bj0bWJsJhXNO7ju5jlteG/6a1e1T17laegiOtXfW3xE51vuN3m5ascLecgtyy1ABGuPHDT9as7xm1vrd1oVaW1uNa2VtB7V1azoX1pBYiX/48Qdr0qWJtRzdstC0GwxvYCf9/STnrvDcc/Vs1qw19sUXW+2LL0wfaZBlfWCrTZu2wto37W5t76tiy5vJXcF+LpfdkJuXZ2ubt7R+D1a1Ji/k2ISxC2zRos1Zdl3oXqD74bZ94PPPf7f+/cfbMcfEhlzGHS1fvtwadm1oLd9JzCJAbNORTa15t+Y2ecpkq921tnuDHQtug8fqD6hvQ0YNcW4ShbFRGSJeUrLKaEsuCmz6dZO9/ubr1mxoM2s/tX1cGOVphSkz+gzv455WClOPhqZzDRo2yJq/3tw6TOsQ2+Q/u4sb1Vgtr5odd+ZxbuBZ3br1bMWKNbZpE9N+mD7SIMv6wFZbunSF9evS3bo/VsVWtci1LfLJzXrIXZfb0oY+UdU6Nsqx+fMW2MaNm7PsutC9QPfDbfvApk2/25gx461ixdiQi8GN+XG79OtiTYc1tU4zOsVkERiHAfaNBzS2wW8Mdoth5XTOsTZj2jhGieXmwCxRvOGu362+TZk5JZLTiGU85G75bYt9vuRza9e/nTUb0cyNPAw+odCwdIoWb7ewpj2b2uwPZ7uRioVBLufpXAsXL7S2/dtaszebOdDdJu3pnaz5qOb2Yu6Lds4F52h2haIIqzCRVoAHRM2Tq3lyg4MKC0wh1jjHFi9Y8L8J6CN9KahyUiChAkWdXYHf1DkfzrGW/Vpa7uhc6zijYwHQhXMwxMEpHQd2tIWLFhprAjA7VE6/HGs9rrV1mtmpgBGQgfrMxtBocCPrO6yvg+KoWXERP+Mh11tcp82a5iY8bjK8iXWa2sk6TuvoPvyfOyrXXu78sk2YMqFYPiekzWpnk6dPtmY9mlnTEU3/SHtqR+s4taP7v8V/W1i9TvVswNABdt311wlyE17SOpkNCnDdCHIFuXEhN+f/ITcbrgfVUQokUgBj2vjx4+3442NbconLb+qGDRts7KSxzm0BpnGcA4dM62Qdp3S0Jm80sZwuOTb7g9m26ZdNzir73Xff2cA3BlqDXg2s7fi2f4T9X5wO73WwhgMbWuserW3JV0vcYhOJypmp5zIecn0HwLVgwaIF1mtgL6vZqqa91OElq9GhhtVpV8fa92hvH8/9OH9+XDpMUTfCMrpx/oL51qN/D6vVulZ+2rXb1nbTl839ZK7NnTtXy/oWVVSFi7QCglzNkxsEXP4vYMkV5Eb6+lfliqdAUSCXFPldZVrTDz/+0Nr3bG+12tayGh1rOM6p266u45NFixflL+tLeD4//PCDvTflPWvWuZnVaFvDXur0ktVoX8MadWxkQ0cMtTWr19iWzVsKHYxfvFqlT+hIQK7vAFhd1/+w3lauWWnzF8+3+Yvm27JVy+y79d+5hqczlWQjXoG0F/2R9vJVy40Jl1k6b+HChYLckoirOJFTQJAryBXkRu6yVoVSpEBRIZfsCQtvwDTLVi5zjLNg8QLHPLAPY5TCnMMsVMDxt99/a18u+9I+XfCpLV6y2NZ+s9Z+/OlH577Jb3ZUt8hArm8gGotGxrLLhwZO1hYrbY7xWbx4sSA3WUIrnYxWgOtB7gpyVwiCriy5GX1Jq/ApVKA4kOuLwW8sbOM5hzQ4lmjjPFOj8maafRiGE8XN5HORg9zt0Rh0HkHu9lBeeaajAlwPglxBriA3Ha9OlSndFCgJ5KZbHdK5PILcJLSOIDcJIiqJyCggyJW7QhBw+V+W3Mhc3qpIkhUQ5CZZ0FBygtyQICX5KsgtiWqKE1UFBLmCXEFuVK9u1SvZCghyk61owfQEuQX1KNE3QW6JZFOkiCogyBXkCnIjenGrWklXQJCbdEkLJCjILSBHyb4Ickumm2JFUwFBriBXkBvNa1u1Sr4CgtzkaxpMUZAbVKOE/wtySyicokVSAUGuIFeQG8lLW5VKgQKC3BSIGkhSkBsQo6T/CnJLqpziRVEBQa4gV5AbxStbdUqFAoLcVKj6/2kKcv9fixL/J8gtsXSKGEEFBLmCXEFuBC9sVSklCghyUyJrfqKC3HwpSv6PILfk2ilm9BQQ5ApyBbnRu65Vo9QoIMhNja4+VUGuV6IUe0FuKcRT1MgpIMgV5ApyI3dZq0IpUkCQmyJh/5esIDcJ+gpykyCikoiMAoJcQa4gNzKXsyqSYgUEuakVWJCbBH0FuUkQUUlERgFBriBXkBuZy1kVSbECgtzUCizITYK+gtwkiKgkIqOAIFeQK8iNzOWsiqRYAUFuagUW5CZBX0FuEkRUEpFRQJAryBXkRuZyVkVSrIAgN7UCC3KToK8gNwkiKonIKCDIFeQKciNzOasiKVZAkJtagQW5SdBXkJsEEZVEZBQQ5ApyBbmRuZxVkRQrIMhNrcCC3CToK8hNgohKIjIKCHIFuYLcyFzOqkiKFRDkplZgQW4S9BXkJkFEJREZBQS5glxBbmQuZ1UkxQoIclMrsCA3Cfp6yL399tttn332sXr16tnatWuN49qkQLYpIMgV5Apys+2qV31LqoCH3BNOOMEqVKhgU6dOtV9++aWkySleSAFBbkiQknzlpr506VJ76KGHrGLFita8eXP75ptvBLklEVNxMl4BQa4gV5Cb8ZexKlBGCvB7OW3aNKtUqZKdf/75NmvWLNu0aVMZ5R79bAS5SWrjX3/91VatWmVffPGFffvtt7Zly5YkpaxkpEBmKSDIFeQKcjPrmlVpt68CGzdudIayL7/80n7++WcZyJLYHILcJInJjf23336zzZs3G68f+K5NCmSjAoJcQa4gNxuvfNW5pArADBjG+IgdSqpi7HiC3Ni66KgUkAIlVECQK8gV5Jbw4lE0KSAFkqqAIDepcioxKSAFBLmCXEGufgekgBRIBwUEuenQCiqDFIiQAoJcQa4gN0IXtKoiBTJYAUFuBjeeii4F0lEBQa4gV5CbjlemyiQFsk8BQW72tblqLAVSqoAgV5AryE3pJabEpYAUKKICgtwiCqVgUkAKFE0BQa4gV5BbtGtFoaSAFEitAlkLudyI/ae0Evt02GuTAtmuANfBihUrbGD37tazShVblZtrWzp1sjD4ZMX3nq3Nftrb7OdyZpMqm3XumpU6bM3Ls3UtW9qwqlWtc06OLV6wwE23mO3XiuofbQU8G0S7luldu7SC3HCHCH/3Uvrjfu+PB/f+XHDvzzMnHfPZMgEze8KUdCMuS/AxgXPUF4DwWnqtwt/9ce2zWwH6hSD3f9ZcQa6DekFudv8mFKf24ftK+Dtp+WPsE23BcIWFTZROSc7BGTAGfMAc+lHfwvqGv2+v+qcN5LJiGKuFTZ482ZYsWWIbNmywTz/91H1fs2aN69R0FI6/99579uabb7o9y+eGO5Dv2AsWLLC33nrLRo8ebXPnzrWffvrJpfPDDz9Ynz593DJ6/fr12yZ+cRqD5feqVKliN954o02aNKlUwFycfMs6LJoC8mPGjHHtgoZff/21awdWadFa22XdIumbH31FkCvIDVrqBbnpe72mS8m4t8+fP9/effddd6/+/vvv7YMPPnD3VYCRjd8WVhYdNWqU/fe//7XZs2cbDMDx8MY96f3333f3/7Fjx7q0Y4ULx0vGd/Kh/Jdffrndcccdtnjx4phlTEZe2zsNjHuwAKz11VdfubaD4eCu7777rlR8lYy6pQ3kAqAAJ52if//+tnbtWqtXr55dddVVNmPGDLeKGGIi4mWXXWYVKlRwkDp06FD3tBQUgw6GuDVq1LCKFSvaKaecYtWrV7fVq1e7jsa5zp072zHHHGNdu3YtlQUW8LvrrrvsoosusnfeeSeyHZkfmXXr1tkZZ5xhderUsZUrV7ofoGOPPdZ69+5t69evDzaB/s9iBbj+BLmCXEFuFv8IFLPq/GZwf8nJybHTTz/dli9f7pa5/c9//mN///vf89+4ch/CmHTSSSfZcccdZxdffHFM4xKGL4xj1157rZ1wwgl2zjnnWIcOHcrs/uzrA3v84x//sHnz5pVZ3sWUvtTBMfRNmzbNsdZrr73mdMeIePLJJ9uHH35oGDC355Y2kAskdezY0Y4//ni3p5M/9dRTDlDHjRvnIBfXAqy9AO6uu+5qhxxyiD3wwAMOaOlUfuP/jz/+2F0c5cqVMz6EA5A5xxPjxIkTrXbt2s4aHLYE+3SKsqdMgHLTpk1L3ZGDdShK3iUNkyifeOf4ceEJunz58s5yzZPa1KlTbYcddrD27dvbt99+W9LiKF7EFKAPCXIFuYLciF3YKawOvxncXzBGcY/hPs+b2Jtvvtnd7wEl7kF8sOLuvvvuttdee9nf/vY3a9y4cYE3iaTFPR5uIC3u/7BCw4YNE4JmvHtfSapNWhjuGjRoYG3atHG/h6VJvzRxS1L+4sTB0Iel/K9//av17NnTli1b5pgA3adPn16gbYqTbrLCphXk8qSF5RXYjQe5n3/+uWE9BHQvvfRSO+igg9wFEfSH5UJo166dnXXWWXbddde5iyEIuXQYwvM6IxiP4zyV8AFeOc/F8uOPP7oOS2MCxMEOx/9cgHyCsMz/pEMa/E9cOj1p4adDeOJSVsJxDhcA8uM7x4MbaZCWv9iD53wZiBerDBz39fX5sPdpBctA+SgDeQXrSRhBblB1/R9PAfqNIFeQK8iNd4XoeFgBfjOKA7l77723e3u6//77uzepxPX3K/aA1pNPPmlHHnmkXXjhhY4ZgpBLGO6J3Iv9PZ77L/dF7tWc8+n5snIf5b4IGwQ3wvl7fPAezPFY92ziE87flykD910+wbz9PZ/jng08NwTz9/f2WGWmDD6vIFP4MpAe/5OvLwPlIS3C+zKgC+fRKlwG4gpygy0S538suUBuYZZcD7kXXHCBNWvWzAFsp06d8v1yaBg6Fh0b1wfC8ETx73//O9+SSyNiXm/evLl70qAh6Qw0bI8ePZwrwyeffOKeGB977DGXzi233GJt27Z1F2Kwk/M/bhZ5eXn5Pj+UAasxx7DycgFSxttvv92lhQ8vr1zoMLyiwb8YCL/kkkvs7rvvtiFDhjh/HsrExn7RokXWokULFxatgucoN24bWFR5+vWdnf/J99VXX3XxKc9tt93m3D0oA09ZdF58moh///33O+v3v/71Lxs8eHA+bJMXdfKQ+8QTTzi/aVly43TmLD9MfxHkCnIFuVn+Q1CM6vObURzIxYLLfQp3xvPOO89BFvcoNtLi3gYj3HfffXb99dc7o1gQcgmLn2z37t3t8ccftyuuuMIxw6233motW7Z090vgkLT4cE/lXs49mLfAHPMb55YuXWqvvPKKdenSxd0bOc+9tVWrVs66iXsfx2CNjz76yN2ruc9zj6ZcuFVQl7p167oxL+QNQ3DvxqcXNsB1A+s0UOnzJz3q6lkGtvEbdQSOu3XrZr169XIuoMTjw9gneOHtt9925aHslAHXCt5wL1y40HEU9YIbsKjjNsLbdf9m3ecjyPVKFLLnKQFTNx2TBsF/9qWXXnI+N1OmTHGQBVB6yKXR8d0999xzHbjRKDQejczAtKOPPtr55BImDLk4hNNh8dWhk3so5AkFyy8+QbVq1XKNetNNN7n0yQcfIKAXK7PvLAD1vffe68LyNMNxOhcdGcg+7bTT7NFHH7VrrrnGQe6VV17p/InIg0FcTZo0cRcYAExHwocH/yHglLTYSG/ChAkuXrVq1dyPgT/HnnJTrkqVKtn48ePzn7QoD7BP561cubJdffXV7oKhI2MNx4+Yi4gLkbICwDfccIMrM+WgHTxQUwb8pNGAV0o8Kc+aNcsOOOAAdxGhqTYpgAL0SUGuIFeQq9+DoirAbwb3l5dfftkBKYCHSxyGF+693OO4B/HBXcFDLmNruF9y//PGKoxH3NcOO+wwd39nzAz3Ow+55MV9GzY4//zz3X3xzjvvdPdnfHxPPPFEd8+cM2dO/r2UfBlzw3ggGAF3SG/RBJYfeughO+qooxxX4LpHHhiPzjzzTHfv/+yzz9wxWOONN95wdfrnP//prNBAOPlzryZv7s8YkJ599lmDFzhHnrzlJn8G5pE+G0wExMIy7IP3YfSAo2AP2AJ2Ih51gS8YX/PII4+4+hMGmIYJqAc8MmzYMHv++efzy0C58LOFveARD9toidHu4IMPtgEDBjg+gauwoqMhwL49t7RxV0AIOg4dj5kQgF5gFdEAKhonCLm4KtDYzz33nLP+AoycxzLKkwiO6QMHDrSRI0duA7l0Qvxk9ttvP+fWEIRcOhqvQoBQnmCAVZzGaXA6AFBHg1JeygRU00npzIz29J1o5syZrhPtu+++xtMhT0xYhwHDmjVr2k477ZQPt3ROzpEPbhZ0JDogdaFsdErik3cQsuk45MfFds899zgd+AHwFx+jHen8lAGApXzkw4hUdMNPiYucmSG87rQB0Is7CE9uQaDnx4Oy8iTLxcTTKeUlDh1dmxTwfVKQK8gV5Or3oDgKcH/BoIUBCuMK92nuZ34GJH9v9ZCLcYl7Mfc+7vdwAgzAbD8PP/ywu4fh2/vggw8WgFzKxD2SuMAwMzAAoXzIH7DDDYIB1n5mJ/LmfwxvgGjVqlXdd6zPubm5zvgDJJI3ZSA80H7EEUc44xMcwTHOwSUMegfCeaPKW2VmkgIcAdpddtnFMK4B+MOHD3fnuG9TLmCdMNxvfXq8YYZl2HvApo5ALvdojF8YsZi5gjjwBBZpXD0PPfRQVxfqDX+gCXlznDi8AWeWBLRBp6efftqVHVcQBvCTHoyC9ryJJxzsBhPwAAJkc357bmkDuYiAYP4T/O4FooN4Sy6Qy6wLWCtpYBqNJyfM6wAnT0kIDdiFLbmEa926dT7k+k5JxwdyeUoElOkkdAg+TJGBeX/nnXd2EOgbOBbkEs9DLp0S2CQc6XCOOvDUs+eee7q06BQ+HzoLrgtcAHQ4npY4V1LI5ekP53s6qC8DFwgdmgsNcOYi9fmzp6OiH879vE7hWLA9fBv5vW8f7aWA7yeCXEGuIFe/B8VVwN9TYu1Ji3tREHJx4+P+xX0WGOb1POcx3gC63OswDAUtuf43irS4HwPXGG0ARO7zvBXmvgkLMDtAsCzcN3FdBIIxgmGEw5IM+DLdmbduEicR5GItxSLKvdYbsjCc4UYAYwCgGOg4Rjn5AMpYmhlrBLwSD3YpDuT6tOClAw880L055readDjHwwVuFDAVmuFK6eOwx8CFAZCHCj9blW9j6uw3r5n/vj33aQW5hQkRhlwgls559tlnO38WfFN4pbDjjjs6Sy0dtiSQS4flqYpG9Rudl2PM6oAVlI5BQxYGufgLAcQ+LeIQF7cMrKwAsO8c7Lng8MuhA3IBcdESt6SQi9sBeXHB+XxID38h6onFmCfJYPl4VcRrDGZO4EEC3bVJgaIq4Pu4VjzrYqbFILQYRFEvHIUrVAHuU0HIxaiFoQvQxEeX+xz351NPPdW9fQUS8WWNB7ncb3ljjKsksIjxi3E8QBwwF3QN4HcNKIYzOI+RCNjlPs40mpTN32PZJ4Jc4mKB5t7q4xDI/ZedAAAgAElEQVQfkAVw8RHmjbY/x563qryR5Z4O+2CUI35JIRdNsMiigc8HvUibMvCGGiOXP8ceyAfOqbf3My600bZzgIyGXDoBDcT0XXRIXi/g/4p1kicknuJKArn40QbBjzYiLfxkgFw6hn+NnwhysSjzqsBbY0mHjgLk0lEoM07cwU5EevXr13eQ27dvX/dkRecvKeRSF/xtAH6/kR/5ALlAOH4z5OHLhzWZ1yhALnUW5HrltC+KAr6PC3IFud6aq8UginLlKExhCnCfCkIuBhlAF5cErI+4LeLHyiAu7tFAaRhy+X3ifs6bUt4I4zsKFGP9xVLKPRsXP9wG4Qd/f6Zs/I8bIT6n++yzj3tLjO8sb4eDG+ESQS7ugFiaKZ/fiANg4ioQCzCBSlwVAGysxqWFXKzVMBMs4DfShJ1408w4Htw9fP3RHrcK3Bh52y3I9aolcQ9sBd0VgFyePHiyAtZofCyTNI4352MpLa67AvCJBTPYAckH8AVy8ccpKuTyyoO4QYgEcrm4gGAGivlOxB4g9pDLhMq8PiBuIsglfWZlYGYKfgDoqKRF3akLTutcmH7z+QC5XNi4MgTLB+Qyg4KHXNLTJgWKqgD9iz4uyBXkCnKLetUoXFEU4D4VhlzeSnKvw70OVwLuay+++GL+fTcW5OKSACcAuLw5HTRoUP7KaKTPfRGLKa/r+T3zG/8D1s8884wbuwMPAKueB4LhEkEuA7h5W+rvu8QjbSAXV0XGyfjB9P4c/r8MooNzuGcXBXL9W2Pvk0t+fHBXgBcY6BeGXHx3gVwszQz+8/UnniDXt3CK9rEgF78UQJDRgAwYo9PiTI4bA+eiArk4f/MKgQsKCA12POrKawxBboo6npItlgL0TUGufHI94LKXJbdYl5ACx1EA0ApDLscwfmE0wrqKoQuLLr9DnIsFuUyRyVtOBllx/4QtCI9hC99cZnQIQy7ncT0kLj61GKqw9mIFxt0h/Ma2LCAXxmGsEFZsfJOxKFNONuoEsOLOKciN06HS7XAsyKUT06iALWZ0rJY88RCWDhsVyMXiy7RozNTAlCXUmw9Pc/jxYDHm9YMsuenWa7OvPFyPgtwYkDu5slnnrs5HNQiA2fC/IDf7fgdSUWPueWHI5fcGuMOXFjdAZi/yllXCx4JcZgIAUJktANcFfz/FqumnxsRoFLTkwhTAM7Ms4VKAuwOzHwDE3Ht500t8ysOnLCAXxmFuf8bwvPDCC24wmK8LFm7Kh/+vIDcVvTEFaSaCXDoXT2QM1KLh6WRRgVzqgmsGEM+0X0xnRj1xU+BiZjJrnmAFuSnodEqy2ArQX7eB3Lw829q1a3Z9unS1rb3a2tYNe5v9XM62Tr7btuZ1yy4NAm2+rmVLG1a1qnXOybHFCxbI17/YV5YixINc7vWeARing4WT36F4kDtixAgHuVhzeQWPFRbYBXCZWQgXxyDkkg5uCrgL4E+L9ZRZkQBJFoDAssv9Gf9gwpJ3WUAu+QD93PuxPDM9KHVBC2aGYG5b6iLIzZBrx0MunYxJkQE/OpTfaHA+fvOQy1RdwWV9eR3BPLmMEGSeV9IlHlZRntJ43YGfL/H9FvTJDQ88YwEFXpV4J3XKxBRiTPVRmE8uMzb4MrOng7LeNa4J3ieX45SZ+QOBXHxyWOABFw10wLrLKwlGeRbXkouTPU7sXkfywh0Cv2NmqeDpVD65vhdoXxQF6EMecrs99pi9V726za5Z096vVavAZ07ouz8f7zjnk30uUXqJ8ksUz59j/1HDarZp/R62ecOutmzEVTanZu0CGvg6lzSvksbzZQzm7/8vyblEcXwZJ1evbn0fecQ6N24syC3KhaQw2yjAfYp7HK/nmScX8OT3xm/B/zlG+PAUYoTBOIQVl/ss9058ebmP44LAwgnctwFgLLlwAEDLIkjcY5k7lrfFgDTpUwasqLhL4qsL6JIHkIv7JGnxtpVjsAbz5AKlDJL3913Kynl8cg8//PAi++T6ujCjBIYuOAQXDD5YtZlrlzfAHnIJT564NpTUJ5e0NLuC73FJ3tPZ6Dg1atRwK4VxI6XR4m00Jp2GQVSMhgQUCc+THlOD0Ml5/UC6HKfTNm7c2Dlj43Ad7IAesHn1AXz6eXIBQIC5Xr16Li/S4cOk0BwjPQ/RvpxYnJkRgvN+gmZ/jvRYEYURm8xsAPSSHmkwQwJTnDDpNE+bXJQss8cgOZYiZJU2Jo32T7E8BOBUz+IOPHH6jfTIh7mAWc4v6ONLGOrGlCis4oJrRBD2fRraS4F4CtC/uDYH9e5tXV96yXpWq2a9qlWzV6tX/+MT/J9jsb4Hj/F/Mr/Hy9OXr6jni1CmfrWfsg3f72G/bNjNpr9+hfV6/oX/1yBR/KKWobAyJ8qDc6U5X8wy9nz+eetWrZp1bt7cFi9c6H7T4vUhHZcCsRTgt4V7HPdu5qnlnp5oIzyujCzigPWW72wYrbg/Aqe4OGLxBHT5zpRi3E8ZAA6ccv9jIDszEZBOeO5c0uJ+T5mIg2UYdgCMWaG0UaNG+e4TpIUBDJcKVhQNMob/3WTRB5jCL0Th68fYI1Yq474NSPv7PBZoeIU0GbBGXRijw72fslJuXDn8vLbkw0B2wuPOEDRikSbh4A8Wc2DAuteMPXAPu1BXyuPP+TKm4z6jphBDQETFFE/DFgW+aDSglo7oOxRpAI2kwz64kS5gSbzgRhzyIy06RTAtwofjEJ9jpBfeiBsrDuHIh/QpG2nw3W/8zzEuOEZe0rEJR7lilTtYhmA6Pj1fvrCOlI8yAMbhcz6u9lIgngL0NR5GR44YYQP79bMBffvawMAn/J1zsY6FjwfDFPf/4uYfTN/HjXWssDK+NqiHbdx4pm3adIrNnvmMDehTUI+ipBkv/1hxYx0rrIyx0g+mE/zfhw2n6Y+Hw8b63q9PH/vqfzfpeH1Ix6VAPAW4r3HfC97T44XlOOEIH4Q5fqP8fZj7KMYmrLvc8zjH/ZSPvwcTl3s/x2LdE31axPdMQTrkG47Dee69lCu8kXasOIQjD9IiLv8HN76THlZl2ADDFd9JL9Z9PlgGyhncSCuevqTn9QyXIZhGOv2fcZCLeOFGKUxQwseKE+9YrOM+j1jnOOY/PpwvZ6zwhZ3z54NpBf/3efm0w99jhQ0e8//7+P57eF/Y+XB4fZcCXgH6Dj+I3CSy/bN1K0uA85C92bZskSb0h0y5Qfr+rH16KeDveUUplQ8b634WPOf/J83g/z6PWPH9uURxwvF82uHjPi1/3n8P7hOdC5YhmHa8OPGO+3SC+Yb/D6YfPpdu3zMSctNNRJVHCkiBbRXwP6LZvjfD6sJglD8GpGS7Hr7+2/YYHZECUkAKJFcBQW5y9VRqUkAKSAEpIAWkgBSQAmmggCA3DRpBRZACUkAKSAEpIAWkgBRIrgKC3OTqqdSkgBSQAlJACkgBKSAF0kCB7QK5+GQx8CCeb5Y/HmufSDOfrk87UdhknfNl9HnyvThbsMykEf7ES8vnG+u8L0uscz6eD+O/s4+3cS5cLh8vHCcYNl6YcBx9lwJlqYDvy/TPeFu4H8cLV9LjPv1gGfyxkqapeFIg3RXwfTx4/wmX2YdhH/4/VthwGB+P/fbefFkS1TdRGX3d/G9WeF9Y3FjnfZkSnQuWN1F40ohVxnhxgmHjhYlVrtIcK3PIRTzm0GSC5kGDBrlpOXwFvADMD8cCBcwXO2DAADenLVN8MO9cWBi+M1qX+fIWLVrkVvxgAQPmc4s1RYfPq7R78mU6D6ZKYl48Vkph3j3KTh2LspEG05YQlzIHP6xcQn3II7gRhylBPvvsMzeHLd/95svE3MDEZT7e4MZ5pjhhTj8WoUD/119/3c2zy5QjTJMSTo958ubNm1egbJSX9vBz6AXjUDbmL8zJyXH5BM8Fy6L/pcD2UIBpgJhnk7kqFyxYEPMa4ZrjuuQaZJ5JpuxL5sY1wbzdzKHJtcV3fjM6duxozJHJtavrJpmKK610UYBra8iQIW6u13A/p89zf2Judpax5/7E6p5cq1yD3M/D1wXhv/jiC3d/Ys5XeGH06NHu/sS5cPiy0oF8maYLLmFKrzlz5tj777/vfleCU5klKg9pMDc+v0NBNuB/5sb3TBROg/SZSgyGCudFmvzuEZe0gxvnaB/4jMWwhg4daoMHD3bzBqMxv52ECW4wBukFy0d7wULMt4sGwTj8TzuxRgAMEzwXTDeZ/5cp5FIhGr1fv35u1S4aASjiOD/yCMxEzKzeccUVV7gFD66++mq3XB4reABOdBjC+Q0RifPiiy+6lUouuOACt1xfz5493WTFPlwy974eXFCsWsLqY6yaQlmnTJnioLso+VFnbnaUmZXHWBaQ1UT4XH/99a6+LN9LfnRWJl9mWiY6Fmtv+xXWuJjRhHMs5MBKaHfeeafrfMRlY0/HJz/OeX1ZVOLKK690K6Pw40PH93EoH52VCabPO+88V0/qetVVV7ljTJxNfZlTz2+0JyvSUAfW1A62lQ+jvRTYHgrQr/nhve+++/6vvfsMsq2o3gZeZrBEFJEkqBhJAoIgIhgxYBYD0YskBTFgDggqiigoCBjBhIqoGFFUBBWlMJZijpjjBz+o5Rc/nbd+/dZzq9meM3dm7sw5M/+7umrPnrN3x6dX93p69dp7t/HqJfAm5Mi7OvnfQtVL3/faa6/2BSSTfR9nfetuXPl6kq8Vmrv8dvjIjToh1n5XKAT+LyFAhzGwkHsfIcrHCbSRvHtfrY8d+OJY9JMPG9BPvljqYw4xrEhjTDLoMJjRN+I5+8IYPeWDDvQZjrCYoE6LGffSMMj54JQvoGnPPvvs075A5sMU7s0nyOfqq68e7b///o0jwE37HPS2D0HlQ04MfXS/tiKjl112WfugBN2cAz9w+GKrD18wVqV9zuY9Rq81a9Y0LGGvHH3h4xI+X4xDZG6S5vrrrx8ddthh7euuBx54YMMdD4K/D2fhKDhfXw5OgaP4eBW+kPzmg8li4kyd5CK2wEMOI7AAQIasHhC+e9zjHu0b0VZxX/7ylxu4CKDP0wEO0BFcqzuETzpEkyDc6EY3Gp111lkt/8WAsq406ku4DC6f+fP5vLve9a7tU30+A5i6rSsfnYu4b7fddqNDDjmkfZnEF1McvipC4LIaNVgtDqxyCZZJwoCxwkU0CaxJhKD6LLGBbvWorg4DwOeCd9lll9FOO+3UvoBixau+lKvPDLoO83zJRP2uueaa0a677to+cWjh4DjzzDPbIPD5QYTXys/gEZwRc9eRCfeUX6EQmDUC5JCSpTR8FtQnso014zUySn5Zen0HXhyf5bQzkft9G1wzRpzH3Z8UVxoLefOGHZXkQSEYX/ks6Lj0idvfm/R/X79Jcep6ITANBMgismO3gp6h1xGzjB1cwJe56KHdd9+9faWTfsrXP7fffvum1+jEkERp6T4E+NRTT22fy3WflZCeM74Xa+wyzswVxmI/P8wHK/Wir+l2unPvvfdubdpmm20aL6GLxVlXUAfEHj9ANBnywg/of19Mo+/lhchqO+s4q6uvsvoymoWDhcDll1++1hDGaLXnnnu2r72mHnT2Bz/4wabn8SxlIcq+jEbfmw/1zRlnnDH6xz/+sbbffBFuv/32G2255ZajCy+8sBm2fK3NV1m1l3GM1VlfJ+A0FvnmYYR3vnwp6Rd6nhrJBaaGWqkhhshUCJzOtO1v1XCnO92pfVe5v+c+8/pRRx01utnNbtY+bRug3UOkpNdRVk83vvGNl5XkAtkKxCAwOJFLhHfnnXdupHG+nabuBgIBiusGnPpDWX4j9gQM2feZQKs4A9sni33eN4TY6nhIctUH3iYX3+ZmKaLMle+w8rNiNJgsFiheZbr39a9/vQm+geF36sZFwwr1Jje5yeiqq666gcVWHAsPZamXdBUKgVkjQC6NWeSS4jFp2zExhiPblAXL7UYbbdQW2sZmT3IzLowpC3NpLQottl1zPyFxzQ/mJkrevOH3kORKY0xmXPqd9PKVTnrznjq61o8rcaVVD2f3jWv1cx7GTx3rXAhMAwHyaVuble/www+/gaudewjWDjvs0HSG3drIKxnHBewOIq3IXm+8yZiRRw7XLBiRtYMPPrjpTvfmG8Q1jswNyFq4xnzTi2eMc3lCQs0TyL0FM+PbQknu3e9+99Fpp53WOE7amHPqZA7yGV7WbAQSr2AQZEnWDvfEwcGGJFdeiKh50WIChzLHwN4BC64FjIgWD3Z8Uz4ugayaS7Uz13Ey7libbLJJa3v4nPqKY/GCHCPQ5qflDFMluQgY4JEtpDQrOSszQrnppps2obQaIagJQAEgYrXtttu21UG/zSgf8XXMtEiuzs8Ac14KkksQ5CXvCAsM/G/QUHImiiOPPLIR0rvd7W7NmosAJ+04Sy5cbINaXFDYFKY8E5TJBcJAYpHmhqA814ckN/VRDtJtQcEFwgBKUH8TkW0Vk0zak/t1LgRmgQCZD8m1m8QCZOfniiuuaPJOTu2U2K4z4fu2O4tHSG7GpPmJsmJxsptBeVlo2hXJnJYxyxKE0Bp7FvDItfFy7LHH/o8l95xzzhmdeOKJTaFkzNih8Z14ZFtZFqLcKJRvPk15xrjFpvawgPlWfdIgD6wr2dqcBfZV5oaNANLKNYfF77zzzmuLL2OEnNPtdh4RKD6gSJV7CfQQInTSSSe1XV7jUjohY7L/3z0W3j322KNts4/bGUne487yVAdb7rbVF0Ny5aHe4SZLQXKNd3lmbugxUg4dboyziCOrdqJYfM1X7knrGJJc+ZljEFXYhuAGG/fhwTqMu3FL0GeuD0lu+kF5+vI2t7lNc/3q3SDVG2nmgsqoNl/Sn/os9DxVkstsbqVhK5vQa6zDQ2JY/8Ybb9xWCUhv34EBDjHm/4GIXXTRRWsFPfeRt2mR3B5onb0+JJfy464gDyuv888/v20xECx5CwSPm4J7Bh7laytAGkoN6SToQ5ILZ4KvDJZV7iJDbOWvLM7+FCN/HX1iQAxJbvoMWWBFZsnlSK5+CeIok7uCiYs1SV4VCoFZIkAuQ3LtGtleM2F72CuTti06/vHchU455ZT/Ibm2AikEZBV55aeGQBozLBMsFKy2Kcv4NAb4wSHLb3rTm5qSQVRZRuKuYJyLY4xawPvtYFU+4YQTWjo+7nbCLHKNfQqJMlGWOdNuEMsJ/zkkmvXGQZkg5Opp8Sp+hUJgmgggMhZxt771rZt8G2/kkN6xZY2UWSgy4oyTT/qDNddYYpk0xqIbkw/dR28xhjHAMAIZb0jqQkLyWx+S25ennutDci1scSZj2g6utnEjhAFc1DeW40suuaQt0llXEVJWc/MCoh/C3ZNc6RmoLOrtAOcZgb7+/lcGYmretGOtn/TdkOSK58DV+ETrb9bazInJy31uJVtssUXLV/2XK0yV5BJSDthWZIBIgykOxI0l15OEkwgRSyZro20LAA7jrUaSa1WLWFrRUJKU32677da2ZViGQvgNXj61hByphKEBTHEdf/zxzeeG0A3dFWBy7bXXtlUdyxUlH+x7oTIAkGgragOEX6JrSC6/ohBkQm1rg7JFtB38fsRNkL968+sxebHqqluFQmCWCJDLkFyWXBZcfmvGH992hNEYQz49H8AtiDWot+See+65TeY9mGZLjlybwC2ujRsKRF7GHT84Csr4ZE1xjUWDLx1/NeOqJ7niIdieVKYY1ddikYJShgWrxaSxmd2cjD33PQh785vfvM0jlKDdHfH9rx22Xi04x43/WfZLlf1/GwHyRobpH9ZF4yPyTUYtDI0Hi8dJ8ik+3RP9ZPcy+j+6y7MljGUWdXToQQcd1FwV5qN7xDFWHKzG5gLE0uLVOM89Z3EXMoYWS3KVYY7SFota/AB/8tvZPIIsiqfOiDTDk+u4gUXzBRdc0HaHnNUdVj3J9dscguByBZn0xgNlKOvoo49ubiDmO2XqE/ViRLM499sZsZafOY7/9ZDEmgu5qCDBXBrxheUKUyW5tul0FoIaIXHmgwN4rB5Iudc32rWsBrfeeuvmcxIhTzzALcaSS3lYzRBsh/8JxHwDIV6sJZcvrNWXFZRXjNhypEBtTdo+sH2qfgSMsCD6/rc6sh0AA9ZZKyvtH1pyTSIsvZtvvnkjxsjyOHzlI18+v4i2bVLlIrlIAMxZvRwIOeVtsHGMp2D7IH9pkQTxxDEgKhQCs0SAXPYk17ixYGTxufTSS0ceokAEzUXk1ZZ/3BWMcRO1+YtLAOLIQmQ8OjwzwBfOpG0+s9g0jm9729u2OS2WK/n43xiiWNZFcpVpPpIfxU4hKYtV186X+cK4D8n1zAILdbYAtVl5rF/GNiWmDhUKgWkhQAbJLN1hrNEzrjnINrKz1VZbtQVnjDrDupFZ48pOMIInPwRNHsYIYoVQsfTSOayNjCzKoovmCvJgiDGW8AfE0gLVbg0Lp+dZXHO4L+5CxpC4i7Hkqpfx6gFzu6wMgPiChbaH8xmQ6Hbtp+evvPLKtoAwL/GbtWB3HW7mOv8PSa60LOl0PEu6+UW5w+CaOQZxRmhDTLPwMO9ZFOhji3277YyRdrpwkmHAN7io3upWt2oPGU5a3AzTLeb3VEmuh5EoCVtoAdIZkfMQ02abbTZxO108EzfFAzw+aUtBcuVLCDy1yJeFZYe1mNJLHdcFLCFeDMmVP6EjaI78b6WLIHIFYKkltMowWJ3hAEsKOnnAwr0hyUXWDQwraJYizvDj2iW9eyy2rEmEV31Ccg0qr/yguPks8jHUlwYeJTsM8rOtoq+s6iZNXsN09Xt1IUCWyJ3z8JirJX1c6ZPHXGnW954ye5LLfcphcjc27KrwI+cKxVrTk1xjwdji32ossKSymnAlcD7mmGPa2OGjboFICXtVH4UwnMCNDVuPxtm6SK5dLq4TLLG3u93t2m6XHa9b3vKW7eE4yszY6kkuhdhbr5THqkX5IPKwXq4A4/Rl+ji/5yozcced50pX91Y+AvqUCwHLHhIa/0zXyS0ZZkTxLAgjk+vDQIbkQT+x5hoX5DrB+LQwddiR5Gpk7HFFYtiZK8gbOUPUPHCag/515LezcScufT2unuPKkf9iSa42hh/Q//7HBy6++OLGl+zoxjLunrLMBwxLOFKst/BxT369JVee+A+DlYcCcbFx7XIN78BzPIOAoMIaT2DJZUSzqMAPzG2MA+Kph4XMME91sWjgXnX66aevXfiMw299r02V5DKjI0bAT6OdkSvgsUxYKbE8jAuUBaViBcNaAag+LMaSq3wTv20JPjgO/1NwqWNfxrj/1WMxJHdcXsqkoJBHA0y+Q2JKMFmPCHsfpB2SXHGtzmwHEWITxbh2GSDcEFiXWH2UaUDEJ5cvjsmCRcnWEyJA8XqgLYMsdZG//CwWrKozIHK/zqsfAX1MPkx8iKItR1tixjiSRUZMsOIN5c1vciktZcUywj2AzI1bMC0VWsodklyWHosxlh8TM3/W+Jv1JFd91Q/BNUa4DfGJzWGrlEL1akRlILnmEU94G6c9BnBjEaGsJ5FccRAAPvrcJyy+WZoQaFgxFFC6dnPE60muRa3xl2B+Wm6Sq30UKQJjR4qRgBWHlY7VO64dPQ7qp26UJYuVucaCmBx5yEU6mGvLMF3aVueVj4C+M6boVuMhllw1p+uNf4TUcymTLInGg91OvuUshuR9qP+DBP3Jcikev9RJOi/x1Y81k/wZOw67prgKUk1/Gaeuq4O4k8pOnv1Z3MWQ3D6P/K+umYs8xEf/Iqn9+DAOEUv6Gm598LsnuX5bWLCO28HFO8a1Tf4WD9IycHGZgjOSG8st1yplOsPPdXMcK/uwHuoIVyQ3hry+nkv5/1RJLuZOcEzw6RRnHcKfjOnapA6k3NdY/5vogGxLwqRP2IZxxpHcPs4k4HQyRa3DHISYkp5PWnF0oLdG5BVikyZlcYd5Dq/5beBTZKxCSL2Jfly6YXvEGZJcAmubwlalVXRcHPr8/I+QsGRxkdAHfmtXSC7h9ltchzpZtVn9UkgIS4L7JiH+USY1mPaWpcSr8+pEIP3Ld9TDVxSBrT0repOa8YksImLxnZNGcCZbfMZYQFlRxTeuWSyHVs+lREjZQ5JrrFGIlCx3Ka/lI7vktSe5ZN88ZYxb8Jl/tM1c1R+umYeczQnyVCbFlPb733iiVCaRXHEQZa4RFJk81Ek9zFcWEyuF5MLVots7NbWZDJjnyQNrtf494ogj2nu+zU+RBXiYm6TTRniQI4cFtMWEh1dZg8jMOOW7lPJReS0PAvrbeGDhY/EzXsixEHnW5xaZtt/1cy8j/jcevBbLTgrrJZLUx+lr7jqLJNcjbhD0z6S4Sace8lSOg7yx2JrHLNxy3Tl1T9q5zsoVPySXmyFdOa4+rg2vD6/5jV+YD8wt5k/+/utKlzqqS09ypdNuO1HIK1eIIbbi6BMP5VpksMibI8WDLTI7fIWYhb1nGVjoPWDGONbXEb7cMPAH49s8sFxhqiQXecxXSXoiCCykycTIbM4UT9m5DlxKwwqPkHslBbM4ywDQHCZ/oAPSFr6PQbAishJRTNL3AI8DM3n153Hxck29lBuLKqd6HY1EWqkq1335iUsxWc32A5yCld6hjjDR2YSWhegWt7hFGxzur6v+6iXOkOS6Jl9KkYI28E0AhCwDG3ZWZiYZisYKK/XuSa52JMiT9cWWBKG3SEgdnS0SPNnJ10fbFzIxpIw6r0wEWN4QXA9vUSLkxoLHx0pY4bwBhe+d8cANyFimHCJTJkCTJb8tSosMGbOUV8b1crRc+UOS6xr5VDb3AtbSjO2e5LpGhlmbEDCWSmM8c5TxYJvQ2Pe/eyZ5St1knvnMuDNu7EaZ6+YiuSxcLCxew6eOqZdPAbPMrgSSCz9tjQ8jpYbkmn/Jg7fBUMQWEeYfO3BwgmWwtyvE9xG2FhksO+SJPrADBQNYwLXC6kSA/HKxQ2rMHXRfAht4VNYAACAASURBVDlArhhhjEFjlD4kI+YNaZEpJIwvOwu/NA5zibFFb5IPOheJNK4ssswzxpu48wnJVz7DtyvMNw/liKvu6qKOnkOyq2lcaJ82aWOC+jPi0c0ZG2kLkm3e8NvZgsHcwn3JcwCsp/Otm7yHJFda8x7db07C00JixVemOluIMkYYw9I4hiQ37TEvmgvl6WDZDX+QDk+xO8UazRINq+UKUyW5hJH1hvKzxQ2IBEBaKVB6JjdP71N4hIQ7ge1AisFkSBgABiydgFAhlyxHrIcsoBSDyRJhphSWGkQDSr6UuoPFxTt8bWPapmPdzNYL4WTFtlrl+xfSjfCqI4HlKoAEEzaWbgPCoI/QB6e5zhEeFhAD3Laha7CCPSsLQgEbb1xwzcLAVjPCQuAopaw0pTOhmCg8sRohVQf5EmJ+VB6S02btTHnaA5M1a9bcIN1c9a97Kx8B/UtpsHDYeWFpM0llYnbfWONnZ0JE8jwk1csUkmx8GBMmSWP9pje96dRILssza2wWZpHZzCl+k2VWFwSebLvmYMFluWCd1Ebjh8Iy1r0NhYU6bTX+EGJxjTETOwUCM2SQQrEFqlxH/3YFc6N5jaKVh/QWu+YDc6Exxz9wnLuCOvaEUN76y9y51D65MDGXGOseskNOzds9luZ2lixEV7tZ6yh1abUTXmTC/8FZeoYPpEeaPESz8kdI1XAcAuYHBhM6hrti/HLF1eeIGmsivcffnf5ADsmS1+jRZ2TeXBHZISPIox0gc4mdD+PL3OIZH5ZOxqKhFXFc/fpr6mP8G3uMQurh2kICWabfzX1IoTHvuRjybMdUHY1F+WoHLsFyrJ0WjfCiX6XVRnrYvOv9vwwHjAj4EPfOjJv51E++SK45yYNqyndYeJrv4G/Xl3VVn+AIyrYAteC0y6teSacN5hW8bbhwwXPMnfiedOE90movt0hzsfnTteUKUyO5GkD56TTWPW8UAGwap6NNhjqNgOpEDy2ZGA0MVh+CguACM+kIozQUDwKHaHoww8QoLcLMkiLvpQzqLl9lOtSRQicIhA+hZd1QT3U0CClMPrbpbAOYBdjgNSDl4Sy9VRNlpd5p67rqLx4BNFCQ1gwi1wk3pcEabmWlnvCBsf8REp9ANPmIK+iTkFXbjX73QbsIq3a5TwEry2FgEmAYDNP1edT/qwsBssHCSW7IjBU+OdDnCf43UZvgjQljwQIuccgDRUW2yZuJcFoklxWEb7qJ3u5F6pS654wkWoAaS8aFeA5kDJk1Po0fSsH4dVgMWmRHKbKGIKfGm3nJYcKnxG3dGqMUCDwcrMmu8bv1Wx0oQ5ZMClJ55kHzI8sXS06ecjYfsS4jmhThkOQan9ptvMp7KQI89D0FZr6lpBF583yPq/IoSw/TerhY/c1FwdR9R58meVPoZM0CXRsrrE4E9Cf9oO+9LnS4xY6omUs8MGZRF93f6ycujeQo8ussvnFH/qI//c/Qw8ppfpH3QkJkTz1xjvnupPZl0PGeTWB9xg/UyXh1No7Vz8JPWdphXPIhtgvSk1wPe+MDeIFdM2dzDr5jgZsFdV/2XP+bvxFWxJS1W/mC67iDOVsd1NGcpix1Nu8Yv8Zt8JSWvzOyao4yF/RBnoi+ZxPMPdzCMs4ZCFjlvTvZnLqcYaokFyisJ7avbGlmRdA3UAcDjlWXcrFys7IgKCwYFAfwEvzPKkygpHFQQjlbrXBbSMck3fqeKRGDMuWk7PxWLhIrqKPVJKHS0akLJY+IcrHgTsAS7cxdAAbuZ0DPt74WAMixLSEDoA/qrB4Uqwc8LDhgaiASYhYZ+EbwnU0q8lLvXE+e6kawrdCRYeVpm4mFwvMZZhgM0yV9nVcXAvpR3x566KGNsFkwmaDG9S/ZIDNIokUnv0sTfx+kIzN2QqZBcpWtvkggeWVBmBSMWUrZWDHOE9RZOgTZuDVHqb8dIwtZaUL65WE8GT/ue4WiNMa27XfXMwfKlxUqOyx+O4w/15Bd5SCy5gyLffOcuQ+pdBhr5h991M8b8kl5S2k1CUbclfjee8gsbQ9eOZsXbFlyWUBGtDXzYOKkzc7qTza8O5XCZa1bbmWYetR56RHQp/ozbnMMU/1CTIlkh/WQ/soDiBaNPmvrgU87I7HipobGJl0rvsWyMYJA2SFByMioshcayJ8HphbrJkO2jW1GnnCDnpdovx0wIdgY59qeRSJdLo70xpb2ZQ5RL1xpOIbW1U5lWUSb1yxI+yAvhF67LZ7Nbb6Yxkhhke1VauajHk/zSfLr55y0S1v0m/Iy16m3h3TxOnOhOMsZpk5ygQJAqy+TNcHuAwAdhNMgoBgJrO1yFhEEkKD3QXwATzr6TunTre//Cyk3cZ37+vhfW3U0oXbOwOzjLaSucJiU1nX3g6+Vlu0TrhGszFbYw4EjzVz5JU9nbbAdaTvYwNSHk9IupE0Vd/YIkBvkLg8a+LjLcPymlvo8D5vwLfcGg1g4E8d52iRXmXONj75uvVwPr+ce+XYYM67lGMY3rh19PPXoQ/Lsr/lfPOlgPUyf8nKe1LZJeQ/LWshvdbFwN3fYMaPMXBsXlG87mUXHBysoTIv4PlCCdALyjxBz42Jxsm1MkcK5wupFgPwzstANXhs1JExaFjklR/qby47FtJ1dOwZxVexR6MdHPxaTXx93vv9nPDkvNqQt6jfuGOad+H15uQYP41/71pcfJM++nPzvniP8ABG2aMDXWOEZB/RjH5Kmv5b/cy/zkt90CJdJLkja49pyhqmSXA3RIJOZFQLCOtcWVAAChNUF/08r+nHKcjlBmkbeaes0yurLUC5BtgK2XcoaNYm49Okm/W9RwupkxZ4tyUlx6/rqQsDEZ0XOTcGWImvCcMJLiyJXtriQGtvzSK/rfZgFye3LX9//pzluh9itb93XN72+R1btAiEuLMmU2big7ggLVw1We+5MrEYJ7rPI2SJm/adUuV54wM6cpKyV1v7Uvc7zR4Au18+e/WClnNSnrudAhrnn2HX0zMpcC6lJ+c2/hiszZrCYdu2Uy6jILxr/Yrii4xeLs3Ss26zScW9c7jZNneRqkIaatLIiWVcjxTd5SkPAJ02k68qn7o9HAJ76YiF9Mj6n/9+38nJUP01CaXVe16csd7acbWFZkU9SOFpIOSEzLLl8QvMgZt/61U5y+7ZsaP+bL2wTc1VgbR26SfR4mMPtGvGt9f5vRg7xE9xnJeKDaEGE7HpWAIH2kR6GDfJXYXUjoJ/140L0uDRkzUGn+F1hegikz5aCH6j1Qvt/fVs6E5K7vpWu9IVAITB9BExO/MZY2RxICcvMuGBitDXpwRCWXG9VGWfZL5I7Dr3VcY3S8xS2rWR+uSy1k4goebDI8VpBllwuUvq+D3xuLYz4GSPE3B9Ycj257WHHoXtDn7b+LwQKgUJgHAJFcsehUtcKgULgfxBgRfGWBJ++RWw8RMUHe1wIqfGAKZJru5E//jAUyR0isnp+s8Zl0cN9hS8t4jsukAeWf68aY9kf9yBin05826LeYOPBI688IiuuVygECoFCYL4IFMmdL1IVrxDYwBFAMBBVb83wOizvRPX2gHFuKQgQ0oOceG0UX95xVt8iuatXqPQ7P+u8Ts2bcCb56/Hz93Q5wuq1RB5CGyc3PRrkzUPHHmzzGqNxDyr18ev/QqAQKASGCBTJHSJSvwuBQmAiAoiHV895rRNfTK8JG77qzpY1H0pvVPCFQu9/9Bq/3gqH4Dg8fJT35Hp6Oq/9WRcBmljBujE1BPSnvvbZTiTUggbpRWjT186sux5K86Ec8nD00Ue3V0WpqH62+ImPZtK5Lh9fTUOMuSws5n2lUwOjCioECoEViUCR3BXZLVWpQmBlIoCEICwnnnhi++KZ14l54tm7DxETpIdPJR/KvFDcq8b691vKgwXXW1a8su7ss89ufppeYec92t72gSQX0V2ZMtDXSh/pw3wBz4vfve6Lf617yKunqL0X04v9d9ppp+Zry82FHCCunrb2Nae8A50MsQh797kFEgLtfbnexBMS3Neh/i8ECoFCYBICRXInIVPXC4FCYCwCCIov9LDIIbK+3uM91scdd1x7RZSHkLy83btTvU4OAUZcEljouDp4Z6rXRbHS+RS3vPbdd9/RAQcc0B5Qkq5ITVBbuWeE1kOIZIAbizdveDuCNyl4q4Z33ZIHcsFlAYFFgPWtl/nz2yYH5EE6nz7lAuFVdfn6I3/eSf6+KxeZqlkhUAjMGoEiubPugSq/EFiFCCAqCIrv0Ofdprar+U9uvPHGjZx49zKL7dAii+Seeuqp7XOPyIzDpyFz9sldr5Eqkrt6BIOlnjXW67580dJixee+fcZ4o402au9V9q7NoTXWa8R8PhmxtSvgATZv7kCUycTJJ5+89iuRteBZPfJQNS0EVgoCRXJXSk9UPQqBVYYA0hH3hOuuu649JOTjAKx2DkR2nNuBdB4i4n/rVVHjDp/3tNVdYfUgoF9ZW/nl+lAId4P4b++2227N99qDiz1Z9b9+5rrCWuuTyz4T7uM/5IO/tzh9mtWDSNW0ECgEZo1AkdxZ90CVXwisYgRCQFhrHUiOT7L6BPed73znZumN/2XfzKSb69zHr/9XBwLpT7JgAaTvfSVpxx13bFb+Sy65ZOziRbqkkc6RvFZHy6uWhUAhsBIRKJK7Enul6lQIrFIEEBNb16xx55xzTvtctIeLEJgKGx4C+p31li8utwTvve3fvrDhIVItLgQKgWkiUCR3mmhXWYXABoKAbWbklrsC6y7yW2HDRCALHy4qteDZMGWgWl0IzAqBIrmzQr7KLQQKgUKgECgECoFCoBBYNgSK5C4btJVxIVAIFAKFQCFQCBQChcCsECiSOyvkq9xCoBAoBAqBQqAQKAQKgWVDoEjuskFbGRcChUAhUAgUAoVAIVAIzAqBIrmzQr7KLQQKgUKgECgECoFCoBBYNgSK5C4btJVxIbAwBDyF7pVL03jdlhfwT6OchSEw3dh5H2tK9Xu+mOirxF+uN0dEFpYr/7TbueRh1PpTnyYsBBN9JP40+ir1q3MhUAisG4EiuevGqGIUAsuOAOXo/aFeseQshEQ550B8ekUaIjQ8J45zr7jl69rf/va30X/+858b5LWuRg7LyO+Uta70s7qvfuo6rKdPDnvFWa77xOy//vWvtb/nqi9CIy0Mh/jOlW6+99TJp5PJw3//+99Wp+AdWcg59Zf3uDh928Ud1tf9v/zlL628+dYvZckrZebc12ch+U0rrvr1mCjXNf3pnb6C+3//+9/bO5/nUy+vyfPVNh+/kLZCIVAIrAwEiuSujH6oWmzgCFCMl156afsULrJFWfrE6cknnzx6zGMeM3r4wx8+euELXzj60Y9+tJacIli+JvWCF7xgdMIJJ7TjOc95zuiiiy5qClue//znP0df+MIX1ipvMEv36Ec/evSpT32qEaj5QC+fd7/73aOTTjppbTlnnnlm+3zrv//97/lkMZM4MEAWv/vd745++9vfriWwrr/85S9vbUFQ/H7iE584OvfccxsJnIuouafNvt71/Oc/f/T73/9+Sdsmf3XyMY3zzjuvlQX/17/+9SP9m752fuYznzm6/PLLWxvFkea5z33u2jj+//SnP93kADEnW75Ih8wLypJu7733Hl1zzTXzJmgIof5PfcjFW9/61tFPf/rT9ineJQVkCTNDyi1ufHb4z3/+81p5sJB41rOeNXrlK1/Z+t8HTR75yEe2sUQ25gowhMeb3/zm0Rvf+Ma2gHStQiFQCMwegSK5s++DqsEGjgDywWL3hCc8YfShD32oWY98TOENb3hDO9773vc2gvmMZzyjxfnOd77TyAirE4J75JFHtq9JXXDBBaP3vOc9o6985SstDwr9d7/73eg+97lPI3iUtQPBQWo+/OEPr7U8uT6XYmalOv7440cHHXRQ+1QvQoMUPOhBDxpde+21jWRJ70g5ya8/p5zEc879pEuciEXi5H7iD++73sfxGwbqfsQRR7T2+p38vvjFL44+85nPtDjSPeABDxi99rWvXUtyE6/PU5mus7bD9mEPe1jDO9b31Gl9zvL69a9/3RYi6ug3ov7JT36y9e+FF17YCOXLXvay0T3vec+2OELSEFj9g9ief/757Wtz5IG8kCf5fOtb3xo94hGPaJZb7dIWBG277bYbfelLX1qLRe6Na4c0f/zjH9vi6+lPf3qTPYuDNWvWtLx/9rOfrf0AiLjj8AuO7k86km5Yl8TPfb8Tci/nPo5rcPrhD384Ovzww0dXXXXV2roZg5dddtlaDCxi9txzz9Hb3va2Fqevb59nrsP3uuuuGz30oQ9tCyr5VSgECoHZI1Akd/Z9UDXYwBFgNWKNe9SjHjX65je/2ZQ+ZYws+EoUcsL6yvq0/fbbt0+jUqIsUqx5r371q0fXX399I7YswLFMIs4U92abbdasjsjoz3/+87Uk9x3veMfo+9//flP2V1xxRSNtyNS4wL0BmT7xxBNHv/rVr5pl+Mc//vFoxx13bNbmbNWyan7ta19rZMGnfZE19UEwxPne977XyvnGN77RLNW2ybUVYWRJRLSQdETEdem08wc/+EG7p57yQOhCZFgP3f/lL3/Z2iKPX/ziF2vxkN9973vf0Ute8pKRcsWFKXxZxkNaepLrGgun+yyfV155ZUuLEKY9+gShPOOMM9rWtvosRdDet7/97Y2IqWPaCQ/11sdwY0l94AMf2GRGfW2vsz5aFLlPrsQlK+67hiDf5S53aYQZ4WXdJidILss0bLUVAfzrX//ayhu2SX30F0LHuozwwgW2W2yxRSPXFlKInz756le/2vqO/P3hD39odZHHn/70p0YI5eUe2Sfv6kzGrr766paOPOnPyLU4LPP6WV31EczkqZ361/GTn/xkrTxoJ9lGXj/wgQ+0RR78YGBMwFU+8LYQGpJc+cIJPrAhExYPFppZOPnfIgP+/lefCoVAITBbBIrkzhb/Kn0DR4AiRP5e9KIXNcJE4Uc55gwiREU8BAVRofBDcl/xilc0wkhZhyRQvJT2U57ylNFGG23UyNDjH//40ete97qmwFlyWWKf+tSnjg444IDRzjvvPDruuOMaWe7LTfeE5CJ1iKz8EU15sjAjs0jL8573vNE+++zTyttvv/0aMZZWfT//+c83Sx+3i4c85CHNEsiSipzZ9lan/fffv9077LDDGslElD73uc+1BYB83WeJhAFioh7KRy5YFRGvXXfddXTooYeOkHBE1Zb+He5wh9G97nWvZgm3tQ477gqs08gjEtOTXNcQai4M97vf/ZrFet99920LDGQHRkjTRz7ykdEhhxzSFiDjcAt+8z3LA47ytP0Nm2G+flvUPPaxj23EXXzXQnJZ2REwRBH5DE4WHfp6k002aTg9+clPbjsEsLjjHe/Y5IG86JuddtppRK4Q3XHlh+Tanlcu+VQP2J922mnNFYBMrFmzpi0wkHF9B3sEWPz3ve99owc/+MHN5UO/PelJT2pkl3yxvO+1115NjtyzY2FRIS2SKt3973//djzucY9rFnkypt/IgnYcfPDBrZ1km6yrs/HB/WfrrbduOxwwOP300xuBJQvarG49yfWbHF588cVN9siB9pAXrkDiwkj9zj777NGxxx7byP0Qt/nKQMUrBAqBpUOgSO7SYVk5FQILRoAiRA4QN9Y7SngYxEFE3vWudzUiyHqFlIXkUvYUru1VxIDiRQaQG0Tv9re/fbPYUsaImXvisRyzniJC3/72t0e777578/GV9zCE5CKjrGLyYnm7853v3EgCa+pZZ53VSAVrmLqxttkWRqwRdD7Ae+yxRyMB2iwPlj3WQG1gJUNKWcEQEuRCGQgrMiVP91igERv5s/oh6ogHXKRXvmtILNKjvoiSLXVlIizyRnzkPSS5cFM/pBvRRPS0/xOf+EQjgMivPpGOBRIR5k+9FKRGHsjhLrvsMuKqgDgNAzKn37bccstWPgykQzb1KSwQynvf+96N1MJQm1l2WT8RWBj5ra36f5ttthlZWJAXffXZz3625UOWhvKgrJBcLjXw0S/qu+mmmzYZYkXlryxP+LvPossXnKXTQoErAAJ6yimnrH0QkuXXbgEiatGmP/V75MFCCRlGdOUpn9e85jUjZFUc8m1xhcyz5krLwswV6J3vfGe7Dzvy8LGPfaxhIA0M1ZV8D0ku7Ox47Lbbbs1H1+KOPy950h4LCpiIR0aUZUHhWoVCoBCYLQJFcmeLf5W+gSMQwkCBUpAIaB/cp8xt2SKxiDAS4jqShayw2CInHlRDLCh4pJWyRhpsIYuHrEinDATuLW95SyPVrKEUNN9dDzr5PQxIHqucerJiIVOIOTKJ4CKctsqRhGzlIlQsY0gJ6xySKy3fUgRLfbglIImsaUiaaw51d7alfOCBBzZ/Wm1CKPgSexAv/svqcMwxxzTLsjTyZpVDsBFC2/RZRLgPA2euHiymQ5KLGLHaWQiwNiKJjhBE5AxG6gh31mz9It/1DfJA7rbaaqtG+tWtD+5rz6te9apmzdQv2iIgaohd5IGbhj5j1ZQnMscFALFEPOXlQHJZurkrwA5mZIxVFsbJP/WQBqHkj21hxPIbeTj66KPbPQsOfc2qq0z9xiLP5eXZz352I7VwRMa5DKi7csRFQENileW6OsEcAUYikXB5kglWfXXQPxYx8mT59b+02qLcl770pQ0D6ciDB/KCAbJPFuQ/JLnSk0MLScRYfS1ujFeLkY9+9KOtHG1QBxb25B3M6lwIFAKzQaBI7mxwr1ILgYZACANCMSS57rFk8ddluWTxYjWj8IUQAIrc/7E4sa6yLCJIPckVxxGSi8hRzMmH3yriS8kPQ0iuB634AHuwSXrkmbWR5QoJQEC4I3grBFLBveHFL35xIzUUP3IaUqNcVjbX5IXMu5agXXF/QJ7liTTb8kaUkCbEDckVD1GRXv2RFdfHkVz5y3sSyUW2WaUtKpC2lKtsW+CwlV45LJbTJrkIlgWFOpKPBG1HBJ0d7vHJ3mGHHZqfM/mYRHK33Xbb5p4hvbbpU2TYmzr87oO8kVwuAxYoLPUIK1x+85vftD75+Mc/3hYJ3A70Pwy55LCes/6ywFoYkCc+vbBUjj7llqKN6tsH9y2Y3JeXPB1kgXyQJfUmh6eeeupaLJBdriwWgORlSHKVMRfJZdWX1m4D15fIA/lm/WXZVzdjCbkvktv3Wv1fCMwWgSK5s8W/St/AEUAYKFHWK29HYFVzjdKksFmqEAkkzr2egIrXkxqklsUUYUEaQ3K5K4yz5LKIhhgqb10klzUMaUVwQobUwaGeCIutY1u7/EEdfEe5JCAXLLksaKy+KdfDdLamWZC5ashLcFYnxB5x9rBP8nRWB3ggsSG52ivdkORaGCDSiJg8BedJJFc9bG2zCPIZ9tATFwKHsuOTqzwWXv3DNzd1bwUs8o88lMOlAGEiA32+cINV3Dv8ThBPu5wd0lpQ8ONGxGLJ9bDg0JKbtytI75BWHeYiuWQWYY01OeU6W5ghm3BkrU/fkQeWaIQQydUvfusz6VhCpYO7xZhrgrN6sUxzMdEueaZPyD0LvHxZkFm6MzZYp3uSS/6USx7l64DjJEsu+UGa7SjoEwvHyINzFmdIuTzJq8VE6p7+qXMhUAhMH4EiudPHvEosBG6AAMshSxQLKEIYpYs4IlqsVhQtBU4ZR3kjeAiZ6wgXX0FbtyxwSI14LGubb755e72ReNLEkrtYkotQ9Arc/64hwCzOSLv6OJSJfCAx40iudAg8a6i6Jh3CgNTwCXXPq7CQNPWHARKGvGjjXCRXuTBCwFk+pZWHdJNIrnJs+bOAejcwS6B6Sev/EE/xWCxZd/VVj8kNOngBP+TBssliyVqet0jIwj1b56yJcA4xdA9WwVo91Vc/IGcenFM/15FDb+hAEMWRh8XCYkluHjzr2+5/LizcRbiNIMGpE8zIgz6w6BiSXIsxJNbDhL0cRR70B0spuUiezvpF3v6fi+S6z/qOoHvHtN8wcEZyWYX9ll9eIWa8KM9uCzcJ5UQeEFy/tZlceOjvqKOOau3vMVmACFTUQqAQWEIEiuQuIZiVVSGwGAQoVFu9yJyHryhHRICF0ANBHiDi/0gx87dlNURoEB4EhnJG2FiQvEGAf6t78kGSECaWP/l53ZXybPnywaTcxUOS5MVKSMkPA6LCGoaQDkmuuPJh1UJAbGOLZ4vXk+6eOGf95K5gm10bU64zwoXs8KuUzoHo5KEj1kBWZlvDHiZTDw8aeS+p9EgmFwbEQ1vU36IBLshsfmuz+lg0ICdcGuQpnfarN+zER6o86Ad3JJqrAr9fDxrFSieOd9WyGrJGKnt9gzyQcphpJ2ySr7OHpsiJBYo6J6gzv1u+1k972tMaEYa1B/0sfOAvvgemWEoRQfh4CIyscXFhpRTHgbBZLPGN7ctRnnqwpJNHvqoWaalj6gMbbgH6lAXUAk6fIOfvf//7G/4suSz7vSVXOkScLMJaOv2EfFrUkEPvMuY/rj/grw9ZeC0QjQtlcqnR9+olHeIpr/QtmSEPztoAH/moozjSKEMdEXKyaJfColNZ5JArhvQs1coRh6x4MBKmQ0yCTZ0LgUJgeggUyZ0e1lVSITAWAUoUUfDwjgdbKGqHp9URWmTUwy05kJkoa9ZRW8qIDPLA0iSvED75UMK2f/n88lt0z1PqtqwRAYFCZq2KW8OwosiHB9u4FyAAwyA9YsRVAWFHnhAkxNb2rnogIR6GYjnsy5W3LWRtlw6B454gjXis2CzT8vMgmPue1EdM3OcPjFAlT6SM5TJPuKubbXJb6DDwYJy8pUEapRPHVnkIizzgqL59uYggoqXP1IuFGG6x5g1xWcxvxJ2LBBKpPGUJaQeSPSTV6otYwRBG5IGlUpvi1iF9SCS50Tfaqzy45Atg4imTPy/c/B4GCyV5s9jKcxikQfq4c5DhyAP55GWcUQAAA4lJREFUtEhSJjnWz9KnDO2Qt34h99KRez665Fa9pJcPuSfz4pFN8mdcqJcFUPKUhtyTMdeUod7GBAyQavKgzFjkpTFG9IM08mVhNyaVC2PtImPwld7Y0WfaLH2FQqAQmD0CRXJn3wdVgw0cgSheCpslFTnINQp5eLgnJA7CkK1acXM/cRIv+bg+jDfpmusJ8unzzvWcc5+CV5+Q1KRxHldun04a7enjuY+Ipp2xvKbctGtYjusJKTtxXc815/yfcnNNucpDxJxDiLUPQWNB5mYh/lIFeSmL1R1RDYFOnVLHYXnuqx8MpZFH0iRufgcHv4Vhnq4PryWPnNd1P2VFHvRf8JNHykh+OSed+kceci3nvp3yV5c+z8RLnn1dc8+1HK4N4wx/y0u52kEeUq60XBr0FWuvBUiFQqAQWBkIFMldGf1QtdjAEaAoWYRs+WerM8p4eB4HlTgLCQuNv9C8F5v/XOncm+v+Quq40LjDspFIVk5+o4jYUtcLwWIpRqBZNhcaFlqfhcZXn/mmEW++cYftnCvd+uQ7LGehv4dlsyKzDnMPQn4rFAKFwMpAoEjuyuiHqkUh0CxJLEUIToWVjQCSo68ccxGx9WkFOVjO/NenbpX2hgiQAS4NvfX3hjHqVyFQCMwCgSK5s0C9yiwECoFCoBAoBAqBQqAQWFYEiuQuK7yVeSFQCBQChUAhUAgUAoXALBAokjsL1KvMQqAQKAQKgUKgECgECoFlRaBI7rLCW5kXAoVAIVAIFAKFQCFQCMwCgSK5s0C9yiwECoFCoBAoBAqBQqAQWFYEiuQuK7yVeSFQCBQChUAhUAgUAoXALBAokjsL1KvMQqAQKAQKgUKgECgECoFlRaBI7rLCW5kXAoVAIVAIFAKFQCFQCMwCgSK5s0C9yiwECoFCoBAoBAqBQqAQWFYEiuQuK7yVeSFQCBQChUAhUAgUAoXALBAokjsL1KvMQqAQKAQKgUKgECgECoFlRaBI7rLCW5kXAoVAIVAIFAKFQCFQCMwCgSK5s0C9yiwECoFCoBAoBAqBQqAQWFYEiuQuK7yVeSFQCBQChUAhUAgUAoXALBAokjsL1KvMQqAQKAQKgUKgECgECoFlRaBI7rLCW5kXAoVAIVAIFAKFQCFQCMwCgSK5s0C9yiwECoFCoBAoBAqBQqAQWFYEiuQuK7yVeSFQCBQChUAhUAgUAoXALBD4f+zDHXY2/tcwAAAAAElFTkSuQmCC)"
      ]
    },
    {
      "cell_type": "code",
      "metadata": {
        "id": "5Aw3K_Fyo8MJ",
        "colab": {
          "base_uri": "https://localhost:8080/"
        },
        "outputId": "765a07d1-20b0-4690-9b2d-5200070ed0b5"
      },
      "source": [
        "print(df['bmi'].describe())\n",
        "Q1 = (np.percentile(df['bmi'].values, 25))\n",
        "Q3 = (np.percentile(df['bmi'].values, 75))\n",
        "IQR = Q3 - Q1\n",
        "lower = Q1 - (IQR*1.5)\n",
        "upper = Q3 + (IQR*1.5)\n",
        "print(lower, upper)"
      ],
      "execution_count": null,
      "outputs": [
        {
          "output_type": "stream",
          "name": "stdout",
          "text": [
            "count    1337.000000\n",
            "mean       30.659295\n",
            "std         6.091868\n",
            "min        15.960000\n",
            "25%        26.315000\n",
            "50%        30.400000\n",
            "75%        34.675000\n",
            "max        53.130000\n",
            "Name: bmi, dtype: float64\n",
            "13.775000000000007 47.21499999999999\n"
          ]
        }
      ]
    },
    {
      "cell_type": "markdown",
      "metadata": {
        "id": "jsAScAStqzva"
      },
      "source": [
        "**시그마법**\n"
      ]
    },
    {
      "cell_type": "markdown",
      "metadata": {
        "id": "zCxh5kxEq5e1"
      },
      "source": [
        "![image.png](data:image/png;base64,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)"
      ]
    },
    {
      "cell_type": "code",
      "metadata": {
        "id": "j0UkB2gpq-fX",
        "colab": {
          "base_uri": "https://localhost:8080/"
        },
        "outputId": "f2531f32-e175-455c-c58f-1d52a8024716"
      },
      "source": [
        "print(df['bmi'].describe())\n",
        "mean = df['bmi'].mean()\n",
        "std = df['bmi'].std()\n",
        "lower = mean - (3*std)\n",
        "upper = mean + (3*std)\n",
        "print(lower, upper)"
      ],
      "execution_count": null,
      "outputs": [
        {
          "output_type": "stream",
          "name": "stdout",
          "text": [
            "count    1337.000000\n",
            "mean       30.659295\n",
            "std         6.091868\n",
            "min        15.960000\n",
            "25%        26.315000\n",
            "50%        30.400000\n",
            "75%        34.675000\n",
            "max        53.130000\n",
            "Name: bmi, dtype: float64\n",
            "12.3836911494401 48.93489849797176\n"
          ]
        }
      ]
    },
    {
      "cell_type": "code",
      "metadata": {
        "id": "MMV5O3Ctq-pA",
        "colab": {
          "base_uri": "https://localhost:8080/",
          "height": 265
        },
        "outputId": "8eccb3e9-e90a-4825-8117-df2caf040fb5"
      },
      "source": [
        "df = df[(df['bmi'] >= lower) & (df['bmi'] <= upper)]\n",
        "plt.boxplot(df['bmi'])\n",
        "plt.show()"
      ],
      "execution_count": null,
      "outputs": [
        {
          "output_type": "display_data",
          "data": {
            "text/plain": [
              "<Figure size 432x288 with 1 Axes>"
            ],
            "image/png": "[encoded data removed]"
          },
          "metadata": {
            "needs_background": "light"
          }
        }
      ]
    },
    {
      "cell_type": "code",
      "source": [
        "df.info()"
      ],
      "metadata": {
        "colab": {
          "base_uri": "https://localhost:8080/"
        },
        "id": "ffgagaDduv9c",
        "outputId": "ac4193dd-78e5-4ae7-99ba-4033194aaef7"
      },
      "execution_count": null,
      "outputs": [
        {
          "output_type": "stream",
          "name": "stdout",
          "text": [
            "<class 'pandas.core.frame.DataFrame'>\n",
            "Int64Index: 1333 entries, 0 to 1336\n",
            "Data columns (total 12 columns):\n",
            " #   Column            Non-Null Count  Dtype  \n",
            "---  ------            --------------  -----  \n",
            " 0   age               1333 non-null   float64\n",
            " 1   bmi               1333 non-null   float64\n",
            " 2   children          1333 non-null   int64  \n",
            " 3   charges           1333 non-null   float64\n",
            " 4   sex_female        1333 non-null   uint8  \n",
            " 5   sex_male          1333 non-null   uint8  \n",
            " 6   smoker_no         1333 non-null   uint8  \n",
            " 7   smoker_yes        1333 non-null   uint8  \n",
            " 8   region_northeast  1333 non-null   uint8  \n",
            " 9   region_northwest  1333 non-null   uint8  \n",
            " 10  region_southeast  1333 non-null   uint8  \n",
            " 11  region_southwest  1333 non-null   uint8  \n",
            "dtypes: float64(3), int64(1), uint8(8)\n",
            "memory usage: 62.5 KB\n"
          ]
        }
      ]
    },
    {
      "cell_type": "markdown",
      "metadata": {
        "id": "wtagQPX6uS7g"
      },
      "source": [
        "#4. 학습 데이터 준비"
      ]
    },
    {
      "cell_type": "markdown",
      "metadata": {
        "id": "faiNlt0RuZjJ"
      },
      "source": [
        "##4.1 학습 데이터와 테스트 데이터 분리\n",
        "\n",
        "**사이킷런**(Scikit-Learn) - [https://scikit-learn.org/](https://scikit-learn.org/)\n",
        "\n",
        "파이썬으로 구현된 머신 러닝 오픈 소스 라이브러리\n",
        "\n",
        "지도 / 비지도 학습, 모델 선택 및 평가, 데이터 변환 등 머신러닝에 필요한 대부분의 기능 제공\n",
        "\n",
        "데이터 마이닝 기반의 머신러닝에서 인기가 좋음"
      ]
    },
    {
      "cell_type": "code",
      "metadata": {
        "colab": {
          "base_uri": "https://localhost:8080/"
        },
        "id": "_73EPJb4EmPL",
        "outputId": "c43e464d-48e1-41b5-d8fa-10e75144a21c"
      },
      "source": [
        "df.info()"
      ],
      "execution_count": null,
      "outputs": [
        {
          "output_type": "stream",
          "name": "stdout",
          "text": [
            "<class 'pandas.core.frame.DataFrame'>\n",
            "Int64Index: 1333 entries, 0 to 1336\n",
            "Data columns (total 12 columns):\n",
            " #   Column            Non-Null Count  Dtype  \n",
            "---  ------            --------------  -----  \n",
            " 0   age               1333 non-null   float64\n",
            " 1   bmi               1333 non-null   float64\n",
            " 2   children          1333 non-null   int64  \n",
            " 3   charges           1333 non-null   float64\n",
            " 4   sex_female        1333 non-null   uint8  \n",
            " 5   sex_male          1333 non-null   uint8  \n",
            " 6   smoker_no         1333 non-null   uint8  \n",
            " 7   smoker_yes        1333 non-null   uint8  \n",
            " 8   region_northeast  1333 non-null   uint8  \n",
            " 9   region_northwest  1333 non-null   uint8  \n",
            " 10  region_southeast  1333 non-null   uint8  \n",
            " 11  region_southwest  1333 non-null   uint8  \n",
            "dtypes: float64(3), int64(1), uint8(8)\n",
            "memory usage: 62.5 KB\n"
          ]
        }
      ]
    },
    {
      "cell_type": "code",
      "metadata": {
        "id": "22-aIjxGvC-F"
      },
      "source": [
        "from sklearn.model_selection import train_test_split\n",
        "# Features\n",
        "X = df[['age','bmi','children','sex_female','sex_male','smoker_no','smoker_yes','region_northeast','region_northwest','region_southeast','region_southwest']]\n",
        "# Label\n",
        "Y = df['charges']\n",
        "trainX, testX, trainY, testY = train_test_split(X, Y, test_size = 0.2, random_state=25)"
      ],
      "execution_count": null,
      "outputs": []
    },
    {
      "cell_type": "code",
      "metadata": {
        "colab": {
          "base_uri": "https://localhost:8080/"
        },
        "id": "G3Xp0T2FE7OD",
        "outputId": "a3b2a438-3efd-4618-991a-79cd5ac08fc5"
      },
      "source": [
        "print(f'X: {X.shape}, train: {trainX.shape}, test: {testX.shape}')\n",
        "print(f'Y: {Y.shape}, train: {trainY.shape}, test: {testY.shape}')"
      ],
      "execution_count": null,
      "outputs": [
        {
          "output_type": "stream",
          "name": "stdout",
          "text": [
            "X: (1333, 11), train: (1066, 11), test: (267, 11)\n",
            "Y: (1333,), train: (1066,), test: (267,)\n"
          ]
        }
      ]
    },
    {
      "cell_type": "code",
      "metadata": {
        "colab": {
          "base_uri": "https://localhost:8080/",
          "height": 270
        },
        "id": "IWz7d6GIc3c_",
        "outputId": "68c7592e-1c69-4a38-e615-0a7bdafabb63"
      },
      "source": [
        "df.head()"
      ],
      "execution_count": null,
      "outputs": [
        {
          "output_type": "execute_result",
          "data": {
            "text/plain": [
              "    age        bmi  children      charges  sex_female  sex_male  smoker_no  \\\n",
              "0  19.0  27.900000         0  16884.92400           1         0          0   \n",
              "1  18.0  33.770000         1   1725.55230           0         1          1   \n",
              "2  28.0  33.000000         3   4449.46200           0         1          1   \n",
              "3  33.0  30.659295         0  21984.47061           0         1          1   \n",
              "4  32.0  28.880000         0   3866.85520           0         1          1   \n",
              "\n",
              "   smoker_yes  region_northeast  region_northwest  region_southeast  \\\n",
              "0           1                 0                 0                 0   \n",
              "1           0                 0                 0                 1   \n",
              "2           0                 0                 0                 1   \n",
              "3           0                 0                 1                 0   \n",
              "4           0                 0                 1                 0   \n",
              "\n",
              "   region_southwest  \n",
              "0                 1  \n",
              "1                 0  \n",
              "2                 0  \n",
              "3                 0  \n",
              "4                 0  "
            ],
            "text/html": [
              "\n",
              "  <div id=\"df-38e9b628-ceaa-4275-b049-7ad4975cf4a6\">\n",
              "    <div class=\"colab-df-container\">\n",
              "      <div>\n",
              "<style scoped>\n",
              "    .dataframe tbody tr th:only-of-type {\n",
              "        vertical-align: middle;\n",
              "    }\n",
              "\n",
              "    .dataframe tbody tr th {\n",
              "        vertical-align: top;\n",
              "    }\n",
              "\n",
              "    .dataframe thead th {\n",
              "        text-align: right;\n",
              "    }\n",
              "</style>\n",
              "<table border=\"1\" class=\"dataframe\">\n",
              "  <thead>\n",
              "    <tr style=\"text-align: right;\">\n",
              "      <th></th>\n",
              "      <th>age</th>\n",
              "      <th>bmi</th>\n",
              "      <th>children</th>\n",
              "      <th>charges</th>\n",
              "      <th>sex_female</th>\n",
              "      <th>sex_male</th>\n",
              "      <th>smoker_no</th>\n",
              "      <th>smoker_yes</th>\n",
              "      <th>region_northeast</th>\n",
              "      <th>region_northwest</th>\n",
              "      <th>region_southeast</th>\n",
              "      <th>region_southwest</th>\n",
              "    </tr>\n",
              "  </thead>\n",
              "  <tbody>\n",
              "    <tr>\n",
              "      <th>0</th>\n",
              "      <td>19.0</td>\n",
              "      <td>27.900000</td>\n",
              "      <td>0</td>\n",
              "      <td>16884.92400</td>\n",
              "      <td>1</td>\n",
              "      <td>0</td>\n",
              "      <td>0</td>\n",
              "      <td>1</td>\n",
              "      <td>0</td>\n",
              "      <td>0</td>\n",
              "      <td>0</td>\n",
              "      <td>1</td>\n",
              "    </tr>\n",
              "    <tr>\n",
              "      <th>1</th>\n",
              "      <td>18.0</td>\n",
              "      <td>33.770000</td>\n",
              "      <td>1</td>\n",
              "      <td>1725.55230</td>\n",
              "      <td>0</td>\n",
              "      <td>1</td>\n",
              "      <td>1</td>\n",
              "      <td>0</td>\n",
              "      <td>0</td>\n",
              "      <td>0</td>\n",
              "      <td>1</td>\n",
              "      <td>0</td>\n",
              "    </tr>\n",
              "    <tr>\n",
              "      <th>2</th>\n",
              "      <td>28.0</td>\n",
              "      <td>33.000000</td>\n",
              "      <td>3</td>\n",
              "      <td>4449.46200</td>\n",
              "      <td>0</td>\n",
              "      <td>1</td>\n",
              "      <td>1</td>\n",
              "      <td>0</td>\n",
              "      <td>0</td>\n",
              "      <td>0</td>\n",
              "      <td>1</td>\n",
              "      <td>0</td>\n",
              "    </tr>\n",
              "    <tr>\n",
              "      <th>3</th>\n",
              "      <td>33.0</td>\n",
              "      <td>30.659295</td>\n",
              "      <td>0</td>\n",
              "      <td>21984.47061</td>\n",
              "      <td>0</td>\n",
              "      <td>1</td>\n",
              "      <td>1</td>\n",
              "      <td>0</td>\n",
              "      <td>0</td>\n",
              "      <td>1</td>\n",
              "      <td>0</td>\n",
              "      <td>0</td>\n",
              "    </tr>\n",
              "    <tr>\n",
              "      <th>4</th>\n",
              "      <td>32.0</td>\n",
              "      <td>28.880000</td>\n",
              "      <td>0</td>\n",
              "      <td>3866.85520</td>\n",
              "      <td>0</td>\n",
              "      <td>1</td>\n",
              "      <td>1</td>\n",
              "      <td>0</td>\n",
              "      <td>0</td>\n",
              "      <td>1</td>\n",
              "      <td>0</td>\n",
              "      <td>0</td>\n",
              "    </tr>\n",
              "  </tbody>\n",
              "</table>\n",
              "</div>\n",
              "      <button class=\"colab-df-convert\" onclick=\"convertToInteractive('df-38e9b628-ceaa-4275-b049-7ad4975cf4a6')\"\n",
              "              title=\"Convert this dataframe to an interactive table.\"\n",
              "              style=\"display:none;\">\n",
              "        \n",
              "  <svg xmlns=\"http://www.w3.org/2000/svg\" height=\"24px\"viewBox=\"0 0 24 24\"\n",
              "       width=\"24px\">\n",
              "    <path d=\"M0 0h24v24H0V0z\" fill=\"none\"/>\n",
              "    <path d=\"M18.56 5.44l.94 2.06.94-2.06 2.06-.94-2.06-.94-.94-2.06-.94 2.06-2.06.94zm-11 1L8.5 8.5l.94-2.06 2.06-.94-2.06-.94L8.5 2.5l-.94 2.06-2.06.94zm10 10l.94 2.06.94-2.06 2.06-.94-2.06-.94-.94-2.06-.94 2.06-2.06.94z\"/><path d=\"M17.41 7.96l-1.37-1.37c-.4-.4-.92-.59-1.43-.59-.52 0-1.04.2-1.43.59L10.3 9.45l-7.72 7.72c-.78.78-.78 2.05 0 2.83L4 21.41c.39.39.9.59 1.41.59.51 0 1.02-.2 1.41-.59l7.78-7.78 2.81-2.81c.8-.78.8-2.07 0-2.86zM5.41 20L4 18.59l7.72-7.72 1.47 1.35L5.41 20z\"/>\n",
              "  </svg>\n",
              "      </button>\n",
              "      \n",
              "  <style>\n",
              "    .colab-df-container {\n",
              "      display:flex;\n",
              "      flex-wrap:wrap;\n",
              "      gap: 12px;\n",
              "    }\n",
              "\n",
              "    .colab-df-convert {\n",
              "      background-color: #E8F0FE;\n",
              "      border: none;\n",
              "      border-radius: 50%;\n",
              "      cursor: pointer;\n",
              "      display: none;\n",
              "      fill: #1967D2;\n",
              "      height: 32px;\n",
              "      padding: 0 0 0 0;\n",
              "      width: 32px;\n",
              "    }\n",
              "\n",
              "    .colab-df-convert:hover {\n",
              "      background-color: #E2EBFA;\n",
              "      box-shadow: 0px 1px 2px rgba(60, 64, 67, 0.3), 0px 1px 3px 1px rgba(60, 64, 67, 0.15);\n",
              "      fill: #174EA6;\n",
              "    }\n",
              "\n",
              "    [theme=dark] .colab-df-convert {\n",
              "      background-color: #3B4455;\n",
              "      fill: #D2E3FC;\n",
              "    }\n",
              "\n",
              "    [theme=dark] .colab-df-convert:hover {\n",
              "      background-color: #434B5C;\n",
              "      box-shadow: 0px 1px 3px 1px rgba(0, 0, 0, 0.15);\n",
              "      filter: drop-shadow(0px 1px 2px rgba(0, 0, 0, 0.3));\n",
              "      fill: #FFFFFF;\n",
              "    }\n",
              "  </style>\n",
              "\n",
              "      <script>\n",
              "        const buttonEl =\n",
              "          document.querySelector('#df-38e9b628-ceaa-4275-b049-7ad4975cf4a6 button.colab-df-convert');\n",
              "        buttonEl.style.display =\n",
              "          google.colab.kernel.accessAllowed ? 'block' : 'none';\n",
              "\n",
              "        async function convertToInteractive(key) {\n",
              "          const element = document.querySelector('#df-38e9b628-ceaa-4275-b049-7ad4975cf4a6');\n",
              "          const dataTable =\n",
              "            await google.colab.kernel.invokeFunction('convertToInteractive',\n",
              "                                                     [key], {});\n",
              "          if (!dataTable) return;\n",
              "\n",
              "          const docLinkHtml = 'Like what you see? Visit the ' +\n",
              "            '<a target=\"_blank\" href=https://colab.research.google.com/notebooks/data_table.ipynb>data table notebook</a>'\n",
              "            + ' to learn more about interactive tables.';\n",
              "          element.innerHTML = '';\n",
              "          dataTable['output_type'] = 'display_data';\n",
              "          await google.colab.output.renderOutput(dataTable, element);\n",
              "          const docLink = document.createElement('div');\n",
              "          docLink.innerHTML = docLinkHtml;\n",
              "          element.appendChild(docLink);\n",
              "        }\n",
              "      </script>\n",
              "    </div>\n",
              "  </div>\n",
              "  "
            ]
          },
          "metadata": {},
          "execution_count": 55
        }
      ]
    },
    {
      "cell_type": "markdown",
      "metadata": {
        "id": "G8veZSPmmBnS"
      },
      "source": [
        "##4.1 스케일링\n",
        "\n",
        "변수들 간의 단위 차이가 있을 때 필요함\n",
        "\n",
        "* MinMaxScaler: 최소/최대값이 각각 0, 1이 되도록 스케일링\n",
        "  \n",
        "  (x - 최소값) / (최대값 - 최소값)\n",
        "\n",
        "* StandardScaler: 평균이 0 분산이 1인 정규분포가 되도록 스케일링\n",
        "\n",
        "  (x - 평균) / 표준편차\n",
        "\n",
        "* train Data에 대해서는 fit_transform()을, test Data에 대해서는 transform() 함수를 적용해야 함\n",
        "  \n",
        "  : fit : 평균 𝜇과  표준편차 𝜎를 계산하는 작업\n",
        "  \n",
        "  : transform: 정규화 작업\n",
        "  \n",
        "  : 학습 데이터에서 계산한 평균과 표준편차를 사용하여 테스트 데이터도 정규화하기 위함"
      ]
    },
    {
      "cell_type": "code",
      "metadata": {
        "id": "H_MI-bwa6fgZ"
      },
      "source": [
        "from sklearn.preprocessing import StandardScaler\n",
        "scaler = StandardScaler()\n",
        "trainX = scaler.fit_transform(trainX)\n",
        "testX = scaler.transform(testX)"
      ],
      "execution_count": null,
      "outputs": []
    },
    {
      "cell_type": "code",
      "metadata": {
        "colab": {
          "base_uri": "https://localhost:8080/"
        },
        "id": "cNSaMVMp6fc4",
        "outputId": "c7825280-ddaf-4850-f90e-6e1db914b9e1"
      },
      "source": [
        "trainX[0:10]"
      ],
      "execution_count": null,
      "outputs": [
        {
          "output_type": "execute_result",
          "data": {
            "text/plain": [
              "array([[-1.36266496,  0.45978626, -0.91651073, -0.98141102,  0.98141102,\n",
              "         0.49530506, -0.49530506, -0.58529417, -0.5621827 ,  1.65540052,\n",
              "        -0.55784685],\n",
              "       [ 0.40698667, -1.04381299,  3.24093795, -0.98141102,  0.98141102,\n",
              "         0.49530506, -0.49530506, -0.58529417, -0.5621827 ,  1.65540052,\n",
              "        -0.55784685],\n",
              "       [ 0.69013094, -1.1213267 ,  1.57795848,  1.01894108, -1.01894108,\n",
              "        -2.01895777,  2.01895777,  1.70854255, -0.5621827 , -0.60408342,\n",
              "        -0.55784685],\n",
              "       [ 1.18563339, -1.77060819, -0.91651073, -0.98141102,  0.98141102,\n",
              "        -2.01895777,  2.01895777,  1.70854255, -0.5621827 , -0.60408342,\n",
              "        -0.55784685],\n",
              "       [-0.65480431, -0.36119227, -0.085021  ,  1.01894108, -1.01894108,\n",
              "         0.49530506, -0.49530506, -0.58529417,  1.77878118, -0.60408342,\n",
              "        -0.55784685],\n",
              "       [ 0.19462848,  1.79252195, -0.085021  ,  1.01894108, -1.01894108,\n",
              "         0.49530506, -0.49530506,  1.70854255, -0.5621827 , -0.60408342,\n",
              "        -0.55784685],\n",
              "       [ 1.68113585,  0.27141961,  0.74646874,  1.01894108, -1.01894108,\n",
              "        -2.01895777,  2.01895777, -0.58529417, -0.5621827 , -0.60408342,\n",
              "         1.79260669],\n",
              "       [ 1.04406126, -0.06030572, -0.91651073, -0.98141102,  0.98141102,\n",
              "         0.49530506, -0.49530506, -0.58529417,  1.77878118, -0.60408342,\n",
              "        -0.55784685],\n",
              "       [-1.43345103, -1.69142752, -0.91651073, -0.98141102,  0.98141102,\n",
              "         0.49530506, -0.49530506, -0.58529417,  1.77878118, -0.60408342,\n",
              "        -0.55784685],\n",
              "       [-0.8671625 , -1.75477205,  1.57795848,  1.01894108, -1.01894108,\n",
              "        -2.01895777,  2.01895777, -0.58529417,  1.77878118, -0.60408342,\n",
              "        -0.55784685]])"
            ]
          },
          "metadata": {},
          "execution_count": 58
        }
      ]
    },
    {
      "cell_type": "markdown",
      "metadata": {
        "id": "0BSNoTavS20B"
      },
      "source": [
        "#5. 학습\n"
      ]
    },
    {
      "cell_type": "markdown",
      "metadata": {
        "id": "aTRGNTFAS8SZ"
      },
      "source": [
        "##5.1 Linear Regression 알고리즘 적용"
      ]
    },
    {
      "cell_type": "code",
      "metadata": {
        "colab": {
          "base_uri": "https://localhost:8080/"
        },
        "id": "npVu3EFhg6wO",
        "outputId": "96e42ff4-6410-4e06-9691-1657f5a55389"
      },
      "source": [
        "from sklearn.linear_model import LinearRegression\n",
        "alg = LinearRegression()\n",
        "model = alg.fit(trainX, trainY)\n",
        "print(model.coef_)\n",
        "print(model.intercept_)"
      ],
      "execution_count": null,
      "outputs": [
        {
          "output_type": "stream",
          "name": "stdout",
          "text": [
            "[ 3.39625935e+03  2.08534446e+03  5.30046386e+02  2.05432636e+15\n",
            "  2.05432636e+15 -5.38355948e+16 -5.38355948e+16  1.59559738e+15\n",
            "  1.56347559e+15  1.61985656e+15  1.55716325e+15]\n",
            "13268.356529189236\n"
          ]
        }
      ]
    },
    {
      "cell_type": "markdown",
      "metadata": {
        "id": "a0M6BB2MhRoI"
      },
      "source": [
        "##5.2 모델 평가"
      ]
    },
    {
      "cell_type": "code",
      "metadata": {
        "id": "rfMoBIoo6fZF"
      },
      "source": [
        "predML = model.predict(testX)"
      ],
      "execution_count": null,
      "outputs": []
    },
    {
      "cell_type": "code",
      "metadata": {
        "colab": {
          "base_uri": "https://localhost:8080/"
        },
        "id": "-94pkbo1jjBO",
        "outputId": "d239a76d-28c3-40aa-f8fd-0e4c584ffef8"
      },
      "source": [
        "scoreML = model.score(testX, testY)\n",
        "print(scoreML)"
      ],
      "execution_count": null,
      "outputs": [
        {
          "output_type": "stream",
          "name": "stdout",
          "text": [
            "0.7867862264404814\n"
          ]
        }
      ]
    },
    {
      "cell_type": "code",
      "metadata": {
        "colab": {
          "base_uri": "https://localhost:8080/"
        },
        "id": "M13wiG6lkjBA",
        "outputId": "bd12902e-7ad4-47a1-ee78-b3cc400de8d6"
      },
      "source": [
        "from sklearn.metrics import mean_squared_error\n",
        "from sklearn.metrics import mean_absolute_error\n",
        "mseML = mean_squared_error(testY, predML)\n",
        "maeML = mean_absolute_error(testY, predML)\n",
        "print(f'MSE: {mseML}')\n",
        "print(f'MAE: {maeML}')\n",
        "#print('RMSE:',np.sqrt(mean_squared_error(testY, predML)))"
      ],
      "execution_count": null,
      "outputs": [
        {
          "output_type": "stream",
          "name": "stdout",
          "text": [
            "MSE: 32819266.70554123\n",
            "MAE: 4157.600458213398\n"
          ]
        }
      ]
    },
    {
      "cell_type": "code",
      "metadata": {
        "colab": {
          "base_uri": "https://localhost:8080/",
          "height": 339
        },
        "id": "0ZTbmctSjhmn",
        "outputId": "bacb652f-e1e1-4de9-88be-7a714218b3bf"
      },
      "source": [
        "sns.scatterplot(predML, testY)"
      ],
      "execution_count": null,
      "outputs": [
        {
          "output_type": "stream",
          "name": "stderr",
          "text": [
            "/usr/local/lib/python3.7/dist-packages/seaborn/_decorators.py:43: FutureWarning: Pass the following variables as keyword args: x, y. From version 0.12, the only valid positional argument will be `data`, and passing other arguments without an explicit keyword will result in an error or misinterpretation.\n",
            "  FutureWarning\n"
          ]
        },
        {
          "output_type": "execute_result",
          "data": {
            "text/plain": [
              "<matplotlib.axes._subplots.AxesSubplot at 0x7f2dda893a10>"
            ]
          },
          "metadata": {},
          "execution_count": 63
        },
        {
          "output_type": "display_data",
          "data": {
            "text/plain": [
              "<Figure size 432x288 with 1 Axes>"
            ],
            "image/png": "[encoded data removed]"
          },
          "metadata": {
            "needs_background": "light"
          }
        }
      ]
    },
    {
      "cell_type": "markdown",
      "source": [
        "**  **"
      ],
      "metadata": {
        "id": "t7thQGoC6ZAq"
      }
    },
    {
      "cell_type": "code",
      "source": [
        "import numpy as np\n",
        "import matplotlib.pyplot as plt\n",
        "import tensorflow as tf\n",
        "from tensorflow import keras"
      ],
      "metadata": {
        "id": "bDwLWG6z6XgN"
      },
      "execution_count": null,
      "outputs": []
    },
    {
      "cell_type": "code",
      "source": [
        "print(trainX.shape, trainY.shape, testX.shape, testY.shape)"
      ],
      "metadata": {
        "colab": {
          "base_uri": "https://localhost:8080/"
        },
        "id": "MFm3D4Tu67vp",
        "outputId": "0a8fd2ed-d1ce-43f0-8240-42839d40ded7"
      },
      "execution_count": null,
      "outputs": [
        {
          "output_type": "stream",
          "name": "stdout",
          "text": [
            "(1066, 11) (1066,) (267, 11) (267,)\n"
          ]
        }
      ]
    },
    {
      "cell_type": "code",
      "source": [
        "trainX = np.array(trainX)\n",
        "trainY = np.array(trainY)\n",
        "testX = np.array(testX)\n",
        "testY = np.array(testY)\n",
        "\n",
        "print(type(trainX), type(trainY), trainX, trainY)"
      ],
      "metadata": {
        "colab": {
          "base_uri": "https://localhost:8080/"
        },
        "id": "0LcOFiq2CZu7",
        "outputId": "e233c5b4-986f-411d-ab23-e83126505361"
      },
      "execution_count": null,
      "outputs": [
        {
          "output_type": "stream",
          "name": "stdout",
          "text": [
            "<class 'numpy.ndarray'> <class 'numpy.ndarray'> [[-1.36266496  0.45978626 -0.91651073 ... -0.5621827   1.65540052\n",
            "  -0.55784685]\n",
            " [ 0.40698667 -1.04381299  3.24093795 ... -0.5621827   1.65540052\n",
            "  -0.55784685]\n",
            " [ 0.69013094 -1.1213267   1.57795848 ... -0.5621827  -0.60408342\n",
            "  -0.55784685]\n",
            " ...\n",
            " [ 1.53956372 -0.3770284  -0.085021   ...  1.77878118 -0.60408342\n",
            "  -0.55784685]\n",
            " [-0.51323218  1.12740433 -0.085021   ... -0.5621827  -0.60408342\n",
            "  -0.55784685]\n",
            " [ 0.26541454  0.66815644 -0.085021   ...  1.77878118 -0.60408342\n",
            "  -0.55784685]] [ 1391.5287   9788.8659  24106.91255 ... 28868.6639   4667.60765\n",
            "  7727.2532 ]\n"
          ]
        }
      ]
    },
    {
      "cell_type": "code",
      "source": [
        "trainX"
      ],
      "metadata": {
        "colab": {
          "base_uri": "https://localhost:8080/"
        },
        "id": "U8eBHjYyE5jO",
        "outputId": "700261e0-8d29-4090-9e2f-860b56cbacf0"
      },
      "execution_count": null,
      "outputs": [
        {
          "output_type": "execute_result",
          "data": {
            "text/plain": [
              "array([[-1.36266496,  0.45978626, -0.91651073, ..., -0.5621827 ,\n",
              "         1.65540052, -0.55784685],\n",
              "       [ 0.40698667, -1.04381299,  3.24093795, ..., -0.5621827 ,\n",
              "         1.65540052, -0.55784685],\n",
              "       [ 0.69013094, -1.1213267 ,  1.57795848, ..., -0.5621827 ,\n",
              "        -0.60408342, -0.55784685],\n",
              "       ...,\n",
              "       [ 1.53956372, -0.3770284 , -0.085021  , ...,  1.77878118,\n",
              "        -0.60408342, -0.55784685],\n",
              "       [-0.51323218,  1.12740433, -0.085021  , ..., -0.5621827 ,\n",
              "        -0.60408342, -0.55784685],\n",
              "       [ 0.26541454,  0.66815644, -0.085021  , ...,  1.77878118,\n",
              "        -0.60408342, -0.55784685]])"
            ]
          },
          "metadata": {},
          "execution_count": 266
        }
      ]
    },
    {
      "cell_type": "code",
      "source": [
        "model = keras.Sequential()\n",
        "model.add(keras.layers.Dense(32, activation='relu', input_shape=(11, )))\n",
        "model.add(keras.layers.Dense(16, activation='relu'))\n",
        "model.add(keras.layers.Dense(1))"
      ],
      "metadata": {
        "id": "1iX-W2bw6m_T"
      },
      "execution_count": null,
      "outputs": []
    },
    {
      "cell_type": "code",
      "source": [
        "model.compile(optimizer=\"ADAM\", loss=\"mse\", metrics=[\"mean_absolute_error\"])"
      ],
      "metadata": {
        "id": "7ZzDenDq7BiU"
      },
      "execution_count": null,
      "outputs": []
    },
    {
      "cell_type": "code",
      "source": [
        "model.summary()"
      ],
      "metadata": {
        "colab": {
          "base_uri": "https://localhost:8080/"
        },
        "id": "jGc8PwR97FKs",
        "outputId": "13b9b4a3-1d8e-4b70-ccf5-a8a065781a0a"
      },
      "execution_count": null,
      "outputs": [
        {
          "output_type": "stream",
          "name": "stdout",
          "text": [
            "Model: \"sequential\"\n",
            "_________________________________________________________________\n",
            " Layer (type)                Output Shape              Param #   \n",
            "=================================================================\n",
            " dense (Dense)               (None, 32)                384       \n",
            "                                                                 \n",
            " dense_1 (Dense)             (None, 16)                528       \n",
            "                                                                 \n",
            " dense_2 (Dense)             (None, 1)                 17        \n",
            "                                                                 \n",
            "=================================================================\n",
            "Total params: 929\n",
            "Trainable params: 929\n",
            "Non-trainable params: 0\n",
            "_________________________________________________________________\n"
          ]
        }
      ]
    },
    {
      "cell_type": "code",
      "source": [
        "hist = model.fit(trainX, trainY, epochs=500)"
      ],
      "metadata": {
        "colab": {
          "base_uri": "https://localhost:8080/"
        },
        "id": "yG_heE667Gmd",
        "outputId": "58cf5260-b279-4d85-df50-01b81a9ef2c7"
      },
      "execution_count": null,
      "outputs": [
        {
          "output_type": "stream",
          "name": "stdout",
          "text": [
            "Epoch 1/500\n",
            "34/34 [==============================] - 1s 1ms/step - loss: 320124928.0000 - mean_absolute_error: 13267.9111\n",
            "Epoch 2/500\n",
            "34/34 [==============================] - 0s 1ms/step - loss: 320077408.0000 - mean_absolute_error: 13266.3994\n",
            "Epoch 3/500\n",
            "34/34 [==============================] - 0s 1ms/step - loss: 319997600.0000 - mean_absolute_error: 13263.8691\n",
            "Epoch 4/500\n",
            "34/34 [==============================] - 0s 1ms/step - loss: 319855104.0000 - mean_absolute_error: 13259.7051\n",
            "Epoch 5/500\n",
            "34/34 [==============================] - 0s 2ms/step - loss: 319620224.0000 - mean_absolute_error: 13252.9619\n",
            "Epoch 6/500\n",
            "34/34 [==============================] - 0s 2ms/step - loss: 319260480.0000 - mean_absolute_error: 13242.6895\n",
            "Epoch 7/500\n",
            "34/34 [==============================] - 0s 2ms/step - loss: 318711392.0000 - mean_absolute_error: 13227.8672\n",
            "Epoch 8/500\n",
            "34/34 [==============================] - 0s 1ms/step - loss: 317916128.0000 - mean_absolute_error: 13206.9043\n",
            "Epoch 9/500\n",
            "34/34 [==============================] - 0s 1ms/step - loss: 316841184.0000 - mean_absolute_error: 13179.0635\n",
            "Epoch 10/500\n",
            "34/34 [==============================] - 0s 1ms/step - loss: 315430624.0000 - mean_absolute_error: 13142.9980\n",
            "Epoch 11/500\n",
            "34/34 [==============================] - 0s 1ms/step - loss: 313640032.0000 - mean_absolute_error: 13098.1045\n",
            "Epoch 12/500\n",
            "34/34 [==============================] - 0s 1ms/step - loss: 311441248.0000 - mean_absolute_error: 13044.7227\n",
            "Epoch 13/500\n",
            "34/34 [==============================] - 0s 1ms/step - loss: 308838208.0000 - mean_absolute_error: 12979.9365\n",
            "Epoch 14/500\n",
            "34/34 [==============================] - 0s 1ms/step - loss: 305614176.0000 - mean_absolute_error: 12902.0684\n",
            "Epoch 15/500\n",
            "34/34 [==============================] - 0s 2ms/step - loss: 301881120.0000 - mean_absolute_error: 12811.3398\n",
            "Epoch 16/500\n",
            "34/34 [==============================] - 0s 2ms/step - loss: 297668544.0000 - mean_absolute_error: 12707.4609\n",
            "Epoch 17/500\n",
            "34/34 [==============================] - 0s 1ms/step - loss: 292819552.0000 - mean_absolute_error: 12588.2393\n",
            "Epoch 18/500\n",
            "34/34 [==============================] - 0s 2ms/step - loss: 287461696.0000 - mean_absolute_error: 12457.3340\n",
            "Epoch 19/500\n",
            "34/34 [==============================] - 0s 1ms/step - loss: 281527616.0000 - mean_absolute_error: 12312.7910\n",
            "Epoch 20/500\n",
            "34/34 [==============================] - 0s 2ms/step - loss: 275152800.0000 - mean_absolute_error: 12153.6104\n",
            "Epoch 21/500\n",
            "34/34 [==============================] - 0s 2ms/step - loss: 268299472.0000 - mean_absolute_error: 11980.0020\n",
            "Epoch 22/500\n",
            "34/34 [==============================] - 0s 1ms/step - loss: 260859136.0000 - mean_absolute_error: 11791.6357\n",
            "Epoch 23/500\n",
            "34/34 [==============================] - 0s 1ms/step - loss: 252875136.0000 - mean_absolute_error: 11588.4883\n",
            "Epoch 24/500\n",
            "34/34 [==============================] - 0s 1ms/step - loss: 244660320.0000 - mean_absolute_error: 11370.9609\n",
            "Epoch 25/500\n",
            "34/34 [==============================] - 0s 2ms/step - loss: 235705568.0000 - mean_absolute_error: 11139.1074\n",
            "Epoch 26/500\n",
            "34/34 [==============================] - 0s 2ms/step - loss: 226588288.0000 - mean_absolute_error: 10893.7295\n",
            "Epoch 27/500\n",
            "34/34 [==============================] - 0s 1ms/step - loss: 216995552.0000 - mean_absolute_error: 10627.0693\n",
            "Epoch 28/500\n",
            "34/34 [==============================] - 0s 1ms/step - loss: 207333296.0000 - mean_absolute_error: 10354.5020\n",
            "Epoch 29/500\n",
            "34/34 [==============================] - 0s 1ms/step - loss: 197404736.0000 - mean_absolute_error: 10071.0576\n",
            "Epoch 30/500\n",
            "34/34 [==============================] - 0s 1ms/step - loss: 187696640.0000 - mean_absolute_error: 9784.6992\n",
            "Epoch 31/500\n",
            "34/34 [==============================] - 0s 1ms/step - loss: 177904672.0000 - mean_absolute_error: 9489.9580\n",
            "Epoch 32/500\n",
            "34/34 [==============================] - 0s 1ms/step - loss: 168096544.0000 - mean_absolute_error: 9182.7881\n",
            "Epoch 33/500\n",
            "34/34 [==============================] - 0s 2ms/step - loss: 158208416.0000 - mean_absolute_error: 8866.1406\n",
            "Epoch 34/500\n",
            "34/34 [==============================] - 0s 2ms/step - loss: 148535120.0000 - mean_absolute_error: 8546.6982\n",
            "Epoch 35/500\n",
            "34/34 [==============================] - 0s 1ms/step - loss: 139063376.0000 - mean_absolute_error: 8226.1143\n",
            "Epoch 36/500\n",
            "34/34 [==============================] - 0s 1ms/step - loss: 129812264.0000 - mean_absolute_error: 7898.1362\n",
            "Epoch 37/500\n",
            "34/34 [==============================] - 0s 1ms/step - loss: 120847784.0000 - mean_absolute_error: 7580.0537\n",
            "Epoch 38/500\n",
            "34/34 [==============================] - 0s 1ms/step - loss: 112189136.0000 - mean_absolute_error: 7254.6328\n",
            "Epoch 39/500\n",
            "34/34 [==============================] - 0s 2ms/step - loss: 104122120.0000 - mean_absolute_error: 6936.1533\n",
            "Epoch 40/500\n",
            "34/34 [==============================] - 0s 1ms/step - loss: 96464288.0000 - mean_absolute_error: 6624.6992\n",
            "Epoch 41/500\n",
            "34/34 [==============================] - 0s 1ms/step - loss: 89457664.0000 - mean_absolute_error: 6323.5576\n",
            "Epoch 42/500\n",
            "34/34 [==============================] - 0s 1ms/step - loss: 82923944.0000 - mean_absolute_error: 6037.7192\n",
            "Epoch 43/500\n",
            "34/34 [==============================] - 0s 1ms/step - loss: 76861272.0000 - mean_absolute_error: 5758.4673\n",
            "Epoch 44/500\n",
            "34/34 [==============================] - 0s 1ms/step - loss: 71315944.0000 - mean_absolute_error: 5505.4829\n",
            "Epoch 45/500\n",
            "34/34 [==============================] - 0s 1ms/step - loss: 66335480.0000 - mean_absolute_error: 5270.7256\n",
            "Epoch 46/500\n",
            "34/34 [==============================] - 0s 1ms/step - loss: 61900104.0000 - mean_absolute_error: 5057.7163\n",
            "Epoch 47/500\n",
            "34/34 [==============================] - 0s 1ms/step - loss: 57892600.0000 - mean_absolute_error: 4882.8247\n",
            "Epoch 48/500\n",
            "34/34 [==============================] - 0s 1ms/step - loss: 54377884.0000 - mean_absolute_error: 4725.0093\n",
            "Epoch 49/500\n",
            "34/34 [==============================] - 0s 1ms/step - loss: 51291700.0000 - mean_absolute_error: 4588.1924\n",
            "Epoch 50/500\n",
            "34/34 [==============================] - 0s 2ms/step - loss: 48563568.0000 - mean_absolute_error: 4471.8950\n",
            "Epoch 51/500\n",
            "34/34 [==============================] - 0s 1ms/step - loss: 46190812.0000 - mean_absolute_error: 4363.9917\n",
            "Epoch 52/500\n",
            "34/34 [==============================] - 0s 1ms/step - loss: 44188620.0000 - mean_absolute_error: 4272.9961\n",
            "Epoch 53/500\n",
            "34/34 [==============================] - 0s 1ms/step - loss: 42488368.0000 - mean_absolute_error: 4195.0815\n",
            "Epoch 54/500\n",
            "34/34 [==============================] - 0s 1ms/step - loss: 41070152.0000 - mean_absolute_error: 4123.4243\n",
            "Epoch 55/500\n",
            "34/34 [==============================] - 0s 1ms/step - loss: 39883496.0000 - mean_absolute_error: 4062.1340\n",
            "Epoch 56/500\n",
            "34/34 [==============================] - 0s 1ms/step - loss: 38865992.0000 - mean_absolute_error: 4013.6167\n",
            "Epoch 57/500\n",
            "34/34 [==============================] - 0s 1ms/step - loss: 37946988.0000 - mean_absolute_error: 3968.4241\n",
            "Epoch 58/500\n",
            "34/34 [==============================] - 0s 2ms/step - loss: 37218472.0000 - mean_absolute_error: 3932.8862\n",
            "Epoch 59/500\n",
            "34/34 [==============================] - 0s 1ms/step - loss: 36618708.0000 - mean_absolute_error: 3904.6331\n",
            "Epoch 60/500\n",
            "34/34 [==============================] - 0s 1ms/step - loss: 36109360.0000 - mean_absolute_error: 3879.8372\n",
            "Epoch 61/500\n",
            "34/34 [==============================] - 0s 1ms/step - loss: 35676876.0000 - mean_absolute_error: 3858.1680\n",
            "Epoch 62/500\n",
            "34/34 [==============================] - 0s 1ms/step - loss: 35320748.0000 - mean_absolute_error: 3839.5471\n",
            "Epoch 63/500\n",
            "34/34 [==============================] - 0s 2ms/step - loss: 35019040.0000 - mean_absolute_error: 3825.9707\n",
            "Epoch 64/500\n",
            "34/34 [==============================] - 0s 2ms/step - loss: 34743100.0000 - mean_absolute_error: 3814.5586\n",
            "Epoch 65/500\n",
            "34/34 [==============================] - 0s 1ms/step - loss: 34513480.0000 - mean_absolute_error: 3806.2498\n",
            "Epoch 66/500\n",
            "34/34 [==============================] - 0s 1ms/step - loss: 34305316.0000 - mean_absolute_error: 3801.2683\n",
            "Epoch 67/500\n",
            "34/34 [==============================] - 0s 2ms/step - loss: 34136544.0000 - mean_absolute_error: 3796.0442\n",
            "Epoch 68/500\n",
            "34/34 [==============================] - 0s 1ms/step - loss: 33972624.0000 - mean_absolute_error: 3792.5842\n",
            "Epoch 69/500\n",
            "34/34 [==============================] - 0s 1ms/step - loss: 33835640.0000 - mean_absolute_error: 3791.6858\n",
            "Epoch 70/500\n",
            "34/34 [==============================] - 0s 1ms/step - loss: 33711488.0000 - mean_absolute_error: 3790.2366\n",
            "Epoch 71/500\n",
            "34/34 [==============================] - 0s 1ms/step - loss: 33610800.0000 - mean_absolute_error: 3790.9141\n",
            "Epoch 72/500\n",
            "34/34 [==============================] - 0s 1ms/step - loss: 33526520.0000 - mean_absolute_error: 3790.7136\n",
            "Epoch 73/500\n",
            "34/34 [==============================] - 0s 1ms/step - loss: 33432156.0000 - mean_absolute_error: 3791.8105\n",
            "Epoch 74/500\n",
            "34/34 [==============================] - 0s 2ms/step - loss: 33355580.0000 - mean_absolute_error: 3794.2456\n",
            "Epoch 75/500\n",
            "34/34 [==============================] - 0s 2ms/step - loss: 33263788.0000 - mean_absolute_error: 3793.7595\n",
            "Epoch 76/500\n",
            "34/34 [==============================] - 0s 1ms/step - loss: 33206188.0000 - mean_absolute_error: 3796.7966\n",
            "Epoch 77/500\n",
            "34/34 [==============================] - 0s 1ms/step - loss: 33141250.0000 - mean_absolute_error: 3800.3164\n",
            "Epoch 78/500\n",
            "34/34 [==============================] - 0s 2ms/step - loss: 33083938.0000 - mean_absolute_error: 3803.0920\n",
            "Epoch 79/500\n",
            "34/34 [==============================] - 0s 1ms/step - loss: 33009864.0000 - mean_absolute_error: 3805.6003\n",
            "Epoch 80/500\n",
            "34/34 [==============================] - 0s 1ms/step - loss: 32963950.0000 - mean_absolute_error: 3806.5940\n",
            "Epoch 81/500\n",
            "34/34 [==============================] - 0s 1ms/step - loss: 32913308.0000 - mean_absolute_error: 3811.1790\n",
            "Epoch 82/500\n",
            "34/34 [==============================] - 0s 2ms/step - loss: 32867426.0000 - mean_absolute_error: 3815.0405\n",
            "Epoch 83/500\n",
            "34/34 [==============================] - 0s 1ms/step - loss: 32830850.0000 - mean_absolute_error: 3816.6716\n",
            "Epoch 84/500\n",
            "34/34 [==============================] - 0s 2ms/step - loss: 32790678.0000 - mean_absolute_error: 3817.2769\n",
            "Epoch 85/500\n",
            "34/34 [==============================] - 0s 2ms/step - loss: 32740412.0000 - mean_absolute_error: 3817.9880\n",
            "Epoch 86/500\n",
            "34/34 [==============================] - 0s 1ms/step - loss: 32704382.0000 - mean_absolute_error: 3818.7129\n",
            "Epoch 87/500\n",
            "34/34 [==============================] - 0s 1ms/step - loss: 32664140.0000 - mean_absolute_error: 3821.9792\n",
            "Epoch 88/500\n",
            "34/34 [==============================] - 0s 1ms/step - loss: 32625244.0000 - mean_absolute_error: 3822.8464\n",
            "Epoch 89/500\n",
            "34/34 [==============================] - 0s 1ms/step - loss: 32587614.0000 - mean_absolute_error: 3823.7720\n",
            "Epoch 90/500\n",
            "34/34 [==============================] - 0s 2ms/step - loss: 32561712.0000 - mean_absolute_error: 3825.2830\n",
            "Epoch 91/500\n",
            "34/34 [==============================] - 0s 2ms/step - loss: 32516484.0000 - mean_absolute_error: 3827.2502\n",
            "Epoch 92/500\n",
            "34/34 [==============================] - 0s 1ms/step - loss: 32481054.0000 - mean_absolute_error: 3828.5591\n",
            "Epoch 93/500\n",
            "34/34 [==============================] - 0s 1ms/step - loss: 32462188.0000 - mean_absolute_error: 3833.6816\n",
            "Epoch 94/500\n",
            "34/34 [==============================] - 0s 1ms/step - loss: 32426042.0000 - mean_absolute_error: 3831.9307\n",
            "Epoch 95/500\n",
            "34/34 [==============================] - 0s 2ms/step - loss: 32391422.0000 - mean_absolute_error: 3831.3843\n",
            "Epoch 96/500\n",
            "34/34 [==============================] - 0s 1ms/step - loss: 32357536.0000 - mean_absolute_error: 3830.2336\n",
            "Epoch 97/500\n",
            "34/34 [==============================] - 0s 2ms/step - loss: 32315384.0000 - mean_absolute_error: 3829.2195\n",
            "Epoch 98/500\n",
            "34/34 [==============================] - 0s 2ms/step - loss: 32285618.0000 - mean_absolute_error: 3832.6704\n",
            "Epoch 99/500\n",
            "34/34 [==============================] - 0s 2ms/step - loss: 32262998.0000 - mean_absolute_error: 3832.4087\n",
            "Epoch 100/500\n",
            "34/34 [==============================] - 0s 3ms/step - loss: 32241268.0000 - mean_absolute_error: 3832.4438\n",
            "Epoch 101/500\n",
            "34/34 [==============================] - 0s 1ms/step - loss: 32202262.0000 - mean_absolute_error: 3832.2209\n",
            "Epoch 102/500\n",
            "34/34 [==============================] - 0s 2ms/step - loss: 32168180.0000 - mean_absolute_error: 3831.2649\n",
            "Epoch 103/500\n",
            "34/34 [==============================] - 0s 2ms/step - loss: 32139614.0000 - mean_absolute_error: 3831.2466\n",
            "Epoch 104/500\n",
            "34/34 [==============================] - 0s 1ms/step - loss: 32108216.0000 - mean_absolute_error: 3831.4355\n",
            "Epoch 105/500\n",
            "34/34 [==============================] - 0s 1ms/step - loss: 32071182.0000 - mean_absolute_error: 3830.1169\n",
            "Epoch 106/500\n",
            "34/34 [==============================] - 0s 1ms/step - loss: 32041392.0000 - mean_absolute_error: 3829.5220\n",
            "Epoch 107/500\n",
            "34/34 [==============================] - 0s 1ms/step - loss: 32018742.0000 - mean_absolute_error: 3830.7029\n",
            "Epoch 108/500\n",
            "34/34 [==============================] - 0s 1ms/step - loss: 31989276.0000 - mean_absolute_error: 3826.7529\n",
            "Epoch 109/500\n",
            "34/34 [==============================] - 0s 2ms/step - loss: 31959666.0000 - mean_absolute_error: 3827.3296\n",
            "Epoch 110/500\n",
            "34/34 [==============================] - 0s 1ms/step - loss: 31936940.0000 - mean_absolute_error: 3828.0667\n",
            "Epoch 111/500\n",
            "34/34 [==============================] - 0s 1ms/step - loss: 31904934.0000 - mean_absolute_error: 3825.9985\n",
            "Epoch 112/500\n",
            "34/34 [==============================] - 0s 1ms/step - loss: 31875442.0000 - mean_absolute_error: 3825.6548\n",
            "Epoch 113/500\n",
            "34/34 [==============================] - 0s 2ms/step - loss: 31845192.0000 - mean_absolute_error: 3825.0762\n",
            "Epoch 114/500\n",
            "34/34 [==============================] - 0s 1ms/step - loss: 31826774.0000 - mean_absolute_error: 3821.1182\n",
            "Epoch 115/500\n",
            "34/34 [==============================] - 0s 1ms/step - loss: 31780414.0000 - mean_absolute_error: 3820.3560\n",
            "Epoch 116/500\n",
            "34/34 [==============================] - 0s 1ms/step - loss: 31756370.0000 - mean_absolute_error: 3816.5500\n",
            "Epoch 117/500\n",
            "34/34 [==============================] - 0s 2ms/step - loss: 31735996.0000 - mean_absolute_error: 3815.9531\n",
            "Epoch 118/500\n",
            "34/34 [==============================] - 0s 1ms/step - loss: 31690678.0000 - mean_absolute_error: 3813.8079\n",
            "Epoch 119/500\n",
            "34/34 [==============================] - 0s 1ms/step - loss: 31664992.0000 - mean_absolute_error: 3811.2148\n",
            "Epoch 120/500\n",
            "34/34 [==============================] - 0s 1ms/step - loss: 31638080.0000 - mean_absolute_error: 3810.3008\n",
            "Epoch 121/500\n",
            "34/34 [==============================] - 0s 1ms/step - loss: 31606114.0000 - mean_absolute_error: 3806.6655\n",
            "Epoch 122/500\n",
            "34/34 [==============================] - 0s 2ms/step - loss: 31572446.0000 - mean_absolute_error: 3805.6987\n",
            "Epoch 123/500\n",
            "34/34 [==============================] - 0s 2ms/step - loss: 31544282.0000 - mean_absolute_error: 3799.1011\n",
            "Epoch 124/500\n",
            "34/34 [==============================] - 0s 1ms/step - loss: 31527250.0000 - mean_absolute_error: 3800.1565\n",
            "Epoch 125/500\n",
            "34/34 [==============================] - 0s 1ms/step - loss: 31484246.0000 - mean_absolute_error: 3797.1138\n",
            "Epoch 126/500\n",
            "34/34 [==============================] - 0s 1ms/step - loss: 31452020.0000 - mean_absolute_error: 3794.3132\n",
            "Epoch 127/500\n",
            "34/34 [==============================] - 0s 1ms/step - loss: 31438298.0000 - mean_absolute_error: 3798.2820\n",
            "Epoch 128/500\n",
            "34/34 [==============================] - 0s 2ms/step - loss: 31406690.0000 - mean_absolute_error: 3795.5737\n",
            "Epoch 129/500\n",
            "34/34 [==============================] - 0s 2ms/step - loss: 31374000.0000 - mean_absolute_error: 3794.6890\n",
            "Epoch 130/500\n",
            "34/34 [==============================] - 0s 2ms/step - loss: 31330538.0000 - mean_absolute_error: 3789.5095\n",
            "Epoch 131/500\n",
            "34/34 [==============================] - 0s 2ms/step - loss: 31302794.0000 - mean_absolute_error: 3783.4541\n",
            "Epoch 132/500\n",
            "34/34 [==============================] - 0s 2ms/step - loss: 31276652.0000 - mean_absolute_error: 3782.1396\n",
            "Epoch 133/500\n",
            "34/34 [==============================] - 0s 1ms/step - loss: 31251766.0000 - mean_absolute_error: 3779.5190\n",
            "Epoch 134/500\n",
            "34/34 [==============================] - 0s 1ms/step - loss: 31221424.0000 - mean_absolute_error: 3777.8130\n",
            "Epoch 135/500\n",
            "34/34 [==============================] - 0s 1ms/step - loss: 31190684.0000 - mean_absolute_error: 3777.2646\n",
            "Epoch 136/500\n",
            "34/34 [==============================] - 0s 1ms/step - loss: 31154740.0000 - mean_absolute_error: 3773.2983\n",
            "Epoch 137/500\n",
            "34/34 [==============================] - 0s 1ms/step - loss: 31139018.0000 - mean_absolute_error: 3769.3503\n",
            "Epoch 138/500\n",
            "34/34 [==============================] - 0s 2ms/step - loss: 31097430.0000 - mean_absolute_error: 3766.8499\n",
            "Epoch 139/500\n",
            "34/34 [==============================] - 0s 2ms/step - loss: 31077774.0000 - mean_absolute_error: 3765.2800\n",
            "Epoch 140/500\n",
            "34/34 [==============================] - 0s 2ms/step - loss: 31035834.0000 - mean_absolute_error: 3764.1023\n",
            "Epoch 141/500\n",
            "34/34 [==============================] - 0s 1ms/step - loss: 31023104.0000 - mean_absolute_error: 3765.6099\n",
            "Epoch 142/500\n",
            "34/34 [==============================] - 0s 1ms/step - loss: 30970232.0000 - mean_absolute_error: 3760.8779\n",
            "Epoch 143/500\n",
            "34/34 [==============================] - 0s 2ms/step - loss: 30947446.0000 - mean_absolute_error: 3752.8274\n",
            "Epoch 144/500\n",
            "34/34 [==============================] - 0s 1ms/step - loss: 30906946.0000 - mean_absolute_error: 3753.8306\n",
            "Epoch 145/500\n",
            "34/34 [==============================] - 0s 1ms/step - loss: 30873538.0000 - mean_absolute_error: 3752.0266\n",
            "Epoch 146/500\n",
            "34/34 [==============================] - 0s 1ms/step - loss: 30858598.0000 - mean_absolute_error: 3751.4172\n",
            "Epoch 147/500\n",
            "34/34 [==============================] - 0s 1ms/step - loss: 30818560.0000 - mean_absolute_error: 3749.1738\n",
            "Epoch 148/500\n",
            "34/34 [==============================] - 0s 1ms/step - loss: 30802218.0000 - mean_absolute_error: 3748.4402\n",
            "Epoch 149/500\n",
            "34/34 [==============================] - 0s 2ms/step - loss: 30776130.0000 - mean_absolute_error: 3744.1707\n",
            "Epoch 150/500\n",
            "34/34 [==============================] - 0s 1ms/step - loss: 30723468.0000 - mean_absolute_error: 3740.5776\n",
            "Epoch 151/500\n",
            "34/34 [==============================] - 0s 2ms/step - loss: 30694372.0000 - mean_absolute_error: 3734.8572\n",
            "Epoch 152/500\n",
            "34/34 [==============================] - 0s 1ms/step - loss: 30683444.0000 - mean_absolute_error: 3737.7336\n",
            "Epoch 153/500\n",
            "34/34 [==============================] - 0s 1ms/step - loss: 30632776.0000 - mean_absolute_error: 3730.5066\n",
            "Epoch 154/500\n",
            "34/34 [==============================] - 0s 2ms/step - loss: 30603136.0000 - mean_absolute_error: 3727.4351\n",
            "Epoch 155/500\n",
            "34/34 [==============================] - 0s 1ms/step - loss: 30579190.0000 - mean_absolute_error: 3722.0625\n",
            "Epoch 156/500\n",
            "34/34 [==============================] - 0s 1ms/step - loss: 30549456.0000 - mean_absolute_error: 3722.9800\n",
            "Epoch 157/500\n",
            "34/34 [==============================] - 0s 2ms/step - loss: 30520864.0000 - mean_absolute_error: 3721.8137\n",
            "Epoch 158/500\n",
            "34/34 [==============================] - 0s 1ms/step - loss: 30488606.0000 - mean_absolute_error: 3717.5293\n",
            "Epoch 159/500\n",
            "34/34 [==============================] - 0s 1ms/step - loss: 30456026.0000 - mean_absolute_error: 3713.1992\n",
            "Epoch 160/500\n",
            "34/34 [==============================] - 0s 1ms/step - loss: 30432656.0000 - mean_absolute_error: 3715.5027\n",
            "Epoch 161/500\n",
            "34/34 [==============================] - 0s 1ms/step - loss: 30397104.0000 - mean_absolute_error: 3706.9302\n",
            "Epoch 162/500\n",
            "34/34 [==============================] - 0s 1ms/step - loss: 30376776.0000 - mean_absolute_error: 3710.2000\n",
            "Epoch 163/500\n",
            "34/34 [==============================] - 0s 1ms/step - loss: 30344174.0000 - mean_absolute_error: 3706.5806\n",
            "Epoch 164/500\n",
            "34/34 [==============================] - 0s 1ms/step - loss: 30320744.0000 - mean_absolute_error: 3708.7556\n",
            "Epoch 165/500\n",
            "34/34 [==============================] - 0s 2ms/step - loss: 30270000.0000 - mean_absolute_error: 3701.5269\n",
            "Epoch 166/500\n",
            "34/34 [==============================] - 0s 2ms/step - loss: 30248566.0000 - mean_absolute_error: 3701.3420\n",
            "Epoch 167/500\n",
            "34/34 [==============================] - 0s 1ms/step - loss: 30218678.0000 - mean_absolute_error: 3695.3105\n",
            "Epoch 168/500\n",
            "34/34 [==============================] - 0s 1ms/step - loss: 30188350.0000 - mean_absolute_error: 3692.3613\n",
            "Epoch 169/500\n",
            "34/34 [==============================] - 0s 1ms/step - loss: 30173778.0000 - mean_absolute_error: 3692.1482\n",
            "Epoch 170/500\n",
            "34/34 [==============================] - 0s 1ms/step - loss: 30123066.0000 - mean_absolute_error: 3688.7366\n",
            "Epoch 171/500\n",
            "34/34 [==============================] - 0s 2ms/step - loss: 30093684.0000 - mean_absolute_error: 3685.1670\n",
            "Epoch 172/500\n",
            "34/34 [==============================] - 0s 2ms/step - loss: 30073528.0000 - mean_absolute_error: 3682.9055\n",
            "Epoch 173/500\n",
            "34/34 [==============================] - 0s 2ms/step - loss: 30036928.0000 - mean_absolute_error: 3674.0156\n",
            "Epoch 174/500\n",
            "34/34 [==============================] - 0s 1ms/step - loss: 30010272.0000 - mean_absolute_error: 3674.0293\n",
            "Epoch 175/500\n",
            "34/34 [==============================] - 0s 2ms/step - loss: 29974140.0000 - mean_absolute_error: 3669.2324\n",
            "Epoch 176/500\n",
            "34/34 [==============================] - 0s 2ms/step - loss: 29954470.0000 - mean_absolute_error: 3671.7126\n",
            "Epoch 177/500\n",
            "34/34 [==============================] - 0s 2ms/step - loss: 29905018.0000 - mean_absolute_error: 3668.1091\n",
            "Epoch 178/500\n",
            "34/34 [==============================] - 0s 1ms/step - loss: 29882794.0000 - mean_absolute_error: 3666.2527\n",
            "Epoch 179/500\n",
            "34/34 [==============================] - 0s 1ms/step - loss: 29855584.0000 - mean_absolute_error: 3662.1770\n",
            "Epoch 180/500\n",
            "34/34 [==============================] - 0s 1ms/step - loss: 29825712.0000 - mean_absolute_error: 3656.3635\n",
            "Epoch 181/500\n",
            "34/34 [==============================] - 0s 2ms/step - loss: 29814120.0000 - mean_absolute_error: 3654.8032\n",
            "Epoch 182/500\n",
            "34/34 [==============================] - 0s 2ms/step - loss: 29775786.0000 - mean_absolute_error: 3650.9417\n",
            "Epoch 183/500\n",
            "34/34 [==============================] - 0s 1ms/step - loss: 29736394.0000 - mean_absolute_error: 3646.8547\n",
            "Epoch 184/500\n",
            "34/34 [==============================] - 0s 2ms/step - loss: 29719334.0000 - mean_absolute_error: 3644.7034\n",
            "Epoch 185/500\n",
            "34/34 [==============================] - 0s 2ms/step - loss: 29675786.0000 - mean_absolute_error: 3645.5581\n",
            "Epoch 186/500\n",
            "34/34 [==============================] - 0s 2ms/step - loss: 29663928.0000 - mean_absolute_error: 3643.3979\n",
            "Epoch 187/500\n",
            "34/34 [==============================] - 0s 1ms/step - loss: 29619008.0000 - mean_absolute_error: 3635.1970\n",
            "Epoch 188/500\n",
            "34/34 [==============================] - 0s 2ms/step - loss: 29591736.0000 - mean_absolute_error: 3631.0681\n",
            "Epoch 189/500\n",
            "34/34 [==============================] - 0s 2ms/step - loss: 29564236.0000 - mean_absolute_error: 3627.4138\n",
            "Epoch 190/500\n",
            "34/34 [==============================] - 0s 1ms/step - loss: 29542420.0000 - mean_absolute_error: 3624.4934\n",
            "Epoch 191/500\n",
            "34/34 [==============================] - 0s 1ms/step - loss: 29512542.0000 - mean_absolute_error: 3622.1782\n",
            "Epoch 192/500\n",
            "34/34 [==============================] - 0s 1ms/step - loss: 29501158.0000 - mean_absolute_error: 3616.8469\n",
            "Epoch 193/500\n",
            "34/34 [==============================] - 0s 1ms/step - loss: 29450492.0000 - mean_absolute_error: 3617.0640\n",
            "Epoch 194/500\n",
            "34/34 [==============================] - 0s 2ms/step - loss: 29421016.0000 - mean_absolute_error: 3610.8914\n",
            "Epoch 195/500\n",
            "34/34 [==============================] - 0s 1ms/step - loss: 29400060.0000 - mean_absolute_error: 3608.3459\n",
            "Epoch 196/500\n",
            "34/34 [==============================] - 0s 1ms/step - loss: 29373754.0000 - mean_absolute_error: 3604.0112\n",
            "Epoch 197/500\n",
            "34/34 [==============================] - 0s 2ms/step - loss: 29337144.0000 - mean_absolute_error: 3604.6829\n",
            "Epoch 198/500\n",
            "34/34 [==============================] - 0s 2ms/step - loss: 29317584.0000 - mean_absolute_error: 3602.3977\n",
            "Epoch 199/500\n",
            "34/34 [==============================] - 0s 2ms/step - loss: 29284392.0000 - mean_absolute_error: 3595.4316\n",
            "Epoch 200/500\n",
            "34/34 [==============================] - 0s 1ms/step - loss: 29257494.0000 - mean_absolute_error: 3594.0510\n",
            "Epoch 201/500\n",
            "34/34 [==============================] - 0s 1ms/step - loss: 29225694.0000 - mean_absolute_error: 3589.9612\n",
            "Epoch 202/500\n",
            "34/34 [==============================] - 0s 2ms/step - loss: 29209960.0000 - mean_absolute_error: 3591.0115\n",
            "Epoch 203/500\n",
            "34/34 [==============================] - 0s 1ms/step - loss: 29175892.0000 - mean_absolute_error: 3591.2590\n",
            "Epoch 204/500\n",
            "34/34 [==============================] - 0s 1ms/step - loss: 29154564.0000 - mean_absolute_error: 3593.2993\n",
            "Epoch 205/500\n",
            "34/34 [==============================] - 0s 2ms/step - loss: 29126288.0000 - mean_absolute_error: 3590.6504\n",
            "Epoch 206/500\n",
            "34/34 [==============================] - 0s 1ms/step - loss: 29099546.0000 - mean_absolute_error: 3586.0686\n",
            "Epoch 207/500\n",
            "34/34 [==============================] - 0s 1ms/step - loss: 29069024.0000 - mean_absolute_error: 3581.6418\n",
            "Epoch 208/500\n",
            "34/34 [==============================] - 0s 1ms/step - loss: 29051554.0000 - mean_absolute_error: 3576.2869\n",
            "Epoch 209/500\n",
            "34/34 [==============================] - 0s 1ms/step - loss: 29024208.0000 - mean_absolute_error: 3575.4553\n",
            "Epoch 210/500\n",
            "34/34 [==============================] - 0s 1ms/step - loss: 29001036.0000 - mean_absolute_error: 3572.6558\n",
            "Epoch 211/500\n",
            "34/34 [==============================] - 0s 1ms/step - loss: 28960758.0000 - mean_absolute_error: 3573.2205\n",
            "Epoch 212/500\n",
            "34/34 [==============================] - 0s 1ms/step - loss: 28937086.0000 - mean_absolute_error: 3570.9846\n",
            "Epoch 213/500\n",
            "34/34 [==============================] - 0s 2ms/step - loss: 28915010.0000 - mean_absolute_error: 3571.2661\n",
            "Epoch 214/500\n",
            "34/34 [==============================] - 0s 2ms/step - loss: 28894650.0000 - mean_absolute_error: 3560.8325\n",
            "Epoch 215/500\n",
            "34/34 [==============================] - 0s 2ms/step - loss: 28875126.0000 - mean_absolute_error: 3565.6587\n",
            "Epoch 216/500\n",
            "34/34 [==============================] - 0s 1ms/step - loss: 28835008.0000 - mean_absolute_error: 3558.3438\n",
            "Epoch 217/500\n",
            "34/34 [==============================] - 0s 1ms/step - loss: 28800024.0000 - mean_absolute_error: 3549.8875\n",
            "Epoch 218/500\n",
            "34/34 [==============================] - 0s 1ms/step - loss: 28784454.0000 - mean_absolute_error: 3545.8799\n",
            "Epoch 219/500\n",
            "34/34 [==============================] - 0s 2ms/step - loss: 28751066.0000 - mean_absolute_error: 3544.7678\n",
            "Epoch 220/500\n",
            "34/34 [==============================] - 0s 1ms/step - loss: 28731570.0000 - mean_absolute_error: 3546.9807\n",
            "Epoch 221/500\n",
            "34/34 [==============================] - 0s 2ms/step - loss: 28708554.0000 - mean_absolute_error: 3546.3013\n",
            "Epoch 222/500\n",
            "34/34 [==============================] - 0s 1ms/step - loss: 28680858.0000 - mean_absolute_error: 3544.3025\n",
            "Epoch 223/500\n",
            "34/34 [==============================] - 0s 1ms/step - loss: 28653548.0000 - mean_absolute_error: 3537.5376\n",
            "Epoch 224/500\n",
            "34/34 [==============================] - 0s 1ms/step - loss: 28640348.0000 - mean_absolute_error: 3534.3567\n",
            "Epoch 225/500\n",
            "34/34 [==============================] - 0s 2ms/step - loss: 28607636.0000 - mean_absolute_error: 3531.8953\n",
            "Epoch 226/500\n",
            "34/34 [==============================] - 0s 1ms/step - loss: 28586740.0000 - mean_absolute_error: 3527.5100\n",
            "Epoch 227/500\n",
            "34/34 [==============================] - 0s 1ms/step - loss: 28555540.0000 - mean_absolute_error: 3523.0923\n",
            "Epoch 228/500\n",
            "34/34 [==============================] - 0s 1ms/step - loss: 28540126.0000 - mean_absolute_error: 3526.4526\n",
            "Epoch 229/500\n",
            "34/34 [==============================] - 0s 1ms/step - loss: 28516046.0000 - mean_absolute_error: 3528.4473\n",
            "Epoch 230/500\n",
            "34/34 [==============================] - 0s 2ms/step - loss: 28486928.0000 - mean_absolute_error: 3524.4253\n",
            "Epoch 231/500\n",
            "34/34 [==============================] - 0s 2ms/step - loss: 28485128.0000 - mean_absolute_error: 3527.8447\n",
            "Epoch 232/500\n",
            "34/34 [==============================] - 0s 1ms/step - loss: 28433510.0000 - mean_absolute_error: 3516.2273\n",
            "Epoch 233/500\n",
            "34/34 [==============================] - 0s 1ms/step - loss: 28418644.0000 - mean_absolute_error: 3516.1636\n",
            "Epoch 234/500\n",
            "34/34 [==============================] - 0s 1ms/step - loss: 28400394.0000 - mean_absolute_error: 3518.9531\n",
            "Epoch 235/500\n",
            "34/34 [==============================] - 0s 1ms/step - loss: 28374894.0000 - mean_absolute_error: 3513.4614\n",
            "Epoch 236/500\n",
            "34/34 [==============================] - 0s 1ms/step - loss: 28353694.0000 - mean_absolute_error: 3515.6736\n",
            "Epoch 237/500\n",
            "34/34 [==============================] - 0s 1ms/step - loss: 28330200.0000 - mean_absolute_error: 3513.2625\n",
            "Epoch 238/500\n",
            "34/34 [==============================] - 0s 1ms/step - loss: 28314820.0000 - mean_absolute_error: 3512.9502\n",
            "Epoch 239/500\n",
            "34/34 [==============================] - 0s 1ms/step - loss: 28286284.0000 - mean_absolute_error: 3508.6692\n",
            "Epoch 240/500\n",
            "34/34 [==============================] - 0s 2ms/step - loss: 28270204.0000 - mean_absolute_error: 3503.4495\n",
            "Epoch 241/500\n",
            "34/34 [==============================] - 0s 1ms/step - loss: 28237886.0000 - mean_absolute_error: 3505.7285\n",
            "Epoch 242/500\n",
            "34/34 [==============================] - 0s 1ms/step - loss: 28221148.0000 - mean_absolute_error: 3504.9578\n",
            "Epoch 243/500\n",
            "34/34 [==============================] - 0s 1ms/step - loss: 28204370.0000 - mean_absolute_error: 3502.7676\n",
            "Epoch 244/500\n",
            "34/34 [==============================] - 0s 1ms/step - loss: 28180658.0000 - mean_absolute_error: 3493.7097\n",
            "Epoch 245/500\n",
            "34/34 [==============================] - 0s 1ms/step - loss: 28160718.0000 - mean_absolute_error: 3494.9626\n",
            "Epoch 246/500\n",
            "34/34 [==============================] - 0s 2ms/step - loss: 28144116.0000 - mean_absolute_error: 3493.3706\n",
            "Epoch 247/500\n",
            "34/34 [==============================] - 0s 1ms/step - loss: 28127470.0000 - mean_absolute_error: 3491.6453\n",
            "Epoch 248/500\n",
            "34/34 [==============================] - 0s 2ms/step - loss: 28099338.0000 - mean_absolute_error: 3488.3450\n",
            "Epoch 249/500\n",
            "34/34 [==============================] - 0s 1ms/step - loss: 28084908.0000 - mean_absolute_error: 3483.7046\n",
            "Epoch 250/500\n",
            "34/34 [==============================] - 0s 1ms/step - loss: 28057136.0000 - mean_absolute_error: 3477.9883\n",
            "Epoch 251/500\n",
            "34/34 [==============================] - 0s 1ms/step - loss: 28045870.0000 - mean_absolute_error: 3467.4165\n",
            "Epoch 252/500\n",
            "34/34 [==============================] - 0s 2ms/step - loss: 28047352.0000 - mean_absolute_error: 3473.8088\n",
            "Epoch 253/500\n",
            "34/34 [==============================] - 0s 1ms/step - loss: 27997544.0000 - mean_absolute_error: 3474.8672\n",
            "Epoch 254/500\n",
            "34/34 [==============================] - 0s 2ms/step - loss: 27978538.0000 - mean_absolute_error: 3474.5923\n",
            "Epoch 255/500\n",
            "34/34 [==============================] - 0s 1ms/step - loss: 27963418.0000 - mean_absolute_error: 3477.5127\n",
            "Epoch 256/500\n",
            "34/34 [==============================] - 0s 1ms/step - loss: 27949712.0000 - mean_absolute_error: 3475.3704\n",
            "Epoch 257/500\n",
            "34/34 [==============================] - 0s 2ms/step - loss: 27937856.0000 - mean_absolute_error: 3473.6770\n",
            "Epoch 258/500\n",
            "34/34 [==============================] - 0s 2ms/step - loss: 27913826.0000 - mean_absolute_error: 3467.5710\n",
            "Epoch 259/500\n",
            "34/34 [==============================] - 0s 1ms/step - loss: 27909512.0000 - mean_absolute_error: 3468.4231\n",
            "Epoch 260/500\n",
            "34/34 [==============================] - 0s 1ms/step - loss: 27869944.0000 - mean_absolute_error: 3460.5203\n",
            "Epoch 261/500\n",
            "34/34 [==============================] - 0s 1ms/step - loss: 27869400.0000 - mean_absolute_error: 3470.4282\n",
            "Epoch 262/500\n",
            "34/34 [==============================] - 0s 1ms/step - loss: 27821958.0000 - mean_absolute_error: 3461.4062\n",
            "Epoch 263/500\n",
            "34/34 [==============================] - 0s 1ms/step - loss: 27805782.0000 - mean_absolute_error: 3456.6113\n",
            "Epoch 264/500\n",
            "34/34 [==============================] - 0s 2ms/step - loss: 27800626.0000 - mean_absolute_error: 3455.8237\n",
            "Epoch 265/500\n",
            "34/34 [==============================] - 0s 2ms/step - loss: 27766470.0000 - mean_absolute_error: 3449.8364\n",
            "Epoch 266/500\n",
            "34/34 [==============================] - 0s 1ms/step - loss: 27763936.0000 - mean_absolute_error: 3449.2839\n",
            "Epoch 267/500\n",
            "34/34 [==============================] - 0s 1ms/step - loss: 27729208.0000 - mean_absolute_error: 3445.7290\n",
            "Epoch 268/500\n",
            "34/34 [==============================] - 0s 2ms/step - loss: 27723680.0000 - mean_absolute_error: 3438.9531\n",
            "Epoch 269/500\n",
            "34/34 [==============================] - 0s 1ms/step - loss: 27695244.0000 - mean_absolute_error: 3445.3406\n",
            "Epoch 270/500\n",
            "34/34 [==============================] - 0s 1ms/step - loss: 27674028.0000 - mean_absolute_error: 3439.9807\n",
            "Epoch 271/500\n",
            "34/34 [==============================] - 0s 2ms/step - loss: 27661808.0000 - mean_absolute_error: 3437.9429\n",
            "Epoch 272/500\n",
            "34/34 [==============================] - 0s 1ms/step - loss: 27641372.0000 - mean_absolute_error: 3439.5212\n",
            "Epoch 273/500\n",
            "34/34 [==============================] - 0s 2ms/step - loss: 27622758.0000 - mean_absolute_error: 3440.3455\n",
            "Epoch 274/500\n",
            "34/34 [==============================] - 0s 2ms/step - loss: 27617142.0000 - mean_absolute_error: 3435.1536\n",
            "Epoch 275/500\n",
            "34/34 [==============================] - 0s 1ms/step - loss: 27580668.0000 - mean_absolute_error: 3439.0498\n",
            "Epoch 276/500\n",
            "34/34 [==============================] - 0s 1ms/step - loss: 27589152.0000 - mean_absolute_error: 3443.0825\n",
            "Epoch 277/500\n",
            "34/34 [==============================] - 0s 1ms/step - loss: 27561886.0000 - mean_absolute_error: 3430.1504\n",
            "Epoch 278/500\n",
            "34/34 [==============================] - 0s 1ms/step - loss: 27534436.0000 - mean_absolute_error: 3429.5457\n",
            "Epoch 279/500\n",
            "34/34 [==============================] - 0s 1ms/step - loss: 27512598.0000 - mean_absolute_error: 3429.4697\n",
            "Epoch 280/500\n",
            "34/34 [==============================] - 0s 2ms/step - loss: 27498854.0000 - mean_absolute_error: 3430.8542\n",
            "Epoch 281/500\n",
            "34/34 [==============================] - 0s 2ms/step - loss: 27478398.0000 - mean_absolute_error: 3425.6084\n",
            "Epoch 282/500\n",
            "34/34 [==============================] - 0s 2ms/step - loss: 27461968.0000 - mean_absolute_error: 3420.0415\n",
            "Epoch 283/500\n",
            "34/34 [==============================] - 0s 2ms/step - loss: 27449472.0000 - mean_absolute_error: 3423.3496\n",
            "Epoch 284/500\n",
            "34/34 [==============================] - 0s 2ms/step - loss: 27431016.0000 - mean_absolute_error: 3415.2344\n",
            "Epoch 285/500\n",
            "34/34 [==============================] - 0s 2ms/step - loss: 27410178.0000 - mean_absolute_error: 3421.6240\n",
            "Epoch 286/500\n",
            "34/34 [==============================] - 0s 2ms/step - loss: 27393672.0000 - mean_absolute_error: 3423.4336\n",
            "Epoch 287/500\n",
            "34/34 [==============================] - 0s 2ms/step - loss: 27375068.0000 - mean_absolute_error: 3415.4673\n",
            "Epoch 288/500\n",
            "34/34 [==============================] - 0s 2ms/step - loss: 27357812.0000 - mean_absolute_error: 3412.4680\n",
            "Epoch 289/500\n",
            "34/34 [==============================] - 0s 1ms/step - loss: 27366142.0000 - mean_absolute_error: 3402.5029\n",
            "Epoch 290/500\n",
            "34/34 [==============================] - 0s 2ms/step - loss: 27334204.0000 - mean_absolute_error: 3407.4856\n",
            "Epoch 291/500\n",
            "34/34 [==============================] - 0s 2ms/step - loss: 27313618.0000 - mean_absolute_error: 3399.9700\n",
            "Epoch 292/500\n",
            "34/34 [==============================] - 0s 2ms/step - loss: 27292066.0000 - mean_absolute_error: 3405.7466\n",
            "Epoch 293/500\n",
            "34/34 [==============================] - 0s 1ms/step - loss: 27274744.0000 - mean_absolute_error: 3398.6191\n",
            "Epoch 294/500\n",
            "34/34 [==============================] - 0s 2ms/step - loss: 27261736.0000 - mean_absolute_error: 3401.6460\n",
            "Epoch 295/500\n",
            "34/34 [==============================] - 0s 2ms/step - loss: 27244444.0000 - mean_absolute_error: 3403.5996\n",
            "Epoch 296/500\n",
            "34/34 [==============================] - 0s 2ms/step - loss: 27228936.0000 - mean_absolute_error: 3404.5764\n",
            "Epoch 297/500\n",
            "34/34 [==============================] - 0s 1ms/step - loss: 27216986.0000 - mean_absolute_error: 3402.8799\n",
            "Epoch 298/500\n",
            "34/34 [==============================] - 0s 1ms/step - loss: 27206680.0000 - mean_absolute_error: 3406.2502\n",
            "Epoch 299/500\n",
            "34/34 [==============================] - 0s 1ms/step - loss: 27175972.0000 - mean_absolute_error: 3396.4346\n",
            "Epoch 300/500\n",
            "34/34 [==============================] - 0s 1ms/step - loss: 27157702.0000 - mean_absolute_error: 3394.8015\n",
            "Epoch 301/500\n",
            "34/34 [==============================] - 0s 2ms/step - loss: 27149046.0000 - mean_absolute_error: 3395.6323\n",
            "Epoch 302/500\n",
            "34/34 [==============================] - 0s 2ms/step - loss: 27138974.0000 - mean_absolute_error: 3400.1702\n",
            "Epoch 303/500\n",
            "34/34 [==============================] - 0s 2ms/step - loss: 27130448.0000 - mean_absolute_error: 3386.7439\n",
            "Epoch 304/500\n",
            "34/34 [==============================] - 0s 1ms/step - loss: 27102902.0000 - mean_absolute_error: 3389.7522\n",
            "Epoch 305/500\n",
            "34/34 [==============================] - 0s 1ms/step - loss: 27092710.0000 - mean_absolute_error: 3384.6584\n",
            "Epoch 306/500\n",
            "34/34 [==============================] - 0s 1ms/step - loss: 27073778.0000 - mean_absolute_error: 3382.9380\n",
            "Epoch 307/500\n",
            "34/34 [==============================] - 0s 1ms/step - loss: 27057648.0000 - mean_absolute_error: 3376.0352\n",
            "Epoch 308/500\n",
            "34/34 [==============================] - 0s 2ms/step - loss: 27053748.0000 - mean_absolute_error: 3373.6704\n",
            "Epoch 309/500\n",
            "34/34 [==============================] - 0s 1ms/step - loss: 27034100.0000 - mean_absolute_error: 3375.6655\n",
            "Epoch 310/500\n",
            "34/34 [==============================] - 0s 1ms/step - loss: 27021388.0000 - mean_absolute_error: 3373.8547\n",
            "Epoch 311/500\n",
            "34/34 [==============================] - 0s 1ms/step - loss: 27014884.0000 - mean_absolute_error: 3383.2241\n",
            "Epoch 312/500\n",
            "34/34 [==============================] - 0s 2ms/step - loss: 26990838.0000 - mean_absolute_error: 3374.9399\n",
            "Epoch 313/500\n",
            "34/34 [==============================] - 0s 2ms/step - loss: 26971372.0000 - mean_absolute_error: 3367.4116\n",
            "Epoch 314/500\n",
            "34/34 [==============================] - 0s 2ms/step - loss: 26958766.0000 - mean_absolute_error: 3363.9504\n",
            "Epoch 315/500\n",
            "34/34 [==============================] - 0s 1ms/step - loss: 26947636.0000 - mean_absolute_error: 3362.4241\n",
            "Epoch 316/500\n",
            "34/34 [==============================] - 0s 2ms/step - loss: 26929806.0000 - mean_absolute_error: 3362.2197\n",
            "Epoch 317/500\n",
            "34/34 [==============================] - 0s 2ms/step - loss: 26923152.0000 - mean_absolute_error: 3356.1833\n",
            "Epoch 318/500\n",
            "34/34 [==============================] - 0s 2ms/step - loss: 26909160.0000 - mean_absolute_error: 3348.7217\n",
            "Epoch 319/500\n",
            "34/34 [==============================] - 0s 2ms/step - loss: 26896898.0000 - mean_absolute_error: 3353.7791\n",
            "Epoch 320/500\n",
            "34/34 [==============================] - 0s 1ms/step - loss: 26891862.0000 - mean_absolute_error: 3353.0598\n",
            "Epoch 321/500\n",
            "34/34 [==============================] - 0s 2ms/step - loss: 26872342.0000 - mean_absolute_error: 3356.1687\n",
            "Epoch 322/500\n",
            "34/34 [==============================] - 0s 1ms/step - loss: 26850290.0000 - mean_absolute_error: 3353.4998\n",
            "Epoch 323/500\n",
            "34/34 [==============================] - 0s 2ms/step - loss: 26852466.0000 - mean_absolute_error: 3352.1704\n",
            "Epoch 324/500\n",
            "34/34 [==============================] - 0s 2ms/step - loss: 26854414.0000 - mean_absolute_error: 3346.1409\n",
            "Epoch 325/500\n",
            "34/34 [==============================] - 0s 2ms/step - loss: 26813864.0000 - mean_absolute_error: 3342.3943\n",
            "Epoch 326/500\n",
            "34/34 [==============================] - 0s 2ms/step - loss: 26808350.0000 - mean_absolute_error: 3348.0918\n",
            "Epoch 327/500\n",
            "34/34 [==============================] - 0s 2ms/step - loss: 26794368.0000 - mean_absolute_error: 3337.8992\n",
            "Epoch 328/500\n",
            "34/34 [==============================] - 0s 2ms/step - loss: 26780618.0000 - mean_absolute_error: 3339.7998\n",
            "Epoch 329/500\n",
            "34/34 [==============================] - 0s 2ms/step - loss: 26771476.0000 - mean_absolute_error: 3334.2017\n",
            "Epoch 330/500\n",
            "34/34 [==============================] - 0s 2ms/step - loss: 26768996.0000 - mean_absolute_error: 3342.1543\n",
            "Epoch 331/500\n",
            "34/34 [==============================] - 0s 2ms/step - loss: 26745238.0000 - mean_absolute_error: 3341.0417\n",
            "Epoch 332/500\n",
            "34/34 [==============================] - 0s 1ms/step - loss: 26735330.0000 - mean_absolute_error: 3336.2551\n",
            "Epoch 333/500\n",
            "34/34 [==============================] - 0s 2ms/step - loss: 26723126.0000 - mean_absolute_error: 3339.1689\n",
            "Epoch 334/500\n",
            "34/34 [==============================] - 0s 1ms/step - loss: 26707258.0000 - mean_absolute_error: 3334.7871\n",
            "Epoch 335/500\n",
            "34/34 [==============================] - 0s 2ms/step - loss: 26708870.0000 - mean_absolute_error: 3330.6541\n",
            "Epoch 336/500\n",
            "34/34 [==============================] - 0s 2ms/step - loss: 26684168.0000 - mean_absolute_error: 3330.5391\n",
            "Epoch 337/500\n",
            "34/34 [==============================] - 0s 2ms/step - loss: 26688968.0000 - mean_absolute_error: 3342.4360\n",
            "Epoch 338/500\n",
            "34/34 [==============================] - 0s 2ms/step - loss: 26673476.0000 - mean_absolute_error: 3351.1704\n",
            "Epoch 339/500\n",
            "34/34 [==============================] - 0s 2ms/step - loss: 26667372.0000 - mean_absolute_error: 3328.7483\n",
            "Epoch 340/500\n",
            "34/34 [==============================] - 0s 2ms/step - loss: 26640554.0000 - mean_absolute_error: 3322.7749\n",
            "Epoch 341/500\n",
            "34/34 [==============================] - 0s 2ms/step - loss: 26630256.0000 - mean_absolute_error: 3327.5352\n",
            "Epoch 342/500\n",
            "34/34 [==============================] - 0s 2ms/step - loss: 26625070.0000 - mean_absolute_error: 3331.7134\n",
            "Epoch 343/500\n",
            "34/34 [==============================] - 0s 2ms/step - loss: 26613054.0000 - mean_absolute_error: 3321.4639\n",
            "Epoch 344/500\n",
            "34/34 [==============================] - 0s 2ms/step - loss: 26601168.0000 - mean_absolute_error: 3319.4065\n",
            "Epoch 345/500\n",
            "34/34 [==============================] - 0s 2ms/step - loss: 26628632.0000 - mean_absolute_error: 3331.7402\n",
            "Epoch 346/500\n",
            "34/34 [==============================] - 0s 2ms/step - loss: 26579872.0000 - mean_absolute_error: 3327.1748\n",
            "Epoch 347/500\n",
            "34/34 [==============================] - 0s 2ms/step - loss: 26578500.0000 - mean_absolute_error: 3325.4578\n",
            "Epoch 348/500\n",
            "34/34 [==============================] - 0s 2ms/step - loss: 26564432.0000 - mean_absolute_error: 3315.3755\n",
            "Epoch 349/500\n",
            "34/34 [==============================] - 0s 2ms/step - loss: 26557526.0000 - mean_absolute_error: 3323.9851\n",
            "Epoch 350/500\n",
            "34/34 [==============================] - 0s 1ms/step - loss: 26538570.0000 - mean_absolute_error: 3323.8516\n",
            "Epoch 351/500\n",
            "34/34 [==============================] - 0s 2ms/step - loss: 26535756.0000 - mean_absolute_error: 3329.1377\n",
            "Epoch 352/500\n",
            "34/34 [==============================] - 0s 1ms/step - loss: 26519162.0000 - mean_absolute_error: 3324.1523\n",
            "Epoch 353/500\n",
            "34/34 [==============================] - 0s 1ms/step - loss: 26527078.0000 - mean_absolute_error: 3312.3494\n",
            "Epoch 354/500\n",
            "34/34 [==============================] - 0s 2ms/step - loss: 26504032.0000 - mean_absolute_error: 3306.3440\n",
            "Epoch 355/500\n",
            "34/34 [==============================] - 0s 2ms/step - loss: 26498128.0000 - mean_absolute_error: 3309.6196\n",
            "Epoch 356/500\n",
            "34/34 [==============================] - 0s 2ms/step - loss: 26485628.0000 - mean_absolute_error: 3311.2729\n",
            "Epoch 357/500\n",
            "34/34 [==============================] - 0s 2ms/step - loss: 26479044.0000 - mean_absolute_error: 3308.5688\n",
            "Epoch 358/500\n",
            "34/34 [==============================] - 0s 2ms/step - loss: 26467960.0000 - mean_absolute_error: 3312.7480\n",
            "Epoch 359/500\n",
            "34/34 [==============================] - 0s 2ms/step - loss: 26458528.0000 - mean_absolute_error: 3298.3403\n",
            "Epoch 360/500\n",
            "34/34 [==============================] - 0s 2ms/step - loss: 26445888.0000 - mean_absolute_error: 3298.1680\n",
            "Epoch 361/500\n",
            "34/34 [==============================] - 0s 2ms/step - loss: 26434196.0000 - mean_absolute_error: 3304.0112\n",
            "Epoch 362/500\n",
            "34/34 [==============================] - 0s 2ms/step - loss: 26425588.0000 - mean_absolute_error: 3308.0308\n",
            "Epoch 363/500\n",
            "34/34 [==============================] - 0s 1ms/step - loss: 26408486.0000 - mean_absolute_error: 3302.7512\n",
            "Epoch 364/500\n",
            "34/34 [==============================] - 0s 2ms/step - loss: 26424378.0000 - mean_absolute_error: 3293.6792\n",
            "Epoch 365/500\n",
            "34/34 [==============================] - 0s 2ms/step - loss: 26406500.0000 - mean_absolute_error: 3295.7612\n",
            "Epoch 366/500\n",
            "34/34 [==============================] - 0s 2ms/step - loss: 26398122.0000 - mean_absolute_error: 3305.5154\n",
            "Epoch 367/500\n",
            "34/34 [==============================] - 0s 2ms/step - loss: 26375908.0000 - mean_absolute_error: 3301.7253\n",
            "Epoch 368/500\n",
            "34/34 [==============================] - 0s 1ms/step - loss: 26381726.0000 - mean_absolute_error: 3301.3701\n",
            "Epoch 369/500\n",
            "34/34 [==============================] - 0s 1ms/step - loss: 26376700.0000 - mean_absolute_error: 3309.1902\n",
            "Epoch 370/500\n",
            "34/34 [==============================] - 0s 2ms/step - loss: 26361462.0000 - mean_absolute_error: 3309.1609\n",
            "Epoch 371/500\n",
            "34/34 [==============================] - 0s 2ms/step - loss: 26357418.0000 - mean_absolute_error: 3301.9446\n",
            "Epoch 372/500\n",
            "34/34 [==============================] - 0s 2ms/step - loss: 26347016.0000 - mean_absolute_error: 3290.4434\n",
            "Epoch 373/500\n",
            "34/34 [==============================] - 0s 2ms/step - loss: 26339690.0000 - mean_absolute_error: 3295.2986\n",
            "Epoch 374/500\n",
            "34/34 [==============================] - 0s 2ms/step - loss: 26322778.0000 - mean_absolute_error: 3289.5435\n",
            "Epoch 375/500\n",
            "34/34 [==============================] - 0s 2ms/step - loss: 26323086.0000 - mean_absolute_error: 3278.0833\n",
            "Epoch 376/500\n",
            "34/34 [==============================] - 0s 2ms/step - loss: 26298826.0000 - mean_absolute_error: 3285.1858\n",
            "Epoch 377/500\n",
            "34/34 [==============================] - 0s 2ms/step - loss: 26303654.0000 - mean_absolute_error: 3288.7815\n",
            "Epoch 378/500\n",
            "34/34 [==============================] - 0s 2ms/step - loss: 26284248.0000 - mean_absolute_error: 3284.8740\n",
            "Epoch 379/500\n",
            "34/34 [==============================] - 0s 2ms/step - loss: 26282982.0000 - mean_absolute_error: 3277.4585\n",
            "Epoch 380/500\n",
            "34/34 [==============================] - 0s 2ms/step - loss: 26279026.0000 - mean_absolute_error: 3274.8938\n",
            "Epoch 381/500\n",
            "34/34 [==============================] - 0s 2ms/step - loss: 26262546.0000 - mean_absolute_error: 3279.9365\n",
            "Epoch 382/500\n",
            "34/34 [==============================] - 0s 1ms/step - loss: 26262942.0000 - mean_absolute_error: 3280.3901\n",
            "Epoch 383/500\n",
            "34/34 [==============================] - 0s 2ms/step - loss: 26255268.0000 - mean_absolute_error: 3283.4297\n",
            "Epoch 384/500\n",
            "34/34 [==============================] - 0s 2ms/step - loss: 26243368.0000 - mean_absolute_error: 3274.9238\n",
            "Epoch 385/500\n",
            "34/34 [==============================] - 0s 2ms/step - loss: 26245822.0000 - mean_absolute_error: 3279.3406\n",
            "Epoch 386/500\n",
            "34/34 [==============================] - 0s 2ms/step - loss: 26228646.0000 - mean_absolute_error: 3282.3096\n",
            "Epoch 387/500\n",
            "34/34 [==============================] - 0s 2ms/step - loss: 26216150.0000 - mean_absolute_error: 3283.6606\n",
            "Epoch 388/500\n",
            "34/34 [==============================] - 0s 2ms/step - loss: 26228982.0000 - mean_absolute_error: 3280.7935\n",
            "Epoch 389/500\n",
            "34/34 [==============================] - 0s 2ms/step - loss: 26206448.0000 - mean_absolute_error: 3277.8030\n",
            "Epoch 390/500\n",
            "34/34 [==============================] - 0s 1ms/step - loss: 26193748.0000 - mean_absolute_error: 3285.0566\n",
            "Epoch 391/500\n",
            "34/34 [==============================] - 0s 1ms/step - loss: 26208468.0000 - mean_absolute_error: 3287.1533\n",
            "Epoch 392/500\n",
            "34/34 [==============================] - 0s 2ms/step - loss: 26184986.0000 - mean_absolute_error: 3277.6523\n",
            "Epoch 393/500\n",
            "34/34 [==============================] - 0s 2ms/step - loss: 26175252.0000 - mean_absolute_error: 3274.3730\n",
            "Epoch 394/500\n",
            "34/34 [==============================] - 0s 2ms/step - loss: 26166114.0000 - mean_absolute_error: 3268.6077\n",
            "Epoch 395/500\n",
            "34/34 [==============================] - 0s 2ms/step - loss: 26165666.0000 - mean_absolute_error: 3264.2273\n",
            "Epoch 396/500\n",
            "34/34 [==============================] - 0s 2ms/step - loss: 26156562.0000 - mean_absolute_error: 3280.4905\n",
            "Epoch 397/500\n",
            "34/34 [==============================] - 0s 2ms/step - loss: 26147162.0000 - mean_absolute_error: 3285.3596\n",
            "Epoch 398/500\n",
            "34/34 [==============================] - 0s 2ms/step - loss: 26141314.0000 - mean_absolute_error: 3273.9805\n",
            "Epoch 399/500\n",
            "34/34 [==============================] - 0s 2ms/step - loss: 26132192.0000 - mean_absolute_error: 3271.9810\n",
            "Epoch 400/500\n",
            "34/34 [==============================] - 0s 2ms/step - loss: 26123268.0000 - mean_absolute_error: 3271.5386\n",
            "Epoch 401/500\n",
            "34/34 [==============================] - 0s 2ms/step - loss: 26132874.0000 - mean_absolute_error: 3264.7151\n",
            "Epoch 402/500\n",
            "34/34 [==============================] - 0s 1ms/step - loss: 26114462.0000 - mean_absolute_error: 3266.6970\n",
            "Epoch 403/500\n",
            "34/34 [==============================] - 0s 2ms/step - loss: 26108472.0000 - mean_absolute_error: 3266.6160\n",
            "Epoch 404/500\n",
            "34/34 [==============================] - 0s 1ms/step - loss: 26109080.0000 - mean_absolute_error: 3279.4370\n",
            "Epoch 405/500\n",
            "34/34 [==============================] - 0s 2ms/step - loss: 26083956.0000 - mean_absolute_error: 3269.1174\n",
            "Epoch 406/500\n",
            "34/34 [==============================] - 0s 2ms/step - loss: 26083610.0000 - mean_absolute_error: 3269.0415\n",
            "Epoch 407/500\n",
            "34/34 [==============================] - 0s 2ms/step - loss: 26081368.0000 - mean_absolute_error: 3273.4761\n",
            "Epoch 408/500\n",
            "34/34 [==============================] - 0s 2ms/step - loss: 26076476.0000 - mean_absolute_error: 3259.0503\n",
            "Epoch 409/500\n",
            "34/34 [==============================] - 0s 2ms/step - loss: 26067516.0000 - mean_absolute_error: 3254.8223\n",
            "Epoch 410/500\n",
            "34/34 [==============================] - 0s 2ms/step - loss: 26048098.0000 - mean_absolute_error: 3257.9802\n",
            "Epoch 411/500\n",
            "34/34 [==============================] - 0s 2ms/step - loss: 26051012.0000 - mean_absolute_error: 3261.2761\n",
            "Epoch 412/500\n",
            "34/34 [==============================] - 0s 2ms/step - loss: 26079648.0000 - mean_absolute_error: 3270.0178\n",
            "Epoch 413/500\n",
            "34/34 [==============================] - 0s 2ms/step - loss: 26031972.0000 - mean_absolute_error: 3263.6326\n",
            "Epoch 414/500\n",
            "34/34 [==============================] - 0s 2ms/step - loss: 26025768.0000 - mean_absolute_error: 3261.3794\n",
            "Epoch 415/500\n",
            "34/34 [==============================] - 0s 2ms/step - loss: 26023900.0000 - mean_absolute_error: 3256.6868\n",
            "Epoch 416/500\n",
            "34/34 [==============================] - 0s 2ms/step - loss: 26021508.0000 - mean_absolute_error: 3266.8650\n",
            "Epoch 417/500\n",
            "34/34 [==============================] - 0s 2ms/step - loss: 26011286.0000 - mean_absolute_error: 3260.3755\n",
            "Epoch 418/500\n",
            "34/34 [==============================] - 0s 2ms/step - loss: 26008098.0000 - mean_absolute_error: 3272.7273\n",
            "Epoch 419/500\n",
            "34/34 [==============================] - 0s 2ms/step - loss: 25999602.0000 - mean_absolute_error: 3261.7800\n",
            "Epoch 420/500\n",
            "34/34 [==============================] - 0s 2ms/step - loss: 26001508.0000 - mean_absolute_error: 3269.3665\n",
            "Epoch 421/500\n",
            "34/34 [==============================] - 0s 2ms/step - loss: 25986424.0000 - mean_absolute_error: 3271.7883\n",
            "Epoch 422/500\n",
            "34/34 [==============================] - 0s 2ms/step - loss: 25976052.0000 - mean_absolute_error: 3262.0742\n",
            "Epoch 423/500\n",
            "34/34 [==============================] - 0s 2ms/step - loss: 25968390.0000 - mean_absolute_error: 3263.2029\n",
            "Epoch 424/500\n",
            "34/34 [==============================] - 0s 1ms/step - loss: 25960444.0000 - mean_absolute_error: 3266.9495\n",
            "Epoch 425/500\n",
            "34/34 [==============================] - 0s 2ms/step - loss: 25958156.0000 - mean_absolute_error: 3260.1772\n",
            "Epoch 426/500\n",
            "34/34 [==============================] - 0s 2ms/step - loss: 25962310.0000 - mean_absolute_error: 3260.9001\n",
            "Epoch 427/500\n",
            "34/34 [==============================] - 0s 2ms/step - loss: 25957828.0000 - mean_absolute_error: 3267.6665\n",
            "Epoch 428/500\n",
            "34/34 [==============================] - 0s 2ms/step - loss: 25931672.0000 - mean_absolute_error: 3256.9014\n",
            "Epoch 429/500\n",
            "34/34 [==============================] - 0s 2ms/step - loss: 25926140.0000 - mean_absolute_error: 3242.2373\n",
            "Epoch 430/500\n",
            "34/34 [==============================] - 0s 2ms/step - loss: 25922014.0000 - mean_absolute_error: 3243.7083\n",
            "Epoch 431/500\n",
            "34/34 [==============================] - 0s 2ms/step - loss: 25922996.0000 - mean_absolute_error: 3243.9265\n",
            "Epoch 432/500\n",
            "34/34 [==============================] - 0s 2ms/step - loss: 25914026.0000 - mean_absolute_error: 3241.7729\n",
            "Epoch 433/500\n",
            "34/34 [==============================] - 0s 2ms/step - loss: 25905360.0000 - mean_absolute_error: 3243.6335\n",
            "Epoch 434/500\n",
            "34/34 [==============================] - 0s 2ms/step - loss: 25891406.0000 - mean_absolute_error: 3245.4360\n",
            "Epoch 435/500\n",
            "34/34 [==============================] - 0s 2ms/step - loss: 25899178.0000 - mean_absolute_error: 3233.1628\n",
            "Epoch 436/500\n",
            "34/34 [==============================] - 0s 2ms/step - loss: 25881638.0000 - mean_absolute_error: 3231.8447\n",
            "Epoch 437/500\n",
            "34/34 [==============================] - 0s 2ms/step - loss: 25877512.0000 - mean_absolute_error: 3236.2603\n",
            "Epoch 438/500\n",
            "34/34 [==============================] - 0s 2ms/step - loss: 25872744.0000 - mean_absolute_error: 3230.4810\n",
            "Epoch 439/500\n",
            "34/34 [==============================] - 0s 2ms/step - loss: 25867212.0000 - mean_absolute_error: 3242.4353\n",
            "Epoch 440/500\n",
            "34/34 [==============================] - 0s 2ms/step - loss: 25863004.0000 - mean_absolute_error: 3238.5955\n",
            "Epoch 441/500\n",
            "34/34 [==============================] - 0s 2ms/step - loss: 25859292.0000 - mean_absolute_error: 3231.5649\n",
            "Epoch 442/500\n",
            "34/34 [==============================] - 0s 2ms/step - loss: 25848820.0000 - mean_absolute_error: 3235.1653\n",
            "Epoch 443/500\n",
            "34/34 [==============================] - 0s 2ms/step - loss: 25838022.0000 - mean_absolute_error: 3233.9553\n",
            "Epoch 444/500\n",
            "34/34 [==============================] - 0s 2ms/step - loss: 25838968.0000 - mean_absolute_error: 3226.4482\n",
            "Epoch 445/500\n",
            "34/34 [==============================] - 0s 2ms/step - loss: 25825870.0000 - mean_absolute_error: 3229.2258\n",
            "Epoch 446/500\n",
            "34/34 [==============================] - 0s 2ms/step - loss: 25822408.0000 - mean_absolute_error: 3227.1147\n",
            "Epoch 447/500\n",
            "34/34 [==============================] - 0s 2ms/step - loss: 25809144.0000 - mean_absolute_error: 3225.5784\n",
            "Epoch 448/500\n",
            "34/34 [==============================] - 0s 2ms/step - loss: 25806538.0000 - mean_absolute_error: 3230.2939\n",
            "Epoch 449/500\n",
            "34/34 [==============================] - 0s 2ms/step - loss: 25803282.0000 - mean_absolute_error: 3232.5029\n",
            "Epoch 450/500\n",
            "34/34 [==============================] - 0s 2ms/step - loss: 25802396.0000 - mean_absolute_error: 3234.5967\n",
            "Epoch 451/500\n",
            "34/34 [==============================] - 0s 2ms/step - loss: 25793686.0000 - mean_absolute_error: 3229.9700\n",
            "Epoch 452/500\n",
            "34/34 [==============================] - 0s 2ms/step - loss: 25797748.0000 - mean_absolute_error: 3226.1821\n",
            "Epoch 453/500\n",
            "34/34 [==============================] - 0s 2ms/step - loss: 25789962.0000 - mean_absolute_error: 3232.6675\n",
            "Epoch 454/500\n",
            "34/34 [==============================] - 0s 2ms/step - loss: 25800022.0000 - mean_absolute_error: 3222.7759\n",
            "Epoch 455/500\n",
            "34/34 [==============================] - 0s 2ms/step - loss: 25770440.0000 - mean_absolute_error: 3221.5522\n",
            "Epoch 456/500\n",
            "34/34 [==============================] - 0s 1ms/step - loss: 25758946.0000 - mean_absolute_error: 3229.1287\n",
            "Epoch 457/500\n",
            "34/34 [==============================] - 0s 2ms/step - loss: 25758654.0000 - mean_absolute_error: 3223.6812\n",
            "Epoch 458/500\n",
            "34/34 [==============================] - 0s 2ms/step - loss: 25744564.0000 - mean_absolute_error: 3216.2727\n",
            "Epoch 459/500\n",
            "34/34 [==============================] - 0s 2ms/step - loss: 25751208.0000 - mean_absolute_error: 3219.2673\n",
            "Epoch 460/500\n",
            "34/34 [==============================] - 0s 2ms/step - loss: 25735200.0000 - mean_absolute_error: 3221.1262\n",
            "Epoch 461/500\n",
            "34/34 [==============================] - 0s 2ms/step - loss: 25736356.0000 - mean_absolute_error: 3220.4224\n",
            "Epoch 462/500\n",
            "34/34 [==============================] - 0s 2ms/step - loss: 25716058.0000 - mean_absolute_error: 3210.4233\n",
            "Epoch 463/500\n",
            "34/34 [==============================] - 0s 2ms/step - loss: 25715634.0000 - mean_absolute_error: 3206.1013\n",
            "Epoch 464/500\n",
            "34/34 [==============================] - 0s 2ms/step - loss: 25717814.0000 - mean_absolute_error: 3205.7173\n",
            "Epoch 465/500\n",
            "34/34 [==============================] - 0s 2ms/step - loss: 25708808.0000 - mean_absolute_error: 3206.2395\n",
            "Epoch 466/500\n",
            "34/34 [==============================] - 0s 2ms/step - loss: 25697938.0000 - mean_absolute_error: 3212.2456\n",
            "Epoch 467/500\n",
            "34/34 [==============================] - 0s 2ms/step - loss: 25686340.0000 - mean_absolute_error: 3213.8577\n",
            "Epoch 468/500\n",
            "34/34 [==============================] - 0s 2ms/step - loss: 25682090.0000 - mean_absolute_error: 3209.2114\n",
            "Epoch 469/500\n",
            "34/34 [==============================] - 0s 2ms/step - loss: 25677654.0000 - mean_absolute_error: 3203.4509\n",
            "Epoch 470/500\n",
            "34/34 [==============================] - 0s 2ms/step - loss: 25686816.0000 - mean_absolute_error: 3207.3740\n",
            "Epoch 471/500\n",
            "34/34 [==============================] - 0s 2ms/step - loss: 25672146.0000 - mean_absolute_error: 3208.6599\n",
            "Epoch 472/500\n",
            "34/34 [==============================] - 0s 2ms/step - loss: 25674388.0000 - mean_absolute_error: 3216.4531\n",
            "Epoch 473/500\n",
            "34/34 [==============================] - 0s 2ms/step - loss: 25656040.0000 - mean_absolute_error: 3217.1536\n",
            "Epoch 474/500\n",
            "34/34 [==============================] - 0s 2ms/step - loss: 25649382.0000 - mean_absolute_error: 3218.4541\n",
            "Epoch 475/500\n",
            "34/34 [==============================] - 0s 2ms/step - loss: 25650270.0000 - mean_absolute_error: 3219.4766\n",
            "Epoch 476/500\n",
            "34/34 [==============================] - 0s 2ms/step - loss: 25636486.0000 - mean_absolute_error: 3209.3660\n",
            "Epoch 477/500\n",
            "34/34 [==============================] - 0s 2ms/step - loss: 25643072.0000 - mean_absolute_error: 3211.0002\n",
            "Epoch 478/500\n",
            "34/34 [==============================] - 0s 2ms/step - loss: 25631896.0000 - mean_absolute_error: 3207.9580\n",
            "Epoch 479/500\n",
            "34/34 [==============================] - 0s 2ms/step - loss: 25627244.0000 - mean_absolute_error: 3200.8926\n",
            "Epoch 480/500\n",
            "34/34 [==============================] - 0s 2ms/step - loss: 25613812.0000 - mean_absolute_error: 3208.4375\n",
            "Epoch 481/500\n",
            "34/34 [==============================] - 0s 2ms/step - loss: 25614034.0000 - mean_absolute_error: 3206.1685\n",
            "Epoch 482/500\n",
            "34/34 [==============================] - 0s 2ms/step - loss: 25610632.0000 - mean_absolute_error: 3207.3000\n",
            "Epoch 483/500\n",
            "34/34 [==============================] - 0s 2ms/step - loss: 25601148.0000 - mean_absolute_error: 3207.1045\n",
            "Epoch 484/500\n",
            "34/34 [==============================] - 0s 2ms/step - loss: 25596616.0000 - mean_absolute_error: 3210.5232\n",
            "Epoch 485/500\n",
            "34/34 [==============================] - 0s 2ms/step - loss: 25598818.0000 - mean_absolute_error: 3200.0713\n",
            "Epoch 486/500\n",
            "34/34 [==============================] - 0s 2ms/step - loss: 25590348.0000 - mean_absolute_error: 3208.6707\n",
            "Epoch 487/500\n",
            "34/34 [==============================] - 0s 2ms/step - loss: 25580498.0000 - mean_absolute_error: 3207.8835\n",
            "Epoch 488/500\n",
            "34/34 [==============================] - 0s 2ms/step - loss: 25578386.0000 - mean_absolute_error: 3196.5474\n",
            "Epoch 489/500\n",
            "34/34 [==============================] - 0s 2ms/step - loss: 25565484.0000 - mean_absolute_error: 3191.7881\n",
            "Epoch 490/500\n",
            "34/34 [==============================] - 0s 2ms/step - loss: 25565648.0000 - mean_absolute_error: 3197.0342\n",
            "Epoch 491/500\n",
            "34/34 [==============================] - 0s 2ms/step - loss: 25555200.0000 - mean_absolute_error: 3198.4810\n",
            "Epoch 492/500\n",
            "34/34 [==============================] - 0s 2ms/step - loss: 25554890.0000 - mean_absolute_error: 3195.9517\n",
            "Epoch 493/500\n",
            "34/34 [==============================] - 0s 2ms/step - loss: 25558068.0000 - mean_absolute_error: 3205.4326\n",
            "Epoch 494/500\n",
            "34/34 [==============================] - 0s 2ms/step - loss: 25546926.0000 - mean_absolute_error: 3190.1743\n",
            "Epoch 495/500\n",
            "34/34 [==============================] - 0s 2ms/step - loss: 25539404.0000 - mean_absolute_error: 3191.5964\n",
            "Epoch 496/500\n",
            "34/34 [==============================] - 0s 2ms/step - loss: 25529618.0000 - mean_absolute_error: 3195.4971\n",
            "Epoch 497/500\n",
            "34/34 [==============================] - 0s 2ms/step - loss: 25523260.0000 - mean_absolute_error: 3188.2144\n",
            "Epoch 498/500\n",
            "34/34 [==============================] - 0s 2ms/step - loss: 25518540.0000 - mean_absolute_error: 3195.0720\n",
            "Epoch 499/500\n",
            "34/34 [==============================] - 0s 2ms/step - loss: 25527802.0000 - mean_absolute_error: 3197.1877\n",
            "Epoch 500/500\n",
            "34/34 [==============================] - 0s 2ms/step - loss: 25515860.0000 - mean_absolute_error: 3187.1829\n"
          ]
        }
      ]
    },
    {
      "cell_type": "code",
      "source": [
        "model.evaluate(testX, testY)"
      ],
      "metadata": {
        "colab": {
          "base_uri": "https://localhost:8080/"
        },
        "id": "Y03C6Jdk7I6m",
        "outputId": "1ac83a26-8597-4068-d379-61053a953fdd"
      },
      "execution_count": null,
      "outputs": [
        {
          "output_type": "stream",
          "name": "stdout",
          "text": [
            "9/9 [==============================] - 0s 2ms/step - loss: 19879980.0000 - mean_absolute_error: 2835.2573\n"
          ]
        },
        {
          "output_type": "execute_result",
          "data": {
            "text/plain": [
              "[19879980.0, 2835.25732421875]"
            ]
          },
          "metadata": {},
          "execution_count": 73
        }
      ]
    },
    {
      "cell_type": "code",
      "source": [
        "# 머신러닝 비용(손실)\n",
        "print(mseML, maeML)"
      ],
      "metadata": {
        "colab": {
          "base_uri": "https://localhost:8080/"
        },
        "id": "W5vWxX6EJEs5",
        "outputId": "1edd3489-1a9c-4e17-f078-53f75847eab9"
      },
      "execution_count": null,
      "outputs": [
        {
          "output_type": "stream",
          "name": "stdout",
          "text": [
            "32819266.70554123 4157.600458213398\n"
          ]
        }
      ]
    },
    {
      "cell_type": "code",
      "source": [
        "pred = model.predict(testX)"
      ],
      "metadata": {
        "id": "gxiBZBbP-Mwv"
      },
      "execution_count": null,
      "outputs": []
    },
    {
      "cell_type": "code",
      "source": [
        "# 시각화\n",
        "plt.subplot(1,2,1)\n",
        "plt.title('ML')\n",
        "plt.scatter(testY, predML)\n",
        "plt.subplot(1,2,2)\n",
        "plt.title('DNN')\n",
        "plt.scatter(testY, pred)\n",
        "plt.show()"
      ],
      "metadata": {
        "colab": {
          "base_uri": "https://localhost:8080/",
          "height": 281
        },
        "id": "nJ4USSzGJZk4",
        "outputId": "1d62985f-501d-409c-881c-e5a9dd649324"
      },
      "execution_count": null,
      "outputs": [
        {
          "output_type": "display_data",
          "data": {
            "text/plain": [
              "<Figure size 432x288 with 2 Axes>"
            ],
            "image/png": "[encoded data removed]"
          },
          "metadata": {
            "needs_background": "light"
          }
        }
      ]
    },
    {
      "cell_type": "code",
      "source": [
        "from sklearn.metrics import r2_score\n",
        "r2 = r2_score(testY, pred)\n",
        "print(\"ML R2 :\", scoreML)\n",
        "print(\"DNN R2 :\", r2)"
      ],
      "metadata": {
        "colab": {
          "base_uri": "https://localhost:8080/"
        },
        "id": "_xBn8Jqf9CM8",
        "outputId": "93c2815e-f86d-4585-a008-754c39e78314"
      },
      "execution_count": null,
      "outputs": [
        {
          "output_type": "stream",
          "name": "stdout",
          "text": [
            "ML R2 : 0.7867862264404814\n",
            "DNN R2 : 0.8708476532197953\n"
          ]
        }
      ]
    },
    {
      "cell_type": "code",
      "source": [
        ""
      ],
      "metadata": {
        "id": "6uASeyOZ8cnm"
      },
      "execution_count": null,
      "outputs": []
    }
  ]
}