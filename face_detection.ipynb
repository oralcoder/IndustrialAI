{
 "cells": [
  {
   "cell_type": "markdown",
   "metadata": {},
   "source": [
    "# 1. 모듈 가져오기"
   ]
  },
  {
   "cell_type": "code",
   "execution_count": 1,
   "metadata": {},
   "outputs": [],
   "source": [
    "from jetbot import Camera\n",
    "import ipywidgets.widgets as widgets\n",
    "from jetbot import bgr8_to_jpeg\n",
    "from IPython.display import display\n",
    "import cv2"
   ]
  },
  {
   "cell_type": "markdown",
   "metadata": {},
   "source": [
    "# 2. 얼굴 검출 학습데이터 파일 가져오기"
   ]
  },
  {
   "cell_type": "markdown",
   "metadata": {},
   "source": [
    "#### 파일 다운로드"
   ]
  },
  {
   "cell_type": "code",
   "execution_count": 5,
   "metadata": {},
   "outputs": [],
   "source": [
    "!wget -q -N https://raw.githubusercontent.com/opencv/opencv/master/data/haarcascades/haarcascade_frontalface_default.xml\n",
    "!wget -q -N https://raw.githubusercontent.com/opencv/opencv/master/data/haarcascades/haarcascade_eye.xml "
   ]
  },
  {
   "cell_type": "markdown",
   "metadata": {},
   "source": [
    "#### 학습 데이터 파일 로드"
   ]
  },
  {
   "cell_type": "code",
   "execution_count": 6,
   "metadata": {},
   "outputs": [],
   "source": [
    "face_cascade = cv2.CascadeClassifier('haarcascade_frontalface_default.xml') \n",
    "eye_cascade = cv2.CascadeClassifier('haarcascade_eye.xml')"
   ]
  },
  {
   "cell_type": "markdown",
   "metadata": {},
   "source": [
    "# 3. 카메라 객체 & 위젯 생성"
   ]
  },
  {
   "cell_type": "code",
   "execution_count": 7,
   "metadata": {},
   "outputs": [
    {
     "data": {
      "application/vnd.jupyter.widget-view+json": {
       "model_id": "dfbd0e974a374a5ebdc3e5fe228604dc",
       "version_major": 2,
       "version_minor": 0
      },
      "text/plain": [
       "Image(value=b'', format='jpeg', height='300', width='300')"
      ]
     },
     "metadata": {},
     "output_type": "display_data"
    }
   ],
   "source": [
    "camera = Camera.instance(width=720, height=720)\n",
    "widget = widgets.Image(format='jpeg', width=300, height=300)\n",
    "display(widget)"
   ]
  },
  {
   "cell_type": "markdown",
   "metadata": {},
   "source": [
    "# 4. 얼굴 검출"
   ]
  },
  {
   "cell_type": "code",
   "execution_count": 8,
   "metadata": {},
   "outputs": [],
   "source": [
    "while 1:\n",
    "    try:\n",
    "        frame = camera.value\n",
    "        frame = cv2.resize(frame, (300, 300))\n",
    "        gray = cv2.cvtColor(frame, cv2.COLOR_BGR2GRAY)\n",
    "        faces = face_cascade.detectMultiScale(gray)\n",
    "        if len(faces) > 0:\n",
    "            (face_x, face_y, face_w, face_h) = faces[0]\n",
    "            # 사각형 박스 표시\n",
    "            cv2.rectangle(frame, (face_x, face_y), (face_x+face_w, face_y+face_h), (0,255,0), 4)\n",
    "            # 중심좌표 계산\n",
    "            face_cx = face_x + (int(face_w/2))\n",
    "            face_cy = face_y + (int(face_h/2))\n",
    "        \n",
    "        widget.value = bgr8_to_jpeg(frame)\n",
    "       \n",
    "    except KeyboardInterrupt:\n",
    "        break\n",
    "\n",
    "camera.unobserve_all()"
   ]
  },
  {
   "cell_type": "markdown",
   "metadata": {},
   "source": [
    "# 5. 얼굴 & 눈 검출"
   ]
  },
  {
   "cell_type": "code",
   "execution_count": 9,
   "metadata": {},
   "outputs": [],
   "source": [
    "while 1:\n",
    "    try:\n",
    "        frame = camera.value\n",
    "        frame = cv2.resize(frame, (300, 300))\n",
    "        gray = cv2.cvtColor(frame, cv2.COLOR_BGR2GRAY)\n",
    "        faces = face_cascade.detectMultiScale(gray)\n",
    "        if len(faces) > 0:\n",
    "            (face_x, face_y, face_w, face_h) = faces[0]\n",
    "            # 사각형 박스 표시\n",
    "            cv2.rectangle(frame, (face_x, face_y), (face_x+face_w, face_y+face_h), (0,255,0), 4)\n",
    "            # 중심좌표 계산\n",
    "            face_cx = face_x + (int(face_w/2))\n",
    "            face_cy = face_y + (int(face_h/2))\n",
    "        \n",
    "            roi = frame[face_y:face_y+face_h, face_x:face_x+face_w]\n",
    "            roi_gray = cv2.cvtColor(roi, cv2.COLOR_BGR2GRAY)\n",
    "        \n",
    "            eyes = eye_cascade.detectMultiScale(roi_gray)\n",
    "            for (eye_x, eye_y, eye_w, eye_h) in eyes:\n",
    "                cv2.rectangle(roi, (eye_x, eye_y), (eye_x+eye_w, eye_y+eye_h), (255,0,0), 2)\n",
    "                eye_cx = eye_x + (int(eye_w/2))\n",
    "                eye_cy = eye_y + (int(eye_h/2))\n",
    "            \n",
    "            \n",
    "        widget.value = bgr8_to_jpeg(frame)\n",
    "       \n",
    "    except KeyboardInterrupt:\n",
    "        break\n",
    "\n",
    "camera.unobserve_all()\n",
    "\n"
   ]
  }
 ],
 "metadata": {
  "kernelspec": {
   "display_name": "Python 3",
   "language": "python",
   "name": "python3"
  },
  "language_info": {
   "codemirror_mode": {
    "name": "ipython",
    "version": 3
   },
   "file_extension": ".py",
   "mimetype": "text/x-python",
   "name": "python",
   "nbconvert_exporter": "python",
   "pygments_lexer": "ipython3",
   "version": "3.6.9"
  }
 },
 "nbformat": 4,
 "nbformat_minor": 4
}
