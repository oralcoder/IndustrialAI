{
 "cells": [
  {
   "cell_type": "markdown",
   "metadata": {},
   "source": [
    "# <font color='crimson'>1. 이미지 다운로드</font>"
   ]
  },
  {
   "cell_type": "code",
   "execution_count": 6,
   "metadata": {},
   "outputs": [
    {
     "name": "stdout",
     "output_type": "stream",
     "text": [
      "WARNING: timestamping does nothing in combination with -O. See the manual\n",
      "for details.\n",
      "\n",
      "URL transformed to HTTPS due to an HSTS policy\n",
      "--2022-08-07 16:05:58--  https://raw.githubusercontent.com/oralcoder/industrialAI/master/images/image-bike.jpg\n",
      "Resolving raw.githubusercontent.com (raw.githubusercontent.com)... 185.199.111.133, 185.199.108.133, 185.199.109.133, ...\n",
      "Connecting to raw.githubusercontent.com (raw.githubusercontent.com)|185.199.111.133|:443... connected.\n",
      "HTTP request sent, awaiting response... 200 OK\n",
      "Length: 111867 (109K) [image/jpeg]\n",
      "Saving to: ‘/home/jetbot/works/images/image-bike.jpg’\n",
      "\n",
      "/home/jetbot/works/ 100%[===================>] 109.25K  --.-KB/s    in 0.02s   \n",
      "\n",
      "2022-08-07 16:05:59 (5.09 MB/s) - ‘/home/jetbot/works/images/image-bike.jpg’ saved [111867/111867]\n",
      "\n"
     ]
    }
   ],
   "source": [
    "!wget -N -O ~/works/images/image-bike.jpg http://raw.githubusercontent.com/oralcoder/industrialAI/master/images/image-bike.jpg"
   ]
  },
  {
   "cell_type": "markdown",
   "metadata": {},
   "source": [
    "---\n",
    "<br>"
   ]
  },
  {
   "cell_type": "markdown",
   "metadata": {},
   "source": [
    "# <font color='crimson'>2. 모듈 가져오기</font>"
   ]
  },
  {
   "cell_type": "markdown",
   "metadata": {},
   "source": [
    "### <font color='darkcyan'>Jetson 관련 Modules</font>"
   ]
  },
  {
   "cell_type": "code",
   "execution_count": 3,
   "metadata": {},
   "outputs": [],
   "source": [
    "import jetson.inference\n",
    "import jetson.utils\n",
    "from jetbot import Camera"
   ]
  },
  {
   "cell_type": "markdown",
   "metadata": {},
   "source": [
    "### <font color='darkcyan'>이미지 처리 및 출력 Modules</font>"
   ]
  },
  {
   "cell_type": "code",
   "execution_count": 2,
   "metadata": {},
   "outputs": [],
   "source": [
    "import cv2\n",
    "import ipywidgets.widgets as widgets\n",
    "from jetbot import bgr8_to_jpeg"
   ]
  },
  {
   "cell_type": "markdown",
   "metadata": {},
   "source": [
    "---\n",
    "<br>"
   ]
  },
  {
   "cell_type": "markdown",
   "metadata": {},
   "source": [
    "# <font color='crimson'>3. 이미지 가져오기 & 정보 출력</font>"
   ]
  },
  {
   "cell_type": "code",
   "execution_count": 3,
   "metadata": {},
   "outputs": [
    {
     "name": "stdout",
     "output_type": "stream",
     "text": [
      "(480, 640, 3) <class 'jetson.utils.cudaImage'>\n",
      "640 480 3\n"
     ]
    }
   ],
   "source": [
    "img = jetson.utils.loadImage('/home/jetbot/works/images/image-bike.jpg')\n",
    "print(img.shape, type(img))  # (565, 563, 3)\n",
    "print(img.width, img.height, img.channels)"
   ]
  },
  {
   "cell_type": "markdown",
   "metadata": {},
   "source": [
    "---\n",
    "<br>"
   ]
  },
  {
   "cell_type": "markdown",
   "metadata": {},
   "source": [
    "# <font color='crimson'>4. Inference</font>"
   ]
  },
  {
   "cell_type": "markdown",
   "metadata": {},
   "source": [
    "### <font color='darkcyan'>사전 학습된 모델 가져오기</font>\n",
    "* 처음 모델을 가져올 때 많은 시간이 소요됨"
   ]
  },
  {
   "cell_type": "code",
   "execution_count": 4,
   "metadata": {},
   "outputs": [],
   "source": [
    "net = jetson.inference.detectNet('ssd-mobilenet-v2', threshold=0.5)"
   ]
  },
  {
   "cell_type": "markdown",
   "metadata": {},
   "source": [
    "### <font color='darkcyan'>예측</font>\n",
    "* 예측 결과 클래스 번호와 확률을 반환함"
   ]
  },
  {
   "cell_type": "code",
   "execution_count": 5,
   "metadata": {},
   "outputs": [],
   "source": [
    "detections = net.Detect(img, overlay='box,labels,conf')"
   ]
  },
  {
   "cell_type": "markdown",
   "metadata": {},
   "source": [
    "### <font color='darkcyan'>예측결과 확인</font>"
   ]
  },
  {
   "cell_type": "code",
   "execution_count": 6,
   "metadata": {},
   "outputs": [
    {
     "name": "stdout",
     "output_type": "stream",
     "text": [
      "<detectNet.Detection object>\n",
      "   -- ClassID: 4\n",
      "   -- Confidence: 0.931462\n",
      "   -- Left:    270.43\n",
      "   -- Top:     189.589\n",
      "   -- Right:   565.9\n",
      "   -- Bottom:  478.571\n",
      "   -- Width:   295.47\n",
      "   -- Height:  288.982\n",
      "   -- Area:    85385.5\n",
      "   -- Center:  (418.165, 334.08)\n",
      "<detectNet.Detection object>\n",
      "   -- ClassID: 1\n",
      "   -- Confidence: 0.797083\n",
      "   -- Left:    306.931\n",
      "   -- Top:     87.333\n",
      "   -- Right:   504.349\n",
      "   -- Bottom:  451.699\n",
      "   -- Width:   197.418\n",
      "   -- Height:  364.366\n",
      "   -- Area:    71932.4\n",
      "   -- Center:  (405.64, 269.516)\n",
      "<detectNet.Detection object>\n",
      "   -- ClassID: 2\n",
      "   -- Confidence: 0.944587\n",
      "   -- Left:    1.99491\n",
      "   -- Top:     191.157\n",
      "   -- Right:   202.534\n",
      "   -- Bottom:  476.347\n",
      "   -- Width:   200.539\n",
      "   -- Height:  285.19\n",
      "   -- Area:    57191.7\n",
      "   -- Center:  (102.265, 333.752)\n",
      "<detectNet.Detection object>\n",
      "   -- ClassID: 1\n",
      "   -- Confidence: 0.923316\n",
      "   -- Left:    14.2532\n",
      "   -- Top:     45.8482\n",
      "   -- Right:   151.257\n",
      "   -- Bottom:  393.006\n",
      "   -- Width:   137.004\n",
      "   -- Height:  347.158\n",
      "   -- Area:    47562\n",
      "   -- Center:  (82.7552, 219.427)\n",
      "<detectNet.Detection object>\n",
      "   -- ClassID: 1\n",
      "   -- Confidence: 0.796925\n",
      "   -- Left:    254.65\n",
      "   -- Top:     116.097\n",
      "   -- Right:   350.126\n",
      "   -- Bottom:  440.063\n",
      "   -- Width:   95.4762\n",
      "   -- Height:  323.966\n",
      "   -- Area:    30931.1\n",
      "   -- Center:  (302.388, 278.08)\n",
      "<detectNet.Detection object>\n",
      "   -- ClassID: 1\n",
      "   -- Confidence: 0.627951\n",
      "   -- Left:    446.627\n",
      "   -- Top:     64.6744\n",
      "   -- Right:   585.225\n",
      "   -- Bottom:  263.478\n",
      "   -- Width:   138.598\n",
      "   -- Height:  198.803\n",
      "   -- Area:    27553.7\n",
      "   -- Center:  (515.926, 164.076)\n",
      "<detectNet.Detection object>\n",
      "   -- ClassID: 2\n",
      "   -- Confidence: 0.567218\n",
      "   -- Left:    520.11\n",
      "   -- Top:     184.045\n",
      "   -- Right:   635.225\n",
      "   -- Bottom:  414.897\n",
      "   -- Width:   115.115\n",
      "   -- Height:  230.852\n",
      "   -- Area:    26574.6\n",
      "   -- Center:  (577.667, 299.471)\n",
      "<detectNet.Detection object>\n",
      "   -- ClassID: 1\n",
      "   -- Confidence: 0.826991\n",
      "   -- Left:    150.061\n",
      "   -- Top:     101.249\n",
      "   -- Right:   261.373\n",
      "   -- Bottom:  339.464\n",
      "   -- Width:   111.312\n",
      "   -- Height:  238.215\n",
      "   -- Area:    26516.2\n",
      "   -- Center:  (205.717, 220.356)\n",
      "<detectNet.Detection object>\n",
      "   -- ClassID: 2\n",
      "   -- Confidence: 0.508788\n",
      "   -- Left:    546.269\n",
      "   -- Top:     256.41\n",
      "   -- Right:   639\n",
      "   -- Bottom:  419.471\n",
      "   -- Width:   92.7314\n",
      "   -- Height:  163.061\n",
      "   -- Area:    15120.9\n",
      "   -- Center:  (592.634, 337.94)\n"
     ]
    }
   ],
   "source": [
    "for detection in detections:\n",
    "    print(detection)"
   ]
  },
  {
   "cell_type": "markdown",
   "metadata": {},
   "source": [
    "---\n",
    "<br>"
   ]
  },
  {
   "cell_type": "markdown",
   "metadata": {},
   "source": [
    "# <font color='crimson'>5. 이미지 출력</font>"
   ]
  },
  {
   "cell_type": "markdown",
   "metadata": {},
   "source": [
    "### <font color='darkcyan'>이미지 변환</font>"
   ]
  },
  {
   "cell_type": "code",
   "execution_count": 7,
   "metadata": {},
   "outputs": [],
   "source": [
    "image = jetson.utils.cudaToNumpy(img)  #cudaImage 형식을 numpy로 변환\n",
    "image = cv2.cvtColor(image, cv2.COLOR_RGB2BGR) #OpenCV에서 사용하는 BGR 형태의 numpy로 변환\n",
    "image = bgr8_to_jpeg(image)  #numpy를 이미지로 변환"
   ]
  },
  {
   "cell_type": "markdown",
   "metadata": {},
   "source": [
    "### <font color='darkcyan'>이미지 출력 위젯 생성</font>"
   ]
  },
  {
   "cell_type": "code",
   "execution_count": 8,
   "metadata": {},
   "outputs": [],
   "source": [
    "widget = widgets.Image(format='jpeg', width=300, height=300)"
   ]
  },
  {
   "cell_type": "markdown",
   "metadata": {},
   "source": [
    "### <font color='darkcyan'>이미지 출력</font>"
   ]
  },
  {
   "cell_type": "code",
   "execution_count": 9,
   "metadata": {},
   "outputs": [
    {
     "data": {
      "application/vnd.jupyter.widget-view+json": {
       "model_id": "7e46d265ad5945afb3fd9d4036b5cf57",
       "version_major": 2,
       "version_minor": 0
      },
      "text/plain": [
       "Image(value=b'\\xff\\xd8\\xff\\xe0\\x00\\x10JFIF\\x00\\x01\\x01\\x00\\x00\\x01\\x00\\x01\\x00\\x00\\xff\\xdb\\x00C\\x00\\x02\\x01\\x0…"
      ]
     },
     "metadata": {},
     "output_type": "display_data"
    }
   ],
   "source": [
    "widget.value = image\n",
    "display(widget)"
   ]
  },
  {
   "cell_type": "markdown",
   "metadata": {},
   "source": [
    "---\n",
    "<br>"
   ]
  },
  {
   "cell_type": "markdown",
   "metadata": {},
   "source": [
    "## <font color='crimson'>6. facenet 모델 사용</font>"
   ]
  },
  {
   "cell_type": "markdown",
   "metadata": {},
   "source": [
    "### <font color='darkcyan'>이미지 가져오기</font>\n",
    "* `/home/jetbot/works/jetson-inference/build/aarch64/bin/images/` 디렉토리에 테스트용 이미지가 저장되어 있음"
   ]
  },
  {
   "cell_type": "code",
   "execution_count": 10,
   "metadata": {},
   "outputs": [],
   "source": [
    "img_url = '/home/jetbot/works/jetson-inference/build/aarch64/bin/images/'\n",
    "img = jetson.utils.loadImage(img_url + 'peds_0.jpg')"
   ]
  },
  {
   "cell_type": "markdown",
   "metadata": {},
   "source": [
    "### <font color='darkcyan'>모델 가져오기</font>"
   ]
  },
  {
   "cell_type": "code",
   "execution_count": 11,
   "metadata": {},
   "outputs": [],
   "source": [
    "net = jetson.inference.detectNet('facenet', threshold=0.5)"
   ]
  },
  {
   "cell_type": "markdown",
   "metadata": {},
   "source": [
    "### <font color='darkcyan'>예측</font>"
   ]
  },
  {
   "cell_type": "code",
   "execution_count": 12,
   "metadata": {},
   "outputs": [
    {
     "name": "stdout",
     "output_type": "stream",
     "text": [
      "<detectNet.Detection object>\n",
      "   -- ClassID: 0\n",
      "   -- Confidence: 0.842285\n",
      "   -- Left:    555.233\n",
      "   -- Top:     149.041\n",
      "   -- Right:   661.267\n",
      "   -- Bottom:  232.575\n",
      "   -- Width:   106.033\n",
      "   -- Height:  83.5336\n",
      "   -- Area:    8857.35\n",
      "   -- Center:  (608.25, 190.808)\n",
      "<detectNet.Detection object>\n",
      "   -- ClassID: 0\n",
      "   -- Confidence: 0.796875\n",
      "   -- Left:    1166.5\n",
      "   -- Top:     129.3\n",
      "   -- Right:   1291.63\n",
      "   -- Bottom:  226.163\n",
      "   -- Width:   125.133\n",
      "   -- Height:  96.8625\n",
      "   -- Area:    12120.7\n",
      "   -- Center:  (1229.07, 177.731)\n",
      "<detectNet.Detection object>\n",
      "   -- ClassID: 0\n",
      "   -- Confidence: 0.771484\n",
      "   -- Left:    811.8\n",
      "   -- Top:     213.45\n",
      "   -- Right:   912.8\n",
      "   -- Bottom:  303.038\n",
      "   -- Width:   101\n",
      "   -- Height:  89.5875\n",
      "   -- Area:    9048.34\n",
      "   -- Center:  (862.3, 258.244)\n"
     ]
    }
   ],
   "source": [
    "detections = net.Detect(img, overlay='box,labels,conf')\n",
    "for detection in detections:\n",
    "    print(detection)"
   ]
  },
  {
   "cell_type": "markdown",
   "metadata": {},
   "source": [
    "### <font color='darkcyan'>이미지 출력</font>"
   ]
  },
  {
   "cell_type": "code",
   "execution_count": 13,
   "metadata": {},
   "outputs": [
    {
     "data": {
      "application/vnd.jupyter.widget-view+json": {
       "model_id": "bacf04f92ec84099ad113a508f14d318",
       "version_major": 2,
       "version_minor": 0
      },
      "text/plain": [
       "Image(value=b'\\xff\\xd8\\xff\\xe0\\x00\\x10JFIF\\x00\\x01\\x01\\x00\\x00\\x01\\x00\\x01\\x00\\x00\\xff\\xdb\\x00C\\x00\\x02\\x01\\x0…"
      ]
     },
     "metadata": {},
     "output_type": "display_data"
    }
   ],
   "source": [
    "image = jetson.utils.cudaToNumpy(img)  #cudaImage 형식을 numpy로 변환\n",
    "image = cv2.cvtColor(image, cv2.COLOR_RGB2BGR) #OpenCV에서 사용하는 BGR 형태의 numpy로 변환\n",
    "image = bgr8_to_jpeg(image)  #numpy를 이미지로 변환\n",
    "widget = widgets.Image(format='jpeg', width=300, height=300)\n",
    "widget.value = image\n",
    "display(widget)"
   ]
  },
  {
   "cell_type": "markdown",
   "metadata": {},
   "source": [
    "---\n",
    "<br>"
   ]
  },
  {
   "cell_type": "markdown",
   "metadata": {},
   "source": [
    "# <font color='crimson'>7. 동영상 분류</font>"
   ]
  },
  {
   "cell_type": "markdown",
   "metadata": {},
   "source": [
    "### <font color='darkcyan'>동영상 가져오기</font>"
   ]
  },
  {
   "cell_type": "code",
   "execution_count": 36,
   "metadata": {},
   "outputs": [],
   "source": [
    "input = jetson.utils.videoSource('/usr/share/visionworks/sources/data/pedestrians.mp4')\n",
    "output = jetson.utils.videoOutput('')"
   ]
  },
  {
   "cell_type": "markdown",
   "metadata": {},
   "source": [
    "### <font color='darkcyan'>이미지 출력 위젯 생성</font>"
   ]
  },
  {
   "cell_type": "code",
   "execution_count": 15,
   "metadata": {},
   "outputs": [
    {
     "data": {
      "application/vnd.jupyter.widget-view+json": {
       "model_id": "4fa3c784110a45578779b71b3d8f9778",
       "version_major": 2,
       "version_minor": 0
      },
      "text/plain": [
       "Image(value=b'', format='jpeg', height='300', width='300')"
      ]
     },
     "metadata": {},
     "output_type": "display_data"
    }
   ],
   "source": [
    "widget = widgets.Image(format='jpeg', width=300, height=300)\n",
    "display(widget)"
   ]
  },
  {
   "cell_type": "markdown",
   "metadata": {},
   "source": [
    "### <font color='darkcyan'>모델 가져오기</font>"
   ]
  },
  {
   "cell_type": "code",
   "execution_count": 16,
   "metadata": {},
   "outputs": [],
   "source": [
    "net = jetson.inference.detectNet('ssd-mobilenet-v2', threshold=0.5)"
   ]
  },
  {
   "cell_type": "markdown",
   "metadata": {},
   "source": [
    "### <font color='darkcyan'>예측 & 출력</font>"
   ]
  },
  {
   "cell_type": "code",
   "execution_count": 38,
   "metadata": {},
   "outputs": [],
   "source": [
    "while 1:\n",
    "    try:\n",
    "        frame = input.Capture()\n",
    "        detections = net.Detect(frame)\n",
    "        img_numpy = jetson.utils.cudaToNumpy(frame)\n",
    "        widget.value = bgr8_to_jpeg(img_numpy)\n",
    "\n",
    "    except:\n",
    "        break"
   ]
  },
  {
   "cell_type": "markdown",
   "metadata": {},
   "source": [
    "---\n",
    "<br>"
   ]
  },
  {
   "cell_type": "markdown",
   "metadata": {},
   "source": [
    "# <font color='crimson'>8. 카메라 활용한 분류</font>"
   ]
  },
  {
   "cell_type": "markdown",
   "metadata": {},
   "source": [
    "### <font color='darkcyan'>모델 가져오기</font>"
   ]
  },
  {
   "cell_type": "code",
   "execution_count": 4,
   "metadata": {},
   "outputs": [],
   "source": [
    "net = jetson.inference.detectNet('ssd-mobilenet-v2', threshold=0.5)"
   ]
  },
  {
   "cell_type": "markdown",
   "metadata": {},
   "source": [
    "### <font color='darkcyan'>카메라 설정</font>"
   ]
  },
  {
   "cell_type": "code",
   "execution_count": 5,
   "metadata": {},
   "outputs": [],
   "source": [
    "camera = Camera.instance(width=300, height=300, fps=1)"
   ]
  },
  {
   "cell_type": "markdown",
   "metadata": {},
   "source": [
    "### <font color='darkcyan'>이미지 출력 위젯 설정</font>"
   ]
  },
  {
   "cell_type": "code",
   "execution_count": 6,
   "metadata": {},
   "outputs": [
    {
     "data": {
      "application/vnd.jupyter.widget-view+json": {
       "model_id": "1781a063763543768504635977f8ac72",
       "version_major": 2,
       "version_minor": 0
      },
      "text/plain": [
       "Image(value=b'', format='jpeg', height='300', width='300')"
      ]
     },
     "metadata": {},
     "output_type": "display_data"
    }
   ],
   "source": [
    "widget = widgets.Image(format='jpeg', width=300, height=300)\n",
    "display(widget)"
   ]
  },
  {
   "cell_type": "code",
   "execution_count": 7,
   "metadata": {},
   "outputs": [],
   "source": [
    "while 1:\n",
    "    try:\n",
    "        frame = camera.value\n",
    "        img_cuda = jetson.utils.cudaFromNumpy(frame)\n",
    "        detections = net.Detect(img_cuda, overlay='box,labels,conf')\n",
    "        image = jetson.utils.cudaToNumpy(img_cuda)\n",
    "        #image = cv2.cvtColor(image, cv2.COLOR_RGB2BGR)\n",
    "        widget.value = bgr8_to_jpeg(image)\n",
    "    except KeyboardInterrupt:\n",
    "        break\n",
    "\n",
    "camera.stop()\n",
    "del camera"
   ]
  }
 ],
 "metadata": {
  "kernelspec": {
   "display_name": "Python 3",
   "language": "python",
   "name": "python3"
  },
  "language_info": {
   "codemirror_mode": {
    "name": "ipython",
    "version": 3
   },
   "file_extension": ".py",
   "mimetype": "text/x-python",
   "name": "python",
   "nbconvert_exporter": "python",
   "pygments_lexer": "ipython3",
   "version": "3.6.9"
  }
 },
 "nbformat": 4,
 "nbformat_minor": 4
}
